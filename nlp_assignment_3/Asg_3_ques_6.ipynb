{
 "cells": [
  {
   "cell_type": "markdown",
   "metadata": {},
   "source": [
    "## 6 Short Write Up\n",
    "* The following code tries to firstly get unigram and bigram counts of the sentence. Then calculates the partial derivative and finite difference based on the loglikelihood discussed in the class.\n",
    "* The h value used is 0.000001\n",
    "* The code is almost self explanatory and well organized.\n",
    "* Since there is no mention of explaining the code or submission of the code, there is no detailed explanation of the code being given.\n",
    "* As required two csv files are submitted in the requested format."
   ]
  },
  {
   "cell_type": "code",
   "execution_count": 1,
   "metadata": {},
   "outputs": [],
   "source": [
    "def get_lines_from_file(filename):\n",
    "    f=open(filename,encoding=\"utf-8\")\n",
    "    lines=[x.strip() for x in f]\n",
    "    return lines"
   ]
  },
  {
   "cell_type": "code",
   "execution_count": 2,
   "metadata": {},
   "outputs": [],
   "source": [
    "lines = get_lines_from_file(\"../en_ewt-ud-train.chars.txt\")"
   ]
  },
  {
   "cell_type": "code",
   "execution_count": 3,
   "metadata": {},
   "outputs": [],
   "source": [
    "observed_count={}\n",
    "for i in lines[0]:\n",
    "    if not observed_count.keys():\n",
    "        observed_count[i]=1\n",
    "    elif i not in observed_count.keys():\n",
    "        observed_count[i]=1\n",
    "    else:\n",
    "        observed_count[i]+=1"
   ]
  },
  {
   "cell_type": "code",
   "execution_count": 4,
   "metadata": {},
   "outputs": [
    {
     "name": "stdout",
     "output_type": "stream",
     "text": [
      "39\n"
     ]
    }
   ],
   "source": [
    "#observed_count['B']=1\n",
    "\n",
    "observed_count['U']=0\n",
    "observed_count_dummy=observed_count.copy()\n",
    "\n",
    "observed_count['E']=1\n",
    "print(len(observed_count))"
   ]
  },
  {
   "cell_type": "code",
   "execution_count": 5,
   "metadata": {},
   "outputs": [],
   "source": [
    "bigram_count={}\n",
    "\n",
    "observed_count_dummy['B']=1\n",
    "for i in observed_count_dummy.keys():\n",
    "    for j in observed_count.keys():\n",
    "        bigram_count[(i,j)]=0\n",
    "prev='B'\n",
    "lines[0]=lines[0]+\"E\"\n",
    "for i in lines[0]:\n",
    "    if not bigram_count.keys():\n",
    "        bigram_count[(prev,i)]=1\n",
    "    elif (prev,i) not in bigram_count.keys():\n",
    "        bigram_count[(prev,i)]=1\n",
    "    else:\n",
    "        bigram_count[(prev,i)]+=1\n",
    "    prev=i"
   ]
  },
  {
   "cell_type": "code",
   "execution_count": 6,
   "metadata": {},
   "outputs": [],
   "source": [
    "import numpy as np\n",
    "observed_feature_count=observed_count.copy()\n",
    "expected_feature_count=observed_count.copy()\n",
    "for key,value in expected_feature_count.items():\n",
    "    expected_feature_count[key]=(1/len(observed_count.keys()))*sum(observed_count.values())"
   ]
  },
  {
   "cell_type": "code",
   "execution_count": 7,
   "metadata": {},
   "outputs": [],
   "source": [
    "partial_derivative={}\n",
    "for key,value in observed_count.items():\n",
    "    partial_derivative[key]=observed_count[key]-expected_feature_count[key]"
   ]
  },
  {
   "cell_type": "code",
   "execution_count": 8,
   "metadata": {},
   "outputs": [],
   "source": [
    "import numpy as np\n",
    "finite_difference={}\n",
    "for superkey in observed_count.keys():\n",
    "    sum1=0\n",
    "    sum2=0\n",
    "    denom1=len(observed_count.keys())-1+np.exp(0.000001)\n",
    "    denom2=len(observed_count.keys())-1+np.exp(-0.000001)\n",
    "    for key in observed_count.keys():\n",
    "        if key!=superkey:\n",
    "            sum1+=np.log(1/denom1)*observed_count[key]\n",
    "            sum2+=np.log(1/denom2)*observed_count[key]\n",
    "        else:\n",
    "            sum1+=np.log(np.exp(0.000001)/denom1)*observed_count[key]\n",
    "            sum2+=np.log(np.exp(-0.000001)/denom2)*observed_count[key]\n",
    "    finite_difference[superkey]=(sum1-sum2)/0.000002\n",
    "#finite_difference"
   ]
  },
  {
   "cell_type": "code",
   "execution_count": 9,
   "metadata": {},
   "outputs": [],
   "source": [
    "expected_feature_count_2=observed_count.copy()\n",
    "norm=0\n",
    "for key in expected_feature_count_2.keys():\n",
    "    norm+=np.exp(np.tanh((ord(key)-74)/128))\n",
    "for key,value in expected_feature_count_2.items():\n",
    "    prob=np.exp(np.tanh((ord(key)-74)/128))/norm\n",
    "    expected_feature_count_2[key]=prob*sum(observed_count.values())"
   ]
  },
  {
   "cell_type": "code",
   "execution_count": 10,
   "metadata": {},
   "outputs": [],
   "source": [
    "partial_derivative_2={}\n",
    "for key,value in observed_count.items():\n",
    "    partial_derivative_2[key]=observed_count[key]-expected_feature_count_2[key]"
   ]
  },
  {
   "cell_type": "code",
   "execution_count": 11,
   "metadata": {},
   "outputs": [],
   "source": [
    "import numpy as np\n",
    "finite_difference_2={}\n",
    "norm=0\n",
    "for key in observed_count.keys():\n",
    "        norm+=np.exp(np.tanh((ord(key)-74)/128))\n",
    "        \n",
    "for superkey in observed_count.keys():\n",
    "    sum1=0\n",
    "    sum2=0\n",
    "    \n",
    "    denom1=norm-np.exp(np.tanh((ord(superkey)-74)/128))\n",
    "    denom1+=np.exp(np.tanh((ord(superkey)-74)/128)+0.000001)\n",
    "    \n",
    "    denom2=norm-np.exp(np.tanh((ord(superkey)-74)/128))\n",
    "    denom2+=np.exp(np.tanh((ord(superkey)-74)/128)-0.000001)\n",
    "    \n",
    "    for key in observed_count.keys():\n",
    "        if key!=superkey:\n",
    "            temp=np.exp(np.tanh((ord(key)-74)/128))\n",
    "            prob=temp/denom1\n",
    "            sum1+=np.log(prob)*observed_count[key]\n",
    "            prob=temp/denom2\n",
    "            sum2+=np.log(prob)*observed_count[key]\n",
    "        else:\n",
    "            temp=np.exp(np.tanh((ord(key)-74)/128)+0.000001)\n",
    "            prob=temp/denom1\n",
    "            sum1+=np.log(prob)*observed_count[key]\n",
    "            temp=np.exp(np.tanh((ord(key)-74)/128)-0.000001)\n",
    "            prob=temp/denom2\n",
    "            sum2+=np.log(prob)*observed_count[key]\n",
    "    \n",
    "    finite_difference_2[superkey]=(sum1-sum2)/0.000002\n",
    "#finite_difference_2"
   ]
  },
  {
   "cell_type": "code",
   "execution_count": 12,
   "metadata": {},
   "outputs": [],
   "source": [
    "import pandas as pd\n",
    "features={}\n",
    "for key in observed_count.keys():\n",
    "    features[key]=key\n",
    "features[\" \"]=\"SPACE\"\n",
    "df = pd.DataFrame([features, observed_count]).T\n",
    "df.columns=[\"features\", \"observed_count\"]"
   ]
  },
  {
   "cell_type": "code",
   "execution_count": 13,
   "metadata": {},
   "outputs": [],
   "source": [
    "#New code\n",
    "df[\"features\"]=features.values()\n",
    "df[\"observed_count\"]=observed_count.values()"
   ]
  },
  {
   "cell_type": "code",
   "execution_count": 14,
   "metadata": {},
   "outputs": [],
   "source": [
    "df[\"expected_feature_count_theta_0\"]=expected_feature_count.values()\n",
    "df[\"partial_derivative_theta_0\"]=partial_derivative.values()\n",
    "df[\"finite_difference_theta_0\"]=finite_difference.values()\n",
    "df[\"expected_feature_count_theta_tanh\"]=expected_feature_count_2.values()\n",
    "df[\"partial_derivative_theta_tanh\"]=partial_derivative_2.values()\n",
    "df[\"finite_difference_theta_tanh\"]=finite_difference_2.values()"
   ]
  },
  {
   "cell_type": "code",
   "execution_count": 15,
   "metadata": {},
   "outputs": [],
   "source": [
    "df.to_csv(\"unigram_maxent_results.csv\")"
   ]
  },
  {
   "cell_type": "code",
   "execution_count": 16,
   "metadata": {},
   "outputs": [],
   "source": [
    "for key in observed_count_dummy.keys():\n",
    "    observed_count_dummy[key]=0\n",
    "    \n",
    "for key,value in bigram_count.items():\n",
    "    i,j=key\n",
    "    observed_count_dummy[i]+=value"
   ]
  },
  {
   "cell_type": "code",
   "execution_count": 17,
   "metadata": {},
   "outputs": [],
   "source": [
    "expected_bigram_counts=bigram_count.copy()\n",
    "expected_unigram_count=expected_feature_count.copy()\n",
    "for key,value in bigram_count.items():\n",
    "    i,j=key\n",
    "    expected_bigram_counts[key]=(1/39)*observed_count_dummy[i]"
   ]
  },
  {
   "cell_type": "code",
   "execution_count": 18,
   "metadata": {},
   "outputs": [],
   "source": [
    "partial_derivative_bigrams={}\n",
    "for key,value in expected_bigram_counts.items():\n",
    "    partial_derivative_bigrams[key]=bigram_count[key]-expected_bigram_counts[key]"
   ]
  },
  {
   "cell_type": "code",
   "execution_count": 19,
   "metadata": {},
   "outputs": [],
   "source": [
    "import numpy as np\n",
    "finite_difference_bigram={}\n",
    "for superkey in bigram_count.keys():\n",
    "    I,J=superkey\n",
    "    sum1=0\n",
    "    sum2=0\n",
    "    denom1=len(observed_count_dummy.keys())-1+np.exp(0.00001)\n",
    "    denom2=len(observed_count_dummy.keys())-1+np.exp(-0.00001)\n",
    "    for key in bigram_count.keys():\n",
    "        i,j=key\n",
    "        if i!=I:\n",
    "            continue\n",
    "        if key!=superkey:\n",
    "            sum1+=np.log(1/denom1)*bigram_count[key]\n",
    "            sum2+=np.log(1/denom2)*bigram_count[key]\n",
    "        else:\n",
    "            sum1+=np.log(np.exp(0.00001)/denom1)*bigram_count[key]\n",
    "            sum2+=np.log(np.exp(-0.00001)/denom2)*bigram_count[key]\n",
    "    finite_difference_bigram[superkey]=(sum1-sum2)/0.00002\n",
    "#finite_difference"
   ]
  },
  {
   "cell_type": "code",
   "execution_count": 20,
   "metadata": {},
   "outputs": [],
   "source": [
    "expected_bigram_counts_2=bigram_count.copy()\n",
    "expected_unigram_count_2=expected_feature_count_2.copy()\n",
    "\n",
    "for key,value in bigram_count.items():\n",
    "    i,j=key\n",
    "    norm=0\n",
    "    for sing_key in observed_count_dummy.keys():\n",
    "        norm+=np.exp(np.tanh((ord(sing_key)-ord(i))/128))\n",
    "    prob=np.exp(np.tanh((ord(j)-ord(i))/128))/norm\n",
    "    expected_bigram_counts_2[key]=prob*observed_count_dummy[i]"
   ]
  },
  {
   "cell_type": "code",
   "execution_count": 21,
   "metadata": {},
   "outputs": [],
   "source": [
    "partial_derivative_bigrams_2={}\n",
    "for key,value in expected_bigram_counts.items():\n",
    "    partial_derivative_bigrams_2[key]=bigram_count[key]-expected_bigram_counts_2[key]"
   ]
  },
  {
   "cell_type": "code",
   "execution_count": 22,
   "metadata": {},
   "outputs": [],
   "source": [
    "import numpy as np\n",
    "finite_difference_bigram_2={}\n",
    "norm=0\n",
    "        \n",
    "for superkey in bigram_count.keys():\n",
    "    I,J=superkey\n",
    "    sum1=0\n",
    "    sum2=0\n",
    "    norm=0\n",
    "    for sing_key in observed_count_dummy.keys():\n",
    "        norm+=np.exp(np.tanh((ord(sing_key)-ord(I))/128))\n",
    "        \n",
    "    denom1=norm-np.exp(np.tanh((ord(J)-ord(I))/128))\n",
    "    denom1+=np.exp(np.tanh((ord(J)-ord(I))/128)+0.00001)\n",
    "    \n",
    "    denom2=norm-np.exp(np.tanh((ord(J)-ord(I))/128))\n",
    "    denom2+=np.exp(np.tanh((ord(J)-ord(I))/128)-0.00001)\n",
    "    \n",
    "    for key in bigram_count.keys():\n",
    "        i,j=key\n",
    "        if i!=I:\n",
    "            continue\n",
    "        if key!=superkey:\n",
    "            temp=np.exp(np.tanh((ord(j)-ord(I))/128))\n",
    "            prob=temp/denom1\n",
    "            sum1+=np.log(prob)*bigram_count[key]\n",
    "            prob=temp/denom2\n",
    "            sum2+=np.log(prob)*bigram_count[key]\n",
    "        else:\n",
    "            temp=np.exp(np.tanh((ord(j)-ord(I))/128)+0.00001)\n",
    "            prob=temp/denom1\n",
    "            sum1+=np.log(prob)*bigram_count[key]\n",
    "            temp=np.exp(np.tanh((ord(j)-ord(I))/128)-0.00001)\n",
    "            prob=temp/denom2\n",
    "            sum2+=np.log(prob)*bigram_count[key]\n",
    "    \n",
    "    finite_difference_bigram_2[superkey]=(sum1-sum2)/0.00002\n",
    "#finite_difference_bigram_2"
   ]
  },
  {
   "cell_type": "code",
   "execution_count": 23,
   "metadata": {},
   "outputs": [],
   "source": [
    "import pandas as pd\n",
    "features={}\n",
    "for key in bigram_count.keys():\n",
    "    i=key[0]\n",
    "    j=key[1]\n",
    "    if key[0]==\" \":\n",
    "        i=\"SPACE\"\n",
    "    if key[1]==\" \":\n",
    "        j=\"SPACE\"\n",
    "    features[key]=(i,j)\n",
    "#for key in observed_count_dummy.keys():\n",
    "#    features[key]=key\n",
    "df_2 = pd.DataFrame([features, bigram_count]).T\n",
    "df_2.columns=[\"features\", \"observed_count\"]"
   ]
  },
  {
   "cell_type": "code",
   "execution_count": 24,
   "metadata": {},
   "outputs": [],
   "source": [
    "#New code\n",
    "df_2[\"features\"]=features.values()\n",
    "df_2[\"observed_count\"]=bigram_count.values()"
   ]
  },
  {
   "cell_type": "code",
   "execution_count": 25,
   "metadata": {},
   "outputs": [],
   "source": [
    "df_2[\"expected_feature_count_theta_0\"]=expected_bigram_counts.values()\n",
    "df_2[\"partial_derivative_theta_0\"]=partial_derivative_bigrams.values()\n",
    "df_2[\"finite_difference_theta_0\"]=finite_difference_bigram.values()\n",
    "df_2[\"expected_feature_count_theta_tanh\"]=expected_bigram_counts_2.values()\n",
    "df_2[\"partial_derivative_theta_tanh\"]=partial_derivative_bigrams_2.values()\n",
    "df_2[\"finite_difference_theta_tanh\"]=finite_difference_bigram_2.values()"
   ]
  },
  {
   "cell_type": "code",
   "execution_count": 26,
   "metadata": {},
   "outputs": [],
   "source": [
    "df_2=df_2.append(df)\n",
    "#df_2"
   ]
  },
  {
   "cell_type": "code",
   "execution_count": 27,
   "metadata": {},
   "outputs": [],
   "source": [
    "df_2.to_csv(\"bigram_maxent_results.csv\")"
   ]
  }
 ],
 "metadata": {
  "kernelspec": {
   "display_name": "Python 3",
   "language": "python",
   "name": "python3"
  },
  "language_info": {
   "codemirror_mode": {
    "name": "ipython",
    "version": 3
   },
   "file_extension": ".py",
   "mimetype": "text/x-python",
   "name": "python",
   "nbconvert_exporter": "python",
   "pygments_lexer": "ipython3",
   "version": "3.6.4"
  }
 },
 "nbformat": 4,
 "nbformat_minor": 2
}
