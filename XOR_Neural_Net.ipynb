{
 "cells": [
  {
   "cell_type": "code",
   "execution_count": 91,
   "metadata": {
    "collapsed": true
   },
   "outputs": [],
   "source": [
    "import numpy as np\n",
    "import time\n",
    "import matplotlib.pyplot as plt\n",
    "import seaborn as sns"
   ]
  },
  {
   "cell_type": "markdown",
   "metadata": {},
   "source": [
    "This is a feed forward network with 10 input values(nodes) hidden layer with 10 nodes and a output layer \n",
    "with 10 output values(nodes)\n",
    "##  Initializations\n",
    "Initializing number of samples to 300,\n",
    "number of input nodes to 10,\n",
    "number of nodes in hidden layer to 10,\n",
    "number of output nodes to 10,\n",
    "learning rate to 0.01,\n",
    "momentum to 0.9\n",
    "\n",
    "Note:Learning rate aids in slowing down the gradient descent Momentum provides accelaration to gradient descent \n",
    "    based on previous value of gradient"
   ]
  },
  {
   "cell_type": "code",
   "execution_count": 85,
   "metadata": {},
   "outputs": [],
   "source": [
    "n_samples=300\n",
    "n_hidden=10\n",
    "n_in=10\n",
    "n_out=10\n",
    "\n",
    "learning_rate=0.01\n",
    "momentum=0.9\n",
    "np.random.seed(0)"
   ]
  },
  {
   "cell_type": "markdown",
   "metadata": {},
   "source": [
    "## Activation Functions:\n",
    "The activation function for the hidden layer is tanhx function and the activation function for output layer is sigmoid function\n",
    "\n",
    "## Train Function:\n",
    "This takes a input and corresponding output and the current weights and biases as parameters.\n",
    "The function does forward propagation and finds the error values based on the expected output.\n",
    "Now the gradient values for each weight are calculated by back propagation.\n",
    "The error values at each node are taken as gradient values for biases.\n",
    "\n",
    "## Predict Function\n",
    "This function takes input and predicts the output based on the current weights and biases"
   ]
  },
  {
   "cell_type": "code",
   "execution_count": 86,
   "metadata": {
    "collapsed": true
   },
   "outputs": [],
   "source": [
    "def sigmoid(x):\n",
    "    return 1/(1+np.exp(-x))\n",
    "\n",
    "def tanh_derivative(x):\n",
    "    return 1-np.tanh(x)**2\n",
    "\n",
    "def tanh_prime(x):\n",
    "    return  1 - np.tanh(x)**2\n",
    "\n",
    "\n",
    "def train(_input_,_output_,weights1,weights2,bias1,bias2):\n",
    "    signal1=np.dot(_input_,weights1)+bias1\n",
    "    activated_signal1=np.tanh(signal1)   \n",
    "    \n",
    "    signal2=np.dot(activated_signal1,weights2)+bias2\n",
    "    activated_signal2=sigmoid(signal2)\n",
    "    \n",
    "    E2=activated_signal2-_output_\n",
    "    delta2=E2\n",
    "    delta1=tanh_derivative(signal1)*np.dot(weights2,delta2)\n",
    "    \n",
    "    grad2=np.outer(activated_signal1,delta2)\n",
    "    grad1=np.outer(_input_,delta1)\n",
    "    \n",
    "    loss = -np.mean ( _output_ * np.log(activated_signal2) + (1 - _output_) * np.log(1 - activated_signal2) )\n",
    "    return loss,(grad1,grad2,delta1,delta2)\n",
    "\n",
    "    \n",
    "def predict(_input_,weights1,weights2,bias1,bias2):\n",
    "    signal1=np.dot(_input_,weights1)+bias1\n",
    "    activated_signal1=np.tanh(signal1)\n",
    "    signal2=np.dot(activated_signal1,weights2)+bias2\n",
    "    activated_signal2=sigmoid(signal2)\n",
    "    return (activated_signal2 > 0.5).astype(int)"
   ]
  },
  {
   "cell_type": "markdown",
   "metadata": {},
   "source": [
    "## Initializations\n",
    "The weights for the hidden layer and the output layer are initialized based on random distributions\n",
    "The bias for every layer are initialized to zero\n",
    "The input is initialized using binomial distribution with equal probability to both 0 and 1"
   ]
  },
  {
   "cell_type": "code",
   "execution_count": 73,
   "metadata": {
    "collapsed": true
   },
   "outputs": [],
   "source": [
    "weights1=np.random.normal(scale=0.1,size=(n_in,n_hidden))\n",
    "weights2=np.random.normal(scale=0.1,size=(n_hidden,n_out))\n",
    "\n",
    "bias1=np.zeros(n_hidden)\n",
    "bias2=np.zeros(n_out)\n",
    "\n",
    "_input_=np.random.binomial(1,0.5,(n_samples,n_in))\n",
    "_output_=_input_^1\n",
    "\n",
    "params=[weights1,weights2,bias1,bias2]"
   ]
  },
  {
   "cell_type": "code",
   "execution_count": 88,
   "metadata": {},
   "outputs": [
    {
     "name": "stdout",
     "output_type": "stream",
     "text": [
      "epoch: 0  Loss: 0.000199354938539  Time: 0.04188100000001782\n",
      "epoch: 1  Loss: 0.00019900684806  Time: 0.03744499999999107\n",
      "epoch: 2  Loss: 0.000198659946066  Time: 0.02292699999998149\n",
      "epoch: 3  Loss: 0.000198314226531  Time: 0.02311599999998748\n",
      "epoch: 4  Loss: 0.00019796968347  Time: 0.03273799999999483\n",
      "epoch: 5  Loss: 0.000197626310938  Time: 0.032883999999995694\n",
      "epoch: 6  Loss: 0.000197284103029  Time: 0.022751999999996997\n",
      "epoch: 7  Loss: 0.000196943053878  Time: 0.022990999999990436\n",
      "epoch: 8  Loss: 0.000196603157658  Time: 0.0332170000000076\n",
      "epoch: 9  Loss: 0.000196264408581  Time: 0.031316000000003896\n",
      "epoch: 10  Loss: 0.000195926800897  Time: 0.035251000000016575\n",
      "epoch: 11  Loss: 0.000195590328896  Time: 0.027288999999996122\n",
      "epoch: 12  Loss: 0.000195254986904  Time: 0.03334599999999455\n",
      "epoch: 13  Loss: 0.000194920769284  Time: 0.03335599999999772\n",
      "epoch: 14  Loss: 0.000194587670439  Time: 0.02354600000001028\n",
      "epoch: 15  Loss: 0.000194255684806  Time: 0.03329700000000457\n",
      "epoch: 16  Loss: 0.00019392480686  Time: 0.035129000000011956\n",
      "epoch: 17  Loss: 0.000193595031112  Time: 0.03354300000000876\n",
      "epoch: 18  Loss: 0.00019326635211  Time: 0.03339900000000284\n",
      "epoch: 19  Loss: 0.000192938764436  Time: 0.025745000000000573\n",
      "epoch: 20  Loss: 0.000192612262708  Time: 0.02616899999998168\n",
      "epoch: 21  Loss: 0.00019228684158  Time: 0.03192699999999604\n",
      "epoch: 22  Loss: 0.00019196249574  Time: 0.025227999999998474\n",
      "epoch: 23  Loss: 0.000191639219912  Time: 0.024427000000002863\n",
      "epoch: 24  Loss: 0.000191317008851  Time: 0.03926400000000285\n",
      "epoch: 25  Loss: 0.00019099585735  Time: 0.03313100000002578\n",
      "epoch: 26  Loss: 0.000190675760233  Time: 0.03320600000000695\n",
      "epoch: 27  Loss: 0.000190356712358  Time: 0.02602600000000166\n",
      "epoch: 28  Loss: 0.000190038708618  Time: 0.0332960000000071\n",
      "epoch: 29  Loss: 0.000189721743936  Time: 0.027232000000026346\n",
      "epoch: 30  Loss: 0.00018940581327  Time: 0.022818000000000893\n",
      "epoch: 31  Loss: 0.000189090911609  Time: 0.033141999999998006\n",
      "epoch: 32  Loss: 0.000188777033976  Time: 0.033151000000003705\n",
      "epoch: 33  Loss: 0.000188464175423  Time: 0.022955999999993537\n",
      "epoch: 34  Loss: 0.000188152331036  Time: 0.02387000000001649\n",
      "epoch: 35  Loss: 0.000187841495931  Time: 0.028917000000006965\n",
      "epoch: 36  Loss: 0.000187531665258  Time: 0.039600000000007185\n",
      "epoch: 37  Loss: 0.000187222834193  Time: 0.03758099999998876\n",
      "epoch: 38  Loss: 0.000186914997947  Time: 0.045115000000009786\n",
      "epoch: 39  Loss: 0.000186608151759  Time: 0.05435600000001273\n",
      "epoch: 40  Loss: 0.000186302290899  Time: 0.04632799999998838\n",
      "epoch: 41  Loss: 0.000185997410667  Time: 0.04388099999999895\n",
      "epoch: 42  Loss: 0.000185693506392  Time: 0.036222999999978356\n",
      "epoch: 43  Loss: 0.000185390573434  Time: 0.03293999999999642\n",
      "epoch: 44  Loss: 0.000185088607181  Time: 0.034493000000026086\n",
      "epoch: 45  Loss: 0.000184787603049  Time: 0.031272999999998774\n",
      "epoch: 46  Loss: 0.000184487556486  Time: 0.04059499999999616\n",
      "epoch: 47  Loss: 0.000184188462965  Time: 0.04002699999998072\n",
      "epoch: 48  Loss: 0.000183890317989  Time: 0.04434099999997443\n",
      "epoch: 49  Loss: 0.000183593117089  Time: 0.05333100000001423\n",
      "epoch: 50  Loss: 0.000183296855824  Time: 0.05391699999998423\n",
      "epoch: 51  Loss: 0.000183001529781  Time: 0.03997499999999832\n",
      "epoch: 52  Loss: 0.000182707134574  Time: 0.03878299999999513\n",
      "epoch: 53  Loss: 0.000182413665843  Time: 0.043493000000012216\n",
      "epoch: 54  Loss: 0.000182121119258  Time: 0.04052099999998404\n",
      "epoch: 55  Loss: 0.000181829490512  Time: 0.052007000000003245\n",
      "epoch: 56  Loss: 0.000181538775329  Time: 0.025278999999983398\n",
      "epoch: 57  Loss: 0.000181248969455  Time: 0.03356200000001763\n",
      "epoch: 58  Loss: 0.000180960068666  Time: 0.03129099999998175\n",
      "epoch: 59  Loss: 0.000180672068761  Time: 0.030919000000011465\n",
      "epoch: 60  Loss: 0.000180384965568  Time: 0.026035000000007358\n",
      "epoch: 61  Loss: 0.000180098754936  Time: 0.03413800000001288\n",
      "epoch: 62  Loss: 0.000179813432745  Time: 0.026276999999993222\n",
      "epoch: 63  Loss: 0.000179528994895  Time: 0.027051999999997633\n",
      "epoch: 64  Loss: 0.000179245437315  Time: 0.027277999999995473\n",
      "epoch: 65  Loss: 0.000178962755957  Time: 0.028570000000001983\n",
      "epoch: 66  Loss: 0.000178680946798  Time: 0.028460999999992964\n",
      "epoch: 67  Loss: 0.000178400005839  Time: 0.03222099999999273\n",
      "epoch: 68  Loss: 0.000178119929105  Time: 0.03194499999997902\n",
      "epoch: 69  Loss: 0.000177840712648  Time: 0.04541800000001217\n",
      "epoch: 70  Loss: 0.000177562352539  Time: 0.03045499999998924\n",
      "epoch: 71  Loss: 0.000177284844878  Time: 0.03059200000001283\n",
      "epoch: 72  Loss: 0.000177008185784  Time: 0.03015600000000518\n",
      "epoch: 73  Loss: 0.000176732371402  Time: 0.025363999999996167\n",
      "epoch: 74  Loss: 0.0001764573979  Time: 0.037039999999990414\n",
      "epoch: 75  Loss: 0.000176183261469  Time: 0.028265000000004648\n",
      "epoch: 76  Loss: 0.000175909958321  Time: 0.037588999999996986\n",
      "epoch: 77  Loss: 0.000175637484693  Time: 0.030642999999997755\n",
      "epoch: 78  Loss: 0.000175365836844  Time: 0.02896999999998684\n",
      "epoch: 79  Loss: 0.000175095011054  Time: 0.030261000000024296\n",
      "epoch: 80  Loss: 0.000174825003628  Time: 0.03283700000000067\n",
      "epoch: 81  Loss: 0.00017455581089  Time: 0.032066999999983636\n",
      "epoch: 82  Loss: 0.000174287429187  Time: 0.0318279999999902\n",
      "epoch: 83  Loss: 0.000174019854888  Time: 0.03915600000001973\n",
      "epoch: 84  Loss: 0.000173753084383  Time: 0.035050999999981514\n",
      "epoch: 85  Loss: 0.000173487114085  Time: 0.026550000000014506\n",
      "epoch: 86  Loss: 0.000173221940426  Time: 0.03582700000001182\n",
      "epoch: 87  Loss: 0.00017295755986  Time: 0.02839000000000169\n",
      "epoch: 88  Loss: 0.000172693968862  Time: 0.027532999999976937\n",
      "epoch: 89  Loss: 0.000172431163928  Time: 0.028447999999997364\n",
      "epoch: 90  Loss: 0.000172169141574  Time: 0.03442100000000892\n",
      "epoch: 91  Loss: 0.000171907898337  Time: 0.03253499999999576\n",
      "epoch: 92  Loss: 0.000171647430774  Time: 0.037665000000004056\n",
      "epoch: 93  Loss: 0.000171387735461  Time: 0.02441500000000474\n",
      "epoch: 94  Loss: 0.000171128808997  Time: 0.023779999999987922\n",
      "epoch: 95  Loss: 0.000170870647999  Time: 0.04830200000000673\n",
      "epoch: 96  Loss: 0.000170613249102  Time: 0.025189999999980728\n",
      "epoch: 97  Loss: 0.000170356608964  Time: 0.035985000000010814\n",
      "epoch: 98  Loss: 0.00017010072426  Time: 0.03433899999998857\n",
      "epoch: 99  Loss: 0.000169845591686  Time: 0.03986600000001772\n",
      "XOR prediction:\n",
      "[1 1 1 1 0 0 0 1 1 1]\n",
      "[0 0 0 0 1 1 1 0 0 0]\n"
     ]
    }
   ],
   "source": [
    "mean_errors=[]\n",
    "for epoch in range(100):\n",
    "    error=[]\n",
    "    upd=[0]*len(params)\n",
    "    t0=time.clock()\n",
    "    \n",
    "    for i in range(n_samples):\n",
    "        loss,grad=train(_input_[i],_output_[i],*params)\n",
    "        \n",
    "        for j in range(len(params)):\n",
    "            params[j]-= upd[j]\n",
    "            \n",
    "        for j in range(len(params)):         \n",
    "            upd[j]=learning_rate*grad[j]+momentum*upd[j]\n",
    "            \n",
    "        error.append(loss)\n",
    "       \n",
    "    print(\"epoch:\",epoch,\" Loss:\",np.mean(error),\" Time:\", time.clock()-t0)\n",
    "    mean_errors.append(np.mean(error))\n",
    "x = np.random.binomial(1, 0.5, n_in)\n",
    "print(\"XOR prediction:\")\n",
    "print(x)\n",
    "print(predict(x, *params))   \n",
    "    "
   ]
  },
  {
   "cell_type": "markdown",
   "metadata": {},
   "source": [
    "## Plot of Error values\n",
    "The below graph shows how the error value was being reduced over time"
   ]
  },
  {
   "cell_type": "code",
   "execution_count": 101,
   "metadata": {},
   "outputs": [
    {
     "data": {
      "image/png": "[encoded data removed]",
      "text/plain": [
       "<matplotlib.figure.Figure at 0x7f8e0e255c18>"
      ]
     },
     "metadata": {},
     "output_type": "display_data"
    }
   ],
   "source": [
    "sns.set_style(\"darkgrid\")\n",
    "plt.plot(range(100),mean_errors)\n",
    "plt.xlabel(\"Epoch\")\n",
    "plt.ylabel(\"Error_Value\")\n",
    "plt.title(\"Plot of Error vs Epoch\")\n",
    "plt.show()"
   ]
  },
  {
   "cell_type": "code",
   "execution_count": null,
   "metadata": {
    "collapsed": true
   },
   "outputs": [],
   "source": []
  }
 ],
 "metadata": {
  "kernelspec": {
   "display_name": "Python 3",
   "language": "python",
   "name": "python3"
  },
  "language_info": {
   "codemirror_mode": {
    "name": "ipython",
    "version": 3
   },
   "file_extension": ".py",
   "mimetype": "text/x-python",
   "name": "python",
   "nbconvert_exporter": "python",
   "pygments_lexer": "ipython3",
   "version": "3.6.1"
  }
 },
 "nbformat": 4,
 "nbformat_minor": 2
}
