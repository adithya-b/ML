{
 "cells": [
  {
   "cell_type": "markdown",
   "metadata": {},
   "source": [
    "## Introducing the question \n",
    "\n",
    "* Given Data describing attributes of different customers for Glassdoor, Can we derive any insights regarding the same which would be useful for the  company?\n",
    "\n",
    "### who benefits from it and what's the benefit\n",
    "\n",
    "**Glassdoor** through targeting the specific Customers For Monetization\n",
    "\n",
    "**And Hopefully Customers** after they avail Glassdoor Services"
   ]
  },
  {
   "cell_type": "markdown",
   "metadata": {},
   "source": [
    "### Reason for Choosing This Task\n",
    "* I wanted to simulate the situation that would occur once I start the Data Scientist Job."
   ]
  },
  {
   "cell_type": "markdown",
   "metadata": {},
   "source": [
    "### Description Of Data\n",
    "\n",
    "**employerId** \n",
    "\n",
    "* Uniquely identifiable key for each employer, anonymized and randomized for legal purposes.\n",
    "\n",
    "**employeesTotalNum** \n",
    "* Number of employees of the employer monthOfSignupPageViews Number of pageviews that the employer profile received\n",
    "\n",
    "**clicks** \n",
    "* Number of clicks the employer profile received industry Industry of the employer\n",
    "\n",
    "**ATS__c** \n",
    "* The name of the applicant tracking system (ATS) used by the employer, or ‘UNKNOWN’ if they do not have one\n",
    "\n",
    "**timeOnSite**\n",
    "* Number of days the employer has had an FEA\n",
    "\n",
    "**hasInterviews** \n",
    "* Whether or not the employer has interviews on their profile\n",
    "\n",
    "**starRating** \n",
    "* The employer’s star rating\n",
    "\n",
    "**numJobs** \n",
    "* Number of open jobs the employer has\n",
    "\n",
    "**subsidiary** \n",
    "* Whether the employer is a subsidiary of a parent company\n",
    "\n",
    "**awards** \n",
    "* Number of awards the employer has won\n",
    "**contentCount**\n",
    "* Number of reviews and interviews an employer has\n",
    "\n",
    "**freshContent**\n",
    "* Number of reviews and interviews in the past 3 months\n",
    "\n",
    "**followers**\n",
    "* Number of followers the employer has\n",
    "\n",
    "**photos**\n",
    "* Number of photos the employer has\n",
    "\n",
    "**intDifficulty**\n",
    "* Average difficulty of the employer’s interviews (ranges from 1-5)\n",
    "\n",
    "**intDuration** \n",
    "* Average number of days the employer’s interviews take\n",
    "\n",
    "**basePayAmount** \n",
    "* Average salary based on reviews\n",
    "\n",
    "**respondedContacts** \n",
    "* Number of contacts linked to the account that responded\n",
    "\n",
    "**isWon** \n",
    "* Indicates whether an account has converted to a paying client."
   ]
  },
  {
   "cell_type": "markdown",
   "metadata": {},
   "source": [
    "### Challenge\n",
    "\n",
    "* To build a model for predicting Potential Paying Clients in Future."
   ]
  },
  {
   "cell_type": "markdown",
   "metadata": {},
   "source": [
    "## Let's Get Started"
   ]
  },
  {
   "cell_type": "code",
   "execution_count": 1,
   "metadata": {},
   "outputs": [],
   "source": [
    "import pandas as pd\n",
    "import warnings\n",
    "warnings.filterwarnings('ignore')"
   ]
  },
  {
   "cell_type": "code",
   "execution_count": 2,
   "metadata": {},
   "outputs": [],
   "source": [
    "glassdoor_data=pd.read_csv(\"data_challenge_traindata.csv\")"
   ]
  },
  {
   "cell_type": "markdown",
   "metadata": {},
   "source": [
    "## Know about the data through descriptive analysis:\n",
    "Functions/Attributes used:\n",
    "* head:to know few samples of data\n",
    "* columns:to specify the columns in data\n",
    "* info:to know about characteristics of each column\n",
    "* describe: to know about the stats of each column"
   ]
  },
  {
   "cell_type": "code",
   "execution_count": 3,
   "metadata": {},
   "outputs": [
    {
     "data": {
      "text/html": [
       "<div>\n",
       "<style scoped>\n",
       "    .dataframe tbody tr th:only-of-type {\n",
       "        vertical-align: middle;\n",
       "    }\n",
       "\n",
       "    .dataframe tbody tr th {\n",
       "        vertical-align: top;\n",
       "    }\n",
       "\n",
       "    .dataframe thead th {\n",
       "        text-align: right;\n",
       "    }\n",
       "</style>\n",
       "<table border=\"1\" class=\"dataframe\">\n",
       "  <thead>\n",
       "    <tr style=\"text-align: right;\">\n",
       "      <th></th>\n",
       "      <th>Unnamed: 0</th>\n",
       "      <th>ATS__c</th>\n",
       "      <th>Industry</th>\n",
       "      <th>numJobs</th>\n",
       "      <th>awards</th>\n",
       "      <th>contentCount</th>\n",
       "      <th>followers</th>\n",
       "      <th>freshContent</th>\n",
       "      <th>photos</th>\n",
       "      <th>starRating</th>\n",
       "      <th>...</th>\n",
       "      <th>timeOnSite</th>\n",
       "      <th>intDifficulty</th>\n",
       "      <th>intDuration</th>\n",
       "      <th>has_interviews</th>\n",
       "      <th>basePayAmount</th>\n",
       "      <th>subsidiary</th>\n",
       "      <th>employeesTotalNum</th>\n",
       "      <th>RespondedContacts</th>\n",
       "      <th>employerId</th>\n",
       "      <th>isWon</th>\n",
       "    </tr>\n",
       "  </thead>\n",
       "  <tbody>\n",
       "    <tr>\n",
       "      <th>0</th>\n",
       "      <td>0</td>\n",
       "      <td>CustomCrawl</td>\n",
       "      <td>Manufacturing</td>\n",
       "      <td>39.0</td>\n",
       "      <td>0.0</td>\n",
       "      <td>24.0</td>\n",
       "      <td>56.0</td>\n",
       "      <td>2.0</td>\n",
       "      <td>0.0</td>\n",
       "      <td>3.111111</td>\n",
       "      <td>...</td>\n",
       "      <td>0</td>\n",
       "      <td>2.5</td>\n",
       "      <td>33.0</td>\n",
       "      <td>1</td>\n",
       "      <td>53558.0</td>\n",
       "      <td>0</td>\n",
       "      <td>760.0</td>\n",
       "      <td>NaN</td>\n",
       "      <td>EKETL</td>\n",
       "      <td>False</td>\n",
       "    </tr>\n",
       "    <tr>\n",
       "      <th>1</th>\n",
       "      <td>1</td>\n",
       "      <td>other</td>\n",
       "      <td>Advertising &amp; Marketing</td>\n",
       "      <td>1.0</td>\n",
       "      <td>0.0</td>\n",
       "      <td>24.0</td>\n",
       "      <td>30.0</td>\n",
       "      <td>0.0</td>\n",
       "      <td>0.0</td>\n",
       "      <td>4.400000</td>\n",
       "      <td>...</td>\n",
       "      <td>582</td>\n",
       "      <td>2.7</td>\n",
       "      <td>11.0</td>\n",
       "      <td>1</td>\n",
       "      <td>57150.0</td>\n",
       "      <td>0</td>\n",
       "      <td>25.0</td>\n",
       "      <td>2.0</td>\n",
       "      <td>oKs80</td>\n",
       "      <td>False</td>\n",
       "    </tr>\n",
       "    <tr>\n",
       "      <th>2</th>\n",
       "      <td>2</td>\n",
       "      <td>greenhouse</td>\n",
       "      <td>Retail</td>\n",
       "      <td>45.0</td>\n",
       "      <td>30.0</td>\n",
       "      <td>314.0</td>\n",
       "      <td>704.0</td>\n",
       "      <td>40.0</td>\n",
       "      <td>38.0</td>\n",
       "      <td>3.008850</td>\n",
       "      <td>...</td>\n",
       "      <td>902</td>\n",
       "      <td>2.4</td>\n",
       "      <td>11.0</td>\n",
       "      <td>1</td>\n",
       "      <td>74585.0</td>\n",
       "      <td>0</td>\n",
       "      <td>350.0</td>\n",
       "      <td>8.0</td>\n",
       "      <td>TCfko</td>\n",
       "      <td>False</td>\n",
       "    </tr>\n",
       "    <tr>\n",
       "      <th>3</th>\n",
       "      <td>3</td>\n",
       "      <td>UNKNOWN</td>\n",
       "      <td>Business Services</td>\n",
       "      <td>0.0</td>\n",
       "      <td>0.0</td>\n",
       "      <td>2.0</td>\n",
       "      <td>6.0</td>\n",
       "      <td>0.0</td>\n",
       "      <td>0.0</td>\n",
       "      <td>4.000000</td>\n",
       "      <td>...</td>\n",
       "      <td>0</td>\n",
       "      <td>NaN</td>\n",
       "      <td>NaN</td>\n",
       "      <td>0</td>\n",
       "      <td>44733.0</td>\n",
       "      <td>0</td>\n",
       "      <td>400.0</td>\n",
       "      <td>NaN</td>\n",
       "      <td>1XXgK</td>\n",
       "      <td>False</td>\n",
       "    </tr>\n",
       "    <tr>\n",
       "      <th>4</th>\n",
       "      <td>4</td>\n",
       "      <td>UNKNOWN</td>\n",
       "      <td>NaN</td>\n",
       "      <td>0.0</td>\n",
       "      <td>0.0</td>\n",
       "      <td>6.0</td>\n",
       "      <td>14.0</td>\n",
       "      <td>0.0</td>\n",
       "      <td>0.0</td>\n",
       "      <td>3.000000</td>\n",
       "      <td>...</td>\n",
       "      <td>0</td>\n",
       "      <td>NaN</td>\n",
       "      <td>NaN</td>\n",
       "      <td>0</td>\n",
       "      <td>38285.0</td>\n",
       "      <td>0</td>\n",
       "      <td>40.0</td>\n",
       "      <td>NaN</td>\n",
       "      <td>ZKTxw</td>\n",
       "      <td>False</td>\n",
       "    </tr>\n",
       "  </tbody>\n",
       "</table>\n",
       "<p>5 rows × 22 columns</p>\n",
       "</div>"
      ],
      "text/plain": [
       "   Unnamed: 0       ATS__c                 Industry  numJobs  awards  \\\n",
       "0           0  CustomCrawl            Manufacturing     39.0     0.0   \n",
       "1           1        other  Advertising & Marketing      1.0     0.0   \n",
       "2           2   greenhouse                   Retail     45.0    30.0   \n",
       "3           3      UNKNOWN        Business Services      0.0     0.0   \n",
       "4           4      UNKNOWN                      NaN      0.0     0.0   \n",
       "\n",
       "   contentCount  followers  freshContent  photos  starRating  ...    \\\n",
       "0          24.0       56.0           2.0     0.0    3.111111  ...     \n",
       "1          24.0       30.0           0.0     0.0    4.400000  ...     \n",
       "2         314.0      704.0          40.0    38.0    3.008850  ...     \n",
       "3           2.0        6.0           0.0     0.0    4.000000  ...     \n",
       "4           6.0       14.0           0.0     0.0    3.000000  ...     \n",
       "\n",
       "   timeOnSite  intDifficulty  intDuration  has_interviews  basePayAmount  \\\n",
       "0           0            2.5         33.0               1        53558.0   \n",
       "1         582            2.7         11.0               1        57150.0   \n",
       "2         902            2.4         11.0               1        74585.0   \n",
       "3           0            NaN          NaN               0        44733.0   \n",
       "4           0            NaN          NaN               0        38285.0   \n",
       "\n",
       "   subsidiary  employeesTotalNum  RespondedContacts  employerId  isWon  \n",
       "0           0              760.0                NaN       EKETL  False  \n",
       "1           0               25.0                2.0       oKs80  False  \n",
       "2           0              350.0                8.0       TCfko  False  \n",
       "3           0              400.0                NaN       1XXgK  False  \n",
       "4           0               40.0                NaN       ZKTxw  False  \n",
       "\n",
       "[5 rows x 22 columns]"
      ]
     },
     "execution_count": 3,
     "metadata": {},
     "output_type": "execute_result"
    }
   ],
   "source": [
    "glassdoor_data.head()"
   ]
  },
  {
   "cell_type": "code",
   "execution_count": 4,
   "metadata": {},
   "outputs": [
    {
     "name": "stdout",
     "output_type": "stream",
     "text": [
      "<class 'pandas.core.frame.DataFrame'>\n",
      "RangeIndex: 16901 entries, 0 to 16900\n",
      "Data columns (total 22 columns):\n",
      "Unnamed: 0                16901 non-null int64\n",
      "ATS__c                    16897 non-null object\n",
      "Industry                  16299 non-null object\n",
      "numJobs                   16901 non-null float64\n",
      "awards                    13609 non-null float64\n",
      "contentCount              13609 non-null float64\n",
      "followers                 13609 non-null float64\n",
      "freshContent              13609 non-null float64\n",
      "photos                    13609 non-null float64\n",
      "starRating                12945 non-null float64\n",
      "clicks                    10864 non-null float64\n",
      "monthOfSignupPageViews    12193 non-null float64\n",
      "timeOnSite                16901 non-null int64\n",
      "intDifficulty             14062 non-null float64\n",
      "intDuration               13752 non-null float64\n",
      "has_interviews            16901 non-null int64\n",
      "basePayAmount             16901 non-null float64\n",
      "subsidiary                16901 non-null int64\n",
      "employeesTotalNum         16729 non-null float64\n",
      "RespondedContacts         14227 non-null float64\n",
      "employerId                16901 non-null object\n",
      "isWon                     16901 non-null bool\n",
      "dtypes: bool(1), float64(14), int64(4), object(3)\n",
      "memory usage: 2.7+ MB\n"
     ]
    }
   ],
   "source": [
    "glassdoor_data.info()"
   ]
  },
  {
   "cell_type": "markdown",
   "metadata": {},
   "source": [
    "**Need to Convert the object data type Variables to String as pandas does not do it by default anymore**"
   ]
  },
  {
   "cell_type": "code",
   "execution_count": 5,
   "metadata": {},
   "outputs": [
    {
     "data": {
      "text/html": [
       "<div>\n",
       "<style scoped>\n",
       "    .dataframe tbody tr th:only-of-type {\n",
       "        vertical-align: middle;\n",
       "    }\n",
       "\n",
       "    .dataframe tbody tr th {\n",
       "        vertical-align: top;\n",
       "    }\n",
       "\n",
       "    .dataframe thead th {\n",
       "        text-align: right;\n",
       "    }\n",
       "</style>\n",
       "<table border=\"1\" class=\"dataframe\">\n",
       "  <thead>\n",
       "    <tr style=\"text-align: right;\">\n",
       "      <th></th>\n",
       "      <th>Unnamed: 0</th>\n",
       "      <th>numJobs</th>\n",
       "      <th>awards</th>\n",
       "      <th>contentCount</th>\n",
       "      <th>followers</th>\n",
       "      <th>freshContent</th>\n",
       "      <th>photos</th>\n",
       "      <th>starRating</th>\n",
       "      <th>clicks</th>\n",
       "      <th>monthOfSignupPageViews</th>\n",
       "      <th>timeOnSite</th>\n",
       "      <th>intDifficulty</th>\n",
       "      <th>intDuration</th>\n",
       "      <th>has_interviews</th>\n",
       "      <th>basePayAmount</th>\n",
       "      <th>subsidiary</th>\n",
       "      <th>employeesTotalNum</th>\n",
       "      <th>RespondedContacts</th>\n",
       "      <th>isWon</th>\n",
       "    </tr>\n",
       "  </thead>\n",
       "  <tbody>\n",
       "    <tr>\n",
       "      <th>count</th>\n",
       "      <td>16901.000000</td>\n",
       "      <td>16901.000000</td>\n",
       "      <td>13609.000000</td>\n",
       "      <td>13609.000000</td>\n",
       "      <td>13609.000000</td>\n",
       "      <td>13609.000000</td>\n",
       "      <td>13609.000000</td>\n",
       "      <td>12945.000000</td>\n",
       "      <td>10864.000000</td>\n",
       "      <td>12193.000000</td>\n",
       "      <td>16901.000000</td>\n",
       "      <td>14062.000000</td>\n",
       "      <td>13752.000000</td>\n",
       "      <td>16901.000000</td>\n",
       "      <td>1.690100e+04</td>\n",
       "      <td>16901.000000</td>\n",
       "      <td>1.672900e+04</td>\n",
       "      <td>14227.000000</td>\n",
       "      <td>16901.000000</td>\n",
       "    </tr>\n",
       "    <tr>\n",
       "      <th>mean</th>\n",
       "      <td>8450.000000</td>\n",
       "      <td>66.693983</td>\n",
       "      <td>2.211478</td>\n",
       "      <td>149.650231</td>\n",
       "      <td>644.424572</td>\n",
       "      <td>16.384598</td>\n",
       "      <td>8.342273</td>\n",
       "      <td>3.367642</td>\n",
       "      <td>613.310751</td>\n",
       "      <td>2675.538096</td>\n",
       "      <td>398.939885</td>\n",
       "      <td>2.621483</td>\n",
       "      <td>18.362784</td>\n",
       "      <td>0.813680</td>\n",
       "      <td>9.223800e+04</td>\n",
       "      <td>0.075498</td>\n",
       "      <td>3.661626e+03</td>\n",
       "      <td>5.378295</td>\n",
       "      <td>0.109165</td>\n",
       "    </tr>\n",
       "    <tr>\n",
       "      <th>std</th>\n",
       "      <td>4879.042785</td>\n",
       "      <td>623.519998</td>\n",
       "      <td>6.655477</td>\n",
       "      <td>859.193170</td>\n",
       "      <td>7974.777471</td>\n",
       "      <td>73.074426</td>\n",
       "      <td>22.428202</td>\n",
       "      <td>0.821787</td>\n",
       "      <td>2405.744225</td>\n",
       "      <td>12248.281479</td>\n",
       "      <td>390.476990</td>\n",
       "      <td>0.609746</td>\n",
       "      <td>16.532326</td>\n",
       "      <td>0.389376</td>\n",
       "      <td>9.493495e+05</td>\n",
       "      <td>0.264202</td>\n",
       "      <td>2.387338e+04</td>\n",
       "      <td>13.542732</td>\n",
       "      <td>0.311856</td>\n",
       "    </tr>\n",
       "    <tr>\n",
       "      <th>min</th>\n",
       "      <td>0.000000</td>\n",
       "      <td>0.000000</td>\n",
       "      <td>0.000000</td>\n",
       "      <td>0.000000</td>\n",
       "      <td>0.000000</td>\n",
       "      <td>0.000000</td>\n",
       "      <td>0.000000</td>\n",
       "      <td>1.000000</td>\n",
       "      <td>1.000000</td>\n",
       "      <td>0.000000</td>\n",
       "      <td>-396.000000</td>\n",
       "      <td>1.000000</td>\n",
       "      <td>1.000000</td>\n",
       "      <td>0.000000</td>\n",
       "      <td>0.000000e+00</td>\n",
       "      <td>0.000000</td>\n",
       "      <td>1.000000e+00</td>\n",
       "      <td>0.000000</td>\n",
       "      <td>0.000000</td>\n",
       "    </tr>\n",
       "    <tr>\n",
       "      <th>25%</th>\n",
       "      <td>4225.000000</td>\n",
       "      <td>0.000000</td>\n",
       "      <td>0.000000</td>\n",
       "      <td>12.000000</td>\n",
       "      <td>32.000000</td>\n",
       "      <td>2.000000</td>\n",
       "      <td>0.000000</td>\n",
       "      <td>2.833333</td>\n",
       "      <td>43.000000</td>\n",
       "      <td>244.000000</td>\n",
       "      <td>41.000000</td>\n",
       "      <td>2.300000</td>\n",
       "      <td>8.000000</td>\n",
       "      <td>1.000000</td>\n",
       "      <td>3.830500e+04</td>\n",
       "      <td>0.000000</td>\n",
       "      <td>1.250000e+02</td>\n",
       "      <td>1.000000</td>\n",
       "      <td>0.000000</td>\n",
       "    </tr>\n",
       "    <tr>\n",
       "      <th>50%</th>\n",
       "      <td>8450.000000</td>\n",
       "      <td>6.000000</td>\n",
       "      <td>0.000000</td>\n",
       "      <td>32.000000</td>\n",
       "      <td>82.000000</td>\n",
       "      <td>4.000000</td>\n",
       "      <td>0.000000</td>\n",
       "      <td>3.307692</td>\n",
       "      <td>137.000000</td>\n",
       "      <td>655.000000</td>\n",
       "      <td>300.000000</td>\n",
       "      <td>2.700000</td>\n",
       "      <td>14.000000</td>\n",
       "      <td>1.000000</td>\n",
       "      <td>5.501600e+04</td>\n",
       "      <td>0.000000</td>\n",
       "      <td>3.500000e+02</td>\n",
       "      <td>3.000000</td>\n",
       "      <td>0.000000</td>\n",
       "    </tr>\n",
       "    <tr>\n",
       "      <th>75%</th>\n",
       "      <td>12675.000000</td>\n",
       "      <td>25.000000</td>\n",
       "      <td>2.000000</td>\n",
       "      <td>84.000000</td>\n",
       "      <td>234.000000</td>\n",
       "      <td>12.000000</td>\n",
       "      <td>10.000000</td>\n",
       "      <td>3.915509</td>\n",
       "      <td>402.000000</td>\n",
       "      <td>1781.000000</td>\n",
       "      <td>701.000000</td>\n",
       "      <td>3.000000</td>\n",
       "      <td>23.000000</td>\n",
       "      <td>1.000000</td>\n",
       "      <td>7.610700e+04</td>\n",
       "      <td>0.000000</td>\n",
       "      <td>1.300000e+03</td>\n",
       "      <td>5.000000</td>\n",
       "      <td>0.000000</td>\n",
       "    </tr>\n",
       "    <tr>\n",
       "      <th>max</th>\n",
       "      <td>16900.000000</td>\n",
       "      <td>47741.000000</td>\n",
       "      <td>144.000000</td>\n",
       "      <td>38826.000000</td>\n",
       "      <td>600948.000000</td>\n",
       "      <td>3060.000000</td>\n",
       "      <td>1196.000000</td>\n",
       "      <td>5.000000</td>\n",
       "      <td>76667.000000</td>\n",
       "      <td>726540.000000</td>\n",
       "      <td>1700.000000</td>\n",
       "      <td>5.000000</td>\n",
       "      <td>365.000000</td>\n",
       "      <td>1.000000</td>\n",
       "      <td>9.600000e+07</td>\n",
       "      <td>1.000000</td>\n",
       "      <td>1.900000e+06</td>\n",
       "      <td>780.000000</td>\n",
       "      <td>1.000000</td>\n",
       "    </tr>\n",
       "  </tbody>\n",
       "</table>\n",
       "</div>"
      ],
      "text/plain": [
       "         Unnamed: 0       numJobs        awards  contentCount      followers  \\\n",
       "count  16901.000000  16901.000000  13609.000000  13609.000000   13609.000000   \n",
       "mean    8450.000000     66.693983      2.211478    149.650231     644.424572   \n",
       "std     4879.042785    623.519998      6.655477    859.193170    7974.777471   \n",
       "min        0.000000      0.000000      0.000000      0.000000       0.000000   \n",
       "25%     4225.000000      0.000000      0.000000     12.000000      32.000000   \n",
       "50%     8450.000000      6.000000      0.000000     32.000000      82.000000   \n",
       "75%    12675.000000     25.000000      2.000000     84.000000     234.000000   \n",
       "max    16900.000000  47741.000000    144.000000  38826.000000  600948.000000   \n",
       "\n",
       "       freshContent        photos    starRating        clicks  \\\n",
       "count  13609.000000  13609.000000  12945.000000  10864.000000   \n",
       "mean      16.384598      8.342273      3.367642    613.310751   \n",
       "std       73.074426     22.428202      0.821787   2405.744225   \n",
       "min        0.000000      0.000000      1.000000      1.000000   \n",
       "25%        2.000000      0.000000      2.833333     43.000000   \n",
       "50%        4.000000      0.000000      3.307692    137.000000   \n",
       "75%       12.000000     10.000000      3.915509    402.000000   \n",
       "max     3060.000000   1196.000000      5.000000  76667.000000   \n",
       "\n",
       "       monthOfSignupPageViews    timeOnSite  intDifficulty   intDuration  \\\n",
       "count            12193.000000  16901.000000   14062.000000  13752.000000   \n",
       "mean              2675.538096    398.939885       2.621483     18.362784   \n",
       "std              12248.281479    390.476990       0.609746     16.532326   \n",
       "min                  0.000000   -396.000000       1.000000      1.000000   \n",
       "25%                244.000000     41.000000       2.300000      8.000000   \n",
       "50%                655.000000    300.000000       2.700000     14.000000   \n",
       "75%               1781.000000    701.000000       3.000000     23.000000   \n",
       "max             726540.000000   1700.000000       5.000000    365.000000   \n",
       "\n",
       "       has_interviews  basePayAmount    subsidiary  employeesTotalNum  \\\n",
       "count    16901.000000   1.690100e+04  16901.000000       1.672900e+04   \n",
       "mean         0.813680   9.223800e+04      0.075498       3.661626e+03   \n",
       "std          0.389376   9.493495e+05      0.264202       2.387338e+04   \n",
       "min          0.000000   0.000000e+00      0.000000       1.000000e+00   \n",
       "25%          1.000000   3.830500e+04      0.000000       1.250000e+02   \n",
       "50%          1.000000   5.501600e+04      0.000000       3.500000e+02   \n",
       "75%          1.000000   7.610700e+04      0.000000       1.300000e+03   \n",
       "max          1.000000   9.600000e+07      1.000000       1.900000e+06   \n",
       "\n",
       "       RespondedContacts         isWon  \n",
       "count       14227.000000  16901.000000  \n",
       "mean            5.378295      0.109165  \n",
       "std            13.542732      0.311856  \n",
       "min             0.000000      0.000000  \n",
       "25%             1.000000      0.000000  \n",
       "50%             3.000000      0.000000  \n",
       "75%             5.000000      0.000000  \n",
       "max           780.000000      1.000000  "
      ]
     },
     "execution_count": 5,
     "metadata": {},
     "output_type": "execute_result"
    }
   ],
   "source": [
    "glassdoor_data[\"ATS__c\"]=glassdoor_data.ATS__c.astype(str).copy()\n",
    "glassdoor_data[\"Industry\"]=glassdoor_data.ATS__c.astype(str).copy()\n",
    "glassdoor_data[\"employerId\"]=glassdoor_data.ATS__c.astype(str).copy()\n",
    "glassdoor_data[\"isWon\"]=glassdoor_data.isWon.astype(int).copy()\n",
    "glassdoor_data.describe()"
   ]
  },
  {
   "cell_type": "markdown",
   "metadata": {},
   "source": [
    "**Drop Unnecessary Data**\n",
    "\n",
    "* We are dropping the columns employedId and Unnamed.\n",
    "* The reason for dropping \"Unnamed\" is that it is an extra index on the dataframe\n",
    "* The reason for dropping \"employedId\" is that it is just a number given to identify each entity and it's value does not correspond to anything tangible."
   ]
  },
  {
   "cell_type": "code",
   "execution_count": 6,
   "metadata": {},
   "outputs": [],
   "source": [
    "glassdoor_data=glassdoor_data.drop(columns=[\"Unnamed: 0\"])"
   ]
  },
  {
   "cell_type": "code",
   "execution_count": 7,
   "metadata": {},
   "outputs": [
    {
     "data": {
      "text/html": [
       "<div>\n",
       "<style scoped>\n",
       "    .dataframe tbody tr th:only-of-type {\n",
       "        vertical-align: middle;\n",
       "    }\n",
       "\n",
       "    .dataframe tbody tr th {\n",
       "        vertical-align: top;\n",
       "    }\n",
       "\n",
       "    .dataframe thead th {\n",
       "        text-align: right;\n",
       "    }\n",
       "</style>\n",
       "<table border=\"1\" class=\"dataframe\">\n",
       "  <thead>\n",
       "    <tr style=\"text-align: right;\">\n",
       "      <th></th>\n",
       "      <th>ATS__c</th>\n",
       "      <th>Industry</th>\n",
       "      <th>numJobs</th>\n",
       "      <th>awards</th>\n",
       "      <th>contentCount</th>\n",
       "      <th>followers</th>\n",
       "      <th>freshContent</th>\n",
       "      <th>photos</th>\n",
       "      <th>starRating</th>\n",
       "      <th>clicks</th>\n",
       "      <th>...</th>\n",
       "      <th>timeOnSite</th>\n",
       "      <th>intDifficulty</th>\n",
       "      <th>intDuration</th>\n",
       "      <th>has_interviews</th>\n",
       "      <th>basePayAmount</th>\n",
       "      <th>subsidiary</th>\n",
       "      <th>employeesTotalNum</th>\n",
       "      <th>RespondedContacts</th>\n",
       "      <th>employerId</th>\n",
       "      <th>isWon</th>\n",
       "    </tr>\n",
       "  </thead>\n",
       "  <tbody>\n",
       "    <tr>\n",
       "      <th>0</th>\n",
       "      <td>CustomCrawl</td>\n",
       "      <td>CustomCrawl</td>\n",
       "      <td>39.0</td>\n",
       "      <td>0.0</td>\n",
       "      <td>24.0</td>\n",
       "      <td>56.0</td>\n",
       "      <td>2.0</td>\n",
       "      <td>0.0</td>\n",
       "      <td>3.111111</td>\n",
       "      <td>133.0</td>\n",
       "      <td>...</td>\n",
       "      <td>0</td>\n",
       "      <td>2.5</td>\n",
       "      <td>33.0</td>\n",
       "      <td>1</td>\n",
       "      <td>53558.0</td>\n",
       "      <td>0</td>\n",
       "      <td>760.0</td>\n",
       "      <td>NaN</td>\n",
       "      <td>CustomCrawl</td>\n",
       "      <td>0</td>\n",
       "    </tr>\n",
       "    <tr>\n",
       "      <th>1</th>\n",
       "      <td>other</td>\n",
       "      <td>other</td>\n",
       "      <td>1.0</td>\n",
       "      <td>0.0</td>\n",
       "      <td>24.0</td>\n",
       "      <td>30.0</td>\n",
       "      <td>0.0</td>\n",
       "      <td>0.0</td>\n",
       "      <td>4.400000</td>\n",
       "      <td>1.0</td>\n",
       "      <td>...</td>\n",
       "      <td>582</td>\n",
       "      <td>2.7</td>\n",
       "      <td>11.0</td>\n",
       "      <td>1</td>\n",
       "      <td>57150.0</td>\n",
       "      <td>0</td>\n",
       "      <td>25.0</td>\n",
       "      <td>2.0</td>\n",
       "      <td>other</td>\n",
       "      <td>0</td>\n",
       "    </tr>\n",
       "    <tr>\n",
       "      <th>2</th>\n",
       "      <td>greenhouse</td>\n",
       "      <td>greenhouse</td>\n",
       "      <td>45.0</td>\n",
       "      <td>30.0</td>\n",
       "      <td>314.0</td>\n",
       "      <td>704.0</td>\n",
       "      <td>40.0</td>\n",
       "      <td>38.0</td>\n",
       "      <td>3.008850</td>\n",
       "      <td>665.0</td>\n",
       "      <td>...</td>\n",
       "      <td>902</td>\n",
       "      <td>2.4</td>\n",
       "      <td>11.0</td>\n",
       "      <td>1</td>\n",
       "      <td>74585.0</td>\n",
       "      <td>0</td>\n",
       "      <td>350.0</td>\n",
       "      <td>8.0</td>\n",
       "      <td>greenhouse</td>\n",
       "      <td>0</td>\n",
       "    </tr>\n",
       "    <tr>\n",
       "      <th>3</th>\n",
       "      <td>UNKNOWN</td>\n",
       "      <td>UNKNOWN</td>\n",
       "      <td>0.0</td>\n",
       "      <td>0.0</td>\n",
       "      <td>2.0</td>\n",
       "      <td>6.0</td>\n",
       "      <td>0.0</td>\n",
       "      <td>0.0</td>\n",
       "      <td>4.000000</td>\n",
       "      <td>27.0</td>\n",
       "      <td>...</td>\n",
       "      <td>0</td>\n",
       "      <td>NaN</td>\n",
       "      <td>NaN</td>\n",
       "      <td>0</td>\n",
       "      <td>44733.0</td>\n",
       "      <td>0</td>\n",
       "      <td>400.0</td>\n",
       "      <td>NaN</td>\n",
       "      <td>UNKNOWN</td>\n",
       "      <td>0</td>\n",
       "    </tr>\n",
       "    <tr>\n",
       "      <th>4</th>\n",
       "      <td>UNKNOWN</td>\n",
       "      <td>UNKNOWN</td>\n",
       "      <td>0.0</td>\n",
       "      <td>0.0</td>\n",
       "      <td>6.0</td>\n",
       "      <td>14.0</td>\n",
       "      <td>0.0</td>\n",
       "      <td>0.0</td>\n",
       "      <td>3.000000</td>\n",
       "      <td>NaN</td>\n",
       "      <td>...</td>\n",
       "      <td>0</td>\n",
       "      <td>NaN</td>\n",
       "      <td>NaN</td>\n",
       "      <td>0</td>\n",
       "      <td>38285.0</td>\n",
       "      <td>0</td>\n",
       "      <td>40.0</td>\n",
       "      <td>NaN</td>\n",
       "      <td>UNKNOWN</td>\n",
       "      <td>0</td>\n",
       "    </tr>\n",
       "  </tbody>\n",
       "</table>\n",
       "<p>5 rows × 21 columns</p>\n",
       "</div>"
      ],
      "text/plain": [
       "        ATS__c     Industry  numJobs  awards  contentCount  followers  \\\n",
       "0  CustomCrawl  CustomCrawl     39.0     0.0          24.0       56.0   \n",
       "1        other        other      1.0     0.0          24.0       30.0   \n",
       "2   greenhouse   greenhouse     45.0    30.0         314.0      704.0   \n",
       "3      UNKNOWN      UNKNOWN      0.0     0.0           2.0        6.0   \n",
       "4      UNKNOWN      UNKNOWN      0.0     0.0           6.0       14.0   \n",
       "\n",
       "   freshContent  photos  starRating  clicks  ...   timeOnSite  intDifficulty  \\\n",
       "0           2.0     0.0    3.111111   133.0  ...            0            2.5   \n",
       "1           0.0     0.0    4.400000     1.0  ...          582            2.7   \n",
       "2          40.0    38.0    3.008850   665.0  ...          902            2.4   \n",
       "3           0.0     0.0    4.000000    27.0  ...            0            NaN   \n",
       "4           0.0     0.0    3.000000     NaN  ...            0            NaN   \n",
       "\n",
       "   intDuration  has_interviews  basePayAmount  subsidiary  employeesTotalNum  \\\n",
       "0         33.0               1        53558.0           0              760.0   \n",
       "1         11.0               1        57150.0           0               25.0   \n",
       "2         11.0               1        74585.0           0              350.0   \n",
       "3          NaN               0        44733.0           0              400.0   \n",
       "4          NaN               0        38285.0           0               40.0   \n",
       "\n",
       "   RespondedContacts   employerId isWon  \n",
       "0                NaN  CustomCrawl     0  \n",
       "1                2.0        other     0  \n",
       "2                8.0   greenhouse     0  \n",
       "3                NaN      UNKNOWN     0  \n",
       "4                NaN      UNKNOWN     0  \n",
       "\n",
       "[5 rows x 21 columns]"
      ]
     },
     "execution_count": 7,
     "metadata": {},
     "output_type": "execute_result"
    }
   ],
   "source": [
    "glassdoor_data.head()"
   ]
  },
  {
   "cell_type": "code",
   "execution_count": 8,
   "metadata": {},
   "outputs": [
    {
     "name": "stdout",
     "output_type": "stream",
     "text": [
      "<class 'pandas.core.frame.DataFrame'>\n",
      "RangeIndex: 16901 entries, 0 to 16900\n",
      "Data columns (total 21 columns):\n",
      "ATS__c                    16901 non-null object\n",
      "Industry                  16901 non-null object\n",
      "numJobs                   16901 non-null float64\n",
      "awards                    13609 non-null float64\n",
      "contentCount              13609 non-null float64\n",
      "followers                 13609 non-null float64\n",
      "freshContent              13609 non-null float64\n",
      "photos                    13609 non-null float64\n",
      "starRating                12945 non-null float64\n",
      "clicks                    10864 non-null float64\n",
      "monthOfSignupPageViews    12193 non-null float64\n",
      "timeOnSite                16901 non-null int64\n",
      "intDifficulty             14062 non-null float64\n",
      "intDuration               13752 non-null float64\n",
      "has_interviews            16901 non-null int64\n",
      "basePayAmount             16901 non-null float64\n",
      "subsidiary                16901 non-null int64\n",
      "employeesTotalNum         16729 non-null float64\n",
      "RespondedContacts         14227 non-null float64\n",
      "employerId                16901 non-null object\n",
      "isWon                     16901 non-null int64\n",
      "dtypes: float64(14), int64(4), object(3)\n",
      "memory usage: 2.7+ MB\n"
     ]
    }
   ],
   "source": [
    "glassdoor_data.info()"
   ]
  },
  {
   "cell_type": "code",
   "execution_count": 9,
   "metadata": {},
   "outputs": [
    {
     "data": {
      "text/plain": [
       "Index(['ATS__c', 'Industry', 'numJobs', 'awards', 'contentCount', 'followers',\n",
       "       'freshContent', 'photos', 'starRating', 'clicks',\n",
       "       'monthOfSignupPageViews', 'timeOnSite', 'intDifficulty', 'intDuration',\n",
       "       'has_interviews', 'basePayAmount', 'subsidiary', 'employeesTotalNum',\n",
       "       'RespondedContacts', 'employerId', 'isWon'],\n",
       "      dtype='object')"
      ]
     },
     "execution_count": 9,
     "metadata": {},
     "output_type": "execute_result"
    }
   ],
   "source": [
    "glassdoor_data.columns"
   ]
  },
  {
   "cell_type": "markdown",
   "metadata": {},
   "source": [
    "## Visualizations\n",
    "\n",
    "* Let's look at how frequency distribution of the data"
   ]
  },
  {
   "cell_type": "code",
   "execution_count": 10,
   "metadata": {},
   "outputs": [
    {
     "data": {
      "image/png": "[encoded data removed]",
      "text/plain": [
       "<matplotlib.figure.Figure at 0x10adb81d0>"
      ]
     },
     "metadata": {},
     "output_type": "display_data"
    }
   ],
   "source": [
    "%matplotlib inline\n",
    "import matplotlib.pyplot as plt\n",
    "import seaborn as sns\n",
    "sns.set_style(\"darkgrid\")\n",
    "#Used to plot the histogram of the dataframe numerical features to know the overall distribution.\n",
    "#This can also show whether if there was any scaling/normalization done on the features on close observation.\n",
    "glassdoor_data.hist(bins=50,figsize=(20,15))\n",
    "plt.show()"
   ]
  },
  {
   "cell_type": "markdown",
   "metadata": {},
   "source": [
    "** Stratified Sampling:** \n",
    "* The population is divided into homogenuous sub groups called strata and the right number of sample from each sub group is selected in way so that it is representative of the overall population. "
   ]
  },
  {
   "cell_type": "code",
   "execution_count": 11,
   "metadata": {},
   "outputs": [],
   "source": [
    "from sklearn.model_selection import StratifiedShuffleSplit\n",
    "split = StratifiedShuffleSplit(n_splits=1,test_size=0.2,random_state=42)\n",
    "for train_index,test_index in split.split(glassdoor_data,glassdoor_data[\"isWon\"]):\n",
    "    glassdoor_data_train=glassdoor_data.loc[train_index]\n",
    "    glassdoor_data_test=glassdoor_data.loc[test_index]"
   ]
  },
  {
   "cell_type": "markdown",
   "metadata": {},
   "source": [
    "**Verifying Stratified Sampling**"
   ]
  },
  {
   "cell_type": "code",
   "execution_count": 12,
   "metadata": {},
   "outputs": [
    {
     "data": {
      "text/plain": [
       "0    0.890835\n",
       "1    0.109165\n",
       "Name: isWon, dtype: float64"
      ]
     },
     "execution_count": 12,
     "metadata": {},
     "output_type": "execute_result"
    }
   ],
   "source": [
    "glassdoor_data[\"isWon\"].value_counts()/len(glassdoor_data)"
   ]
  },
  {
   "cell_type": "markdown",
   "metadata": {},
   "source": [
    "## Resampling the Data to Tackle Imbalanced Classes\n",
    "\n",
    "* Let's resample the data to upsample the class(0) with lesser instances to equal the class(1) with higher number of instances."
   ]
  },
  {
   "cell_type": "code",
   "execution_count": 13,
   "metadata": {},
   "outputs": [
    {
     "data": {
      "text/plain": [
       "1    0.5\n",
       "0    0.5\n",
       "Name: isWon, dtype: float64"
      ]
     },
     "execution_count": 13,
     "metadata": {},
     "output_type": "execute_result"
    }
   ],
   "source": [
    "import numpy as np\n",
    "\n",
    "from sklearn.utils import resample\n",
    "\n",
    "glassdoor_data_train = glassdoor_data_train[np.isfinite(glassdoor_data_train['isWon'])]\n",
    "\n",
    "glassdoor_data_0=glassdoor_data_train[glassdoor_data.isWon==0]\n",
    "glassdoor_data_1=glassdoor_data_train[glassdoor_data.isWon==1]\n",
    "glassdoor_data_1_upsampled=resample(glassdoor_data_1,replace=True,n_samples=len(glassdoor_data_0),random_state=42)\n",
    "glassdoor_data_train=pd.concat([glassdoor_data_1_upsampled,glassdoor_data_0]).copy()\n",
    "\n",
    "glassdoor_data_train[\"isWon\"].value_counts()/len(glassdoor_data_train)"
   ]
  },
  {
   "cell_type": "code",
   "execution_count": 14,
   "metadata": {},
   "outputs": [
    {
     "data": {
      "text/plain": [
       "0    0.890861\n",
       "1    0.109139\n",
       "Name: isWon, dtype: float64"
      ]
     },
     "execution_count": 14,
     "metadata": {},
     "output_type": "execute_result"
    }
   ],
   "source": [
    "glassdoor_data_test = glassdoor_data_test[np.isfinite(glassdoor_data_test['isWon'])]\n",
    "glassdoor_data_test[\"isWon\"].value_counts()/len(glassdoor_data_test)"
   ]
  },
  {
   "cell_type": "markdown",
   "metadata": {},
   "source": [
    "**Finding the Correlation with the target variable**"
   ]
  },
  {
   "cell_type": "code",
   "execution_count": 15,
   "metadata": {},
   "outputs": [
    {
     "data": {
      "text/plain": [
       "isWon                     1.000000\n",
       "has_interviews            0.126867\n",
       "subsidiary                0.085904\n",
       "monthOfSignupPageViews    0.083153\n",
       "clicks                    0.056711\n",
       "RespondedContacts         0.054802\n",
       "freshContent              0.054323\n",
       "timeOnSite                0.051968\n",
       "contentCount              0.037921\n",
       "photos                    0.031255\n",
       "numJobs                   0.029002\n",
       "intDifficulty             0.027507\n",
       "followers                 0.021137\n",
       "employeesTotalNum         0.019447\n",
       "basePayAmount             0.015620\n",
       "awards                    0.008865\n",
       "intDuration               0.008190\n",
       "starRating                0.001903\n",
       "Name: isWon, dtype: float64"
      ]
     },
     "execution_count": 15,
     "metadata": {},
     "output_type": "execute_result"
    }
   ],
   "source": [
    "corr_matrix=glassdoor_data_train.corr()\n",
    "corr_matrix[\"isWon\"].sort_values(ascending=False)"
   ]
  },
  {
   "cell_type": "markdown",
   "metadata": {},
   "source": [
    "### DataPipeline\n",
    "* Splitting the features into three different types of data namely numerical categorical,non-numerical categorical and quantitative to pass them through different datapipelines."
   ]
  },
  {
   "cell_type": "code",
   "execution_count": 16,
   "metadata": {},
   "outputs": [],
   "source": [
    "#Target Variable\n",
    "target_attrib=[\"isWon\"]\n",
    "\n",
    "#Numerical Categorical variables \n",
    "cat_attrib=['has_interviews','subsidiary']\n",
    "\n",
    "# Non numeric categorical variables\n",
    "nonnum_cat_attrib=[]#\"ATS__c\"]#,\"Industry\",]\n",
    "\n",
    "#Quantitative variables\n",
    "rel_num_attrib=['employeesTotalNum','numJobs','contentCount', 'followers','freshContent', \n",
    "                'photos', 'clicks','monthOfSignupPageViews', 'timeOnSite', 'intDifficulty',\n",
    "                'basePayAmount','RespondedContacts']"
   ]
  },
  {
   "cell_type": "markdown",
   "metadata": {},
   "source": [
    "** Custom Transformers **\n",
    "* These transformers need to seamless integrate with sklearn pipeline for better execution of code\n",
    "* So need to create a class which has three methods: fit(),transform() , fit_transform()\n",
    "* By adding TransformerMixin as base class we can bypass fit_transform() function\n",
    "* By adding BaseEstimator as base class we will get two extra methods get_params() and set_params() for tuning hyper parameters"
   ]
  },
  {
   "cell_type": "code",
   "execution_count": 17,
   "metadata": {},
   "outputs": [],
   "source": [
    "from sklearn.base import BaseEstimator,TransformerMixin\n",
    "class DataframeSelector(BaseEstimator,TransformerMixin):\n",
    "    def __init__(self,attribute_names,retain=False):\n",
    "        self.attribute_names=attribute_names\n",
    "        self.retain=retain\n",
    "    def fit(self,a=None):\n",
    "        return self\n",
    "    def transform(self,dataframe):\n",
    "        if(self.retain):\n",
    "            return dataframe[self.attribute_names]\n",
    "        else:\n",
    "            return dataframe[self.attribute_names].values"
   ]
  },
  {
   "cell_type": "code",
   "execution_count": 18,
   "metadata": {},
   "outputs": [],
   "source": [
    "from sklearn.base import BaseEstimator,TransformerMixin\n",
    "from sklearn.preprocessing import LabelEncoder\n",
    "class MultiColLabelEncoder(BaseEstimator,TransformerMixin):\n",
    "    def __init__(self):\n",
    "        pass\n",
    "    def fit(self,y=None):\n",
    "        return self\n",
    "    def transform(self,X):\n",
    "        for attr in list(X):\n",
    "            X[attr]=LabelEncoder().fit_transform(X[attr])\n",
    "        return X.values"
   ]
  },
  {
   "cell_type": "markdown",
   "metadata": {},
   "source": [
    "** Imputer**\n",
    "* Scikit Learn Class to take care of missing values\n",
    "* This involves creation of imputer class based on a strategy for instance \"median\"\n",
    "* Then we take the current data frame and drop all non numeric values\n",
    "* Then the imputer instance is fit on this modified data\n",
    "* Now the statistics_ variable will be array containing the strategy values for each column which can be later used on\n",
    "  current missing values or otherwise."
   ]
  },
  {
   "cell_type": "markdown",
   "metadata": {},
   "source": [
    "** Pipeline **\n",
    "* Sklearn provides pipeline as a means to apply different estimators/transformers in a serialized manner.\n",
    "* All but the last one must be transformers i.e they must have fit_transform() method\n",
    "\n",
    "**Feature Union**\n",
    "* This helps in getting together the pipelines for categorical attributes and numerical attributes into single entity"
   ]
  },
  {
   "cell_type": "code",
   "execution_count": 19,
   "metadata": {},
   "outputs": [],
   "source": [
    "import warnings\n",
    "warnings.filterwarnings('ignore')\n",
    "\n",
    "from sklearn.pipeline import Pipeline\n",
    "from sklearn.preprocessing import StandardScaler\n",
    "from sklearn.pipeline import FeatureUnion\n",
    "from sklearn.preprocessing import Imputer\n",
    "from sklearn.preprocessing import CategoricalEncoder\n",
    "\n",
    "num_pipeline=Pipeline([(\"selector\",DataframeSelector(rel_num_attrib)),\n",
    "                                (\"imputer\",Imputer(strategy=\"median\")),\n",
    "                               (\"scaler\",StandardScaler()),\n",
    "                               ])\n",
    "cat_pipeline=Pipeline([(\"selector\",DataframeSelector(cat_attrib)),\n",
    "                       (\"imputer\",Imputer(strategy=\"most_frequent\")),\n",
    "                        (\"encoder\",CategoricalEncoder(encoding=\"onehot-dense\"))])\n",
    "\n",
    "nonum_cat_pipeline=Pipeline([(\"selector\",DataframeSelector(nonnum_cat_attrib,retain=True)),\n",
    "                       (\"multicolencoder\",MultiColLabelEncoder()),\n",
    "                       (\"imputer\",Imputer(strategy=\"most_frequent\")),\n",
    "                        (\"encoder\",CategoricalEncoder(encoding=\"onehot-dense\"))])\n",
    "\n",
    "full_pipeline=FeatureUnion(transformer_list=[(\"num_pipeline\",num_pipeline),\n",
    "                                             (\"cat_pipeline\",cat_pipeline)#,\n",
    "                                              #(\"nonum_cat_pipeline\",nonum_cat_pipeline)\n",
    "                                            ])"
   ]
  },
  {
   "cell_type": "code",
   "execution_count": 20,
   "metadata": {
    "scrolled": false
   },
   "outputs": [
    {
     "name": "stdout",
     "output_type": "stream",
     "text": [
      "[[-0.21710804 -0.10946291 -0.10322243 ...  1.          1.\n",
      "   0.        ]\n",
      " [-0.20332976  0.05933431 -0.1434693  ...  1.          1.\n",
      "   0.        ]\n",
      " [-0.21710804 -0.14632668 -0.09051289 ...  1.          1.\n",
      "   0.        ]\n",
      " ...\n",
      " [-0.16279103 -0.10170212  0.07894761 ...  1.          1.\n",
      "   0.        ]\n",
      " [-0.20332976 -0.14826687 -0.12864151 ...  0.          1.\n",
      "   0.        ]\n",
      " [-0.21710804 -0.07841975 -0.08839464 ...  1.          1.\n",
      "   0.        ]]\n"
     ]
    },
    {
     "data": {
      "text/plain": [
       "array([[-0.21710804, -0.10946291, -0.10322243, ...,  1.        ,\n",
       "         1.        ,  0.        ],\n",
       "       [-0.20332976,  0.05933431, -0.1434693 , ...,  1.        ,\n",
       "         1.        ,  0.        ],\n",
       "       [-0.21710804, -0.14632668, -0.09051289, ...,  1.        ,\n",
       "         1.        ,  0.        ],\n",
       "       ...,\n",
       "       [-0.16279103, -0.10170212,  0.07894761, ...,  1.        ,\n",
       "         1.        ,  0.        ],\n",
       "       [-0.20332976, -0.14826687, -0.12864151, ...,  0.        ,\n",
       "         1.        ,  0.        ],\n",
       "       [-0.21710804, -0.07841975, -0.08839464, ...,  1.        ,\n",
       "         1.        ,  0.        ]])"
      ]
     },
     "execution_count": 20,
     "metadata": {},
     "output_type": "execute_result"
    }
   ],
   "source": [
    "import numpy as np\n",
    "glassdoor_data_train_prepared=glassdoor_data_train.copy()\n",
    "glassdoor_data_train_prepared=full_pipeline.fit_transform(glassdoor_data_train_prepared).copy()\n",
    "print(glassdoor_data_train_prepared)\n",
    "glassdoor_data_train_prepared"
   ]
  },
  {
   "cell_type": "code",
   "execution_count": 21,
   "metadata": {},
   "outputs": [
    {
     "data": {
      "text/plain": [
       "False"
      ]
     },
     "execution_count": 21,
     "metadata": {},
     "output_type": "execute_result"
    }
   ],
   "source": [
    "np.isnan(glassdoor_data_train_prepared).any()"
   ]
  },
  {
   "cell_type": "markdown",
   "metadata": {},
   "source": [
    "### Preparation Of Input Data"
   ]
  },
  {
   "cell_type": "code",
   "execution_count": 22,
   "metadata": {},
   "outputs": [
    {
     "name": "stdout",
     "output_type": "stream",
     "text": [
      "[[ 0.08812338  0.41360011  0.0947499  ...  1.          0.\n",
      "   1.        ]\n",
      " [-0.09906101 -0.08589801 -0.16627699 ...  1.          1.\n",
      "   0.        ]\n",
      " [ 0.30525728  0.19400299  0.70566392 ...  1.          0.\n",
      "   1.        ]\n",
      " ...\n",
      " [-0.06602847 -0.08589801 -0.09130118 ...  1.          1.\n",
      "   0.        ]\n",
      " [-0.09844929 -0.07338211 -0.13850818 ...  1.          1.\n",
      "   0.        ]\n",
      " [-0.10615689 -0.08589801 -0.13017753 ...  0.          1.\n",
      "   0.        ]]\n"
     ]
    }
   ],
   "source": [
    "glassdoor_data_test_prepared=glassdoor_data_test.copy()\n",
    "glassdoor_data_test_prepared=full_pipeline.fit_transform(glassdoor_data_test_prepared).copy()\n",
    "print(glassdoor_data_test_prepared)\n",
    "glassdoor_test_labels=glassdoor_data_test[target_attrib].copy()"
   ]
  },
  {
   "cell_type": "code",
   "execution_count": 23,
   "metadata": {},
   "outputs": [
    {
     "data": {
      "text/plain": [
       "isWon    False\n",
       "dtype: bool"
      ]
     },
     "execution_count": 23,
     "metadata": {},
     "output_type": "execute_result"
    }
   ],
   "source": [
    "glassdoor_labels=glassdoor_data_train[target_attrib].copy()\n",
    "glassdoor_labels[np.isnan(glassdoor_labels)]=0\n",
    "np.isnan(glassdoor_labels).any()"
   ]
  },
  {
   "cell_type": "markdown",
   "metadata": {},
   "source": [
    "### Evaluating different classes of Machine Learning models on basis of accuracy"
   ]
  },
  {
   "cell_type": "code",
   "execution_count": 24,
   "metadata": {},
   "outputs": [
    {
     "name": "stdout",
     "output_type": "stream",
     "text": [
      "\n",
      " LogisticRegression results:\n"
     ]
    },
    {
     "name": "stderr",
     "output_type": "stream",
     "text": [
      "[Parallel(n_jobs=1)]: Done   5 out of   5 | elapsed:    0.3s finished\n"
     ]
    },
    {
     "name": "stdout",
     "output_type": "stream",
     "text": [
      "[0.58468244 0.58219178 0.58758821 0.59111665 0.58326412]\n",
      "The mean value of Error across cross validation models: 58.57686396114239\n",
      "The Standard deviation of Error across cross validation models: 0.3229810459013905\n",
      "\n",
      " GaussianNB results:\n"
     ]
    },
    {
     "name": "stderr",
     "output_type": "stream",
     "text": [
      "[Parallel(n_jobs=1)]: Done   5 out of   5 | elapsed:    9.8s finished\n",
      "[Parallel(n_jobs=1)]: Done   5 out of   5 | elapsed:    0.1s finished\n"
     ]
    },
    {
     "name": "stdout",
     "output_type": "stream",
     "text": [
      "[0.75238688 0.74387713 0.73391449 0.73536737 0.73795681]\n",
      "The mean value of Error across cross validation models: 74.07005360573376\n",
      "The Standard deviation of Error across cross validation models: 0.6762877317385595\n",
      "\n",
      " Stochastic gradient classifier results:\n",
      "[0.52988792 0.54192611 0.57326692 0.56122873 0.56125415]\n",
      "The mean value of Error across cross validation models: 55.35127649774034\n",
      "The Standard deviation of Error across cross validation models: 1.5505324609985793\n",
      "\n",
      " Random Forest classifier results:\n"
     ]
    },
    {
     "name": "stderr",
     "output_type": "stream",
     "text": [
      "[Parallel(n_jobs=1)]: Done   5 out of   5 | elapsed:    1.2s finished\n"
     ]
    },
    {
     "name": "stdout",
     "output_type": "stream",
     "text": [
      "[0.98733914 0.9833956  0.97654628 0.98381071 0.9798588 ]\n",
      "The mean value of Error across cross validation models: 98.21901086595255\n",
      "The Standard deviation of Error across cross validation models: 0.36845586087897114\n",
      "\n",
      " GradientBoostingClassifier results:\n"
     ]
    },
    {
     "name": "stderr",
     "output_type": "stream",
     "text": [
      "[Parallel(n_jobs=1)]: Done   5 out of   5 | elapsed:    6.3s finished\n"
     ]
    },
    {
     "name": "stdout",
     "output_type": "stream",
     "text": [
      "[0.75238688 0.74387713 0.73391449 0.73536737 0.73795681]\n",
      "The mean value of Error across cross validation models: 74.07005360573376\n",
      "The Standard deviation of Error across cross validation models: 0.6762877317385595\n",
      "\n",
      " K Neighbors classifier results:\n"
     ]
    },
    {
     "name": "stderr",
     "output_type": "stream",
     "text": [
      "[Parallel(n_jobs=1)]: Done   5 out of   5 | elapsed:    3.0s finished\n"
     ]
    },
    {
     "name": "stdout",
     "output_type": "stream",
     "text": [
      "[0.83976754 0.82897468 0.83167289 0.83125778 0.82807309]\n",
      "The mean value of Error across cross validation models: 83.1949196603545\n",
      "The Standard deviation of Error across cross validation models: 0.4136491947875172\n",
      "\n",
      " Support Vector Machine classifier results:\n"
     ]
    },
    {
     "name": "stderr",
     "output_type": "stream",
     "text": [
      "[Parallel(n_jobs=1)]: Done   5 out of   5 | elapsed:  1.3min finished\n"
     ]
    },
    {
     "name": "stdout",
     "output_type": "stream",
     "text": [
      "[0.61996679 0.61311748 0.62743877 0.61934413 0.61897841]\n",
      "The mean value of Error across cross validation models: 61.97691140228573\n",
      "The Standard deviation of Error across cross validation models: 0.45587901943194026\n",
      "\n",
      " Linear Support Vector classifier results:\n",
      "[0.58634288 0.57866335 0.58821088 0.59028643 0.5801495 ]\n",
      "The mean value of Error across cross validation models: 58.4730606019233\n",
      "The Standard deviation of Error across cross validation models: 0.45470211554585593\n"
     ]
    },
    {
     "name": "stderr",
     "output_type": "stream",
     "text": [
      "[Parallel(n_jobs=1)]: Done   5 out of   5 | elapsed:   11.9s finished\n"
     ]
    }
   ],
   "source": [
    "from sklearn.linear_model import LogisticRegression\n",
    "from sklearn.naive_bayes import GaussianNB\n",
    "from sklearn.linear_model import SGDClassifier\n",
    "from sklearn.ensemble import RandomForestClassifier\n",
    "from sklearn.ensemble import GradientBoostingClassifier\n",
    "from sklearn.neighbors import KNeighborsClassifier\n",
    "from sklearn.svm import SVC\n",
    "from sklearn.svm import LinearSVC\n",
    "\n",
    "#Scoring and Validating Model\n",
    "from sklearn.model_selection import cross_val_score\n",
    "\n",
    "#Initializing ML models\n",
    "lr_clf=LogisticRegression(random_state=42)\n",
    "gb_clf=GaussianNB()\n",
    "sgd_clf=SGDClassifier(random_state=42)\n",
    "rf_clf=RandomForestClassifier(random_state=42)\n",
    "gb_clf=GradientBoostingClassifier(random_state=42)\n",
    "knn_clf=KNeighborsClassifier()\n",
    "sv_clf=SVC(random_state=42)\n",
    "lsv_clf=LinearSVC(random_state=42)\n",
    "\n",
    "#Validating ML Models\n",
    "print(\"\\n LogisticRegression results:\")\n",
    "cross_val_results=cross_val_score(lr_clf,glassdoor_data_train_prepared,glassdoor_labels,cv=5,scoring=\"accuracy\",verbose=1)\n",
    "print(cross_val_results)\n",
    "print(\"The mean value of Error across cross validation models:\",np.mean(cross_val_results)*100)\n",
    "print(\"The Standard deviation of Error across cross validation models:\",np.std(cross_val_results)*100)\n",
    "\n",
    "#Validating ML Models\n",
    "print(\"\\n GaussianNB results:\")\n",
    "cross_val_results=cross_val_score(gb_clf,glassdoor_data_train_prepared,glassdoor_labels,cv=5,scoring=\"accuracy\",verbose=1)\n",
    "print(cross_val_results)\n",
    "print(\"The mean value of Error across cross validation models:\",np.mean(cross_val_results)*100)\n",
    "print(\"The Standard deviation of Error across cross validation models:\",np.std(cross_val_results)*100)\n",
    "\n",
    "#Validating ML Models\n",
    "print(\"\\n Stochastic gradient classifier results:\")\n",
    "cross_val_results=cross_val_score(sgd_clf,glassdoor_data_train_prepared,glassdoor_labels,cv=5,scoring=\"accuracy\",verbose=1)\n",
    "print(cross_val_results)\n",
    "print(\"The mean value of Error across cross validation models:\",np.mean(cross_val_results)*100)\n",
    "print(\"The Standard deviation of Error across cross validation models:\",np.std(cross_val_results)*100)\n",
    "\n",
    "print(\"\\n Random Forest classifier results:\")\n",
    "cross_val_results=cross_val_score(rf_clf,glassdoor_data_train_prepared,glassdoor_labels,cv=5,scoring=\"accuracy\",verbose=1)\n",
    "print(cross_val_results)\n",
    "print(\"The mean value of Error across cross validation models:\",np.mean(cross_val_results)*100)\n",
    "print(\"The Standard deviation of Error across cross validation models:\",np.std(cross_val_results)*100)\n",
    "\n",
    "\n",
    "print(\"\\n GradientBoostingClassifier results:\")\n",
    "cross_val_results=cross_val_score(gb_clf,glassdoor_data_train_prepared,glassdoor_labels,cv=5,scoring=\"accuracy\",verbose=1)\n",
    "print(cross_val_results)\n",
    "print(\"The mean value of Error across cross validation models:\",np.mean(cross_val_results)*100)\n",
    "print(\"The Standard deviation of Error across cross validation models:\",np.std(cross_val_results)*100)\n",
    "\n",
    "\n",
    "print(\"\\n K Neighbors classifier results:\")\n",
    "cross_val_results=cross_val_score(knn_clf,glassdoor_data_train_prepared,glassdoor_labels,cv=5,scoring=\"accuracy\",verbose=1)\n",
    "print(cross_val_results)\n",
    "print(\"The mean value of Error across cross validation models:\",np.mean(cross_val_results)*100)\n",
    "print(\"The Standard deviation of Error across cross validation models:\",np.std(cross_val_results)*100)\n",
    "\n",
    "\n",
    "print(\"\\n Support Vector Machine classifier results:\")\n",
    "cross_val_results=cross_val_score(sv_clf,glassdoor_data_train_prepared,glassdoor_labels,cv=5,scoring=\"accuracy\",verbose=1)\n",
    "print(cross_val_results)\n",
    "print(\"The mean value of Error across cross validation models:\",np.mean(cross_val_results)*100)\n",
    "print(\"The Standard deviation of Error across cross validation models:\",np.std(cross_val_results)*100)\n",
    "\n",
    "\n",
    "print(\"\\n Linear Support Vector classifier results:\")\n",
    "cross_val_results=cross_val_score(lsv_clf,glassdoor_data_train_prepared,glassdoor_labels,cv=5,scoring=\"accuracy\",verbose=1)\n",
    "print(cross_val_results)\n",
    "print(\"The mean value of Error across cross validation models:\",np.mean(cross_val_results)*100)\n",
    "print(\"The Standard deviation of Error across cross validation models:\",np.std(cross_val_results)*100)"
   ]
  },
  {
   "cell_type": "markdown",
   "metadata": {},
   "source": [
    "### Trying an Ensemble of Best Classifiers"
   ]
  },
  {
   "cell_type": "code",
   "execution_count": 25,
   "metadata": {},
   "outputs": [
    {
     "name": "stdout",
     "output_type": "stream",
     "text": [
      "Ensemble results:\n"
     ]
    },
    {
     "name": "stderr",
     "output_type": "stream",
     "text": [
      "[Parallel(n_jobs=1)]: Done   5 out of   5 | elapsed:   12.3s finished\n"
     ]
    },
    {
     "name": "stdout",
     "output_type": "stream",
     "text": [
      "[0.93441262 0.92839352 0.92424242 0.9275633  0.92815615]\n",
      "92.85536036651042\n",
      "0.32887269112399253\n",
      "accuracy score: 0.8062703342206448\n",
      "confusion matrix: [[2657  355]\n",
      " [ 300   69]]\n",
      "classification report:              precision    recall  f1-score   support\n",
      "\n",
      "          0       0.90      0.88      0.89      3012\n",
      "          1       0.16      0.19      0.17       369\n",
      "\n",
      "avg / total       0.82      0.81      0.81      3381\n",
      "\n"
     ]
    }
   ],
   "source": [
    "from sklearn.ensemble import VotingClassifier\n",
    "from sklearn.metrics import accuracy_score,precision_score,recall_score,confusion_matrix,f1_score,roc_auc_score,classification_report\n",
    "\n",
    "ensem_clf=VotingClassifier(estimators=[ ('rf', rf_clf),('gb_clf',gb_clf),('knn_clf',knn_clf)],voting='soft')\n",
    "\n",
    "print(\"Ensemble results:\")\n",
    "cross_val_results=cross_val_score(ensem_clf,glassdoor_data_train_prepared,glassdoor_labels,cv=5,scoring=\"accuracy\",verbose=1)\n",
    "print(cross_val_results)\n",
    "print(np.mean(cross_val_results)*100)\n",
    "print(np.std(cross_val_results)*100)\n",
    "\n",
    "ensem_clf.fit(glassdoor_data_train_prepared,glassdoor_labels)\n",
    "test_results=ensem_clf.predict(glassdoor_data_test_prepared)\n",
    "print(\"accuracy score:\",accuracy_score(glassdoor_test_labels,test_results))\n",
    "print(\"confusion matrix:\",confusion_matrix(glassdoor_test_labels,test_results))\n",
    "print(\"classification report:\",classification_report(glassdoor_test_labels,test_results))"
   ]
  },
  {
   "cell_type": "markdown",
   "metadata": {},
   "source": [
    "### Checking How Time spent on website varies for paying clients compared to other Clients"
   ]
  },
  {
   "cell_type": "code",
   "execution_count": 26,
   "metadata": {},
   "outputs": [
    {
     "data": {
      "text/plain": [
       "<matplotlib.axes._subplots.AxesSubplot at 0x10b969128>"
      ]
     },
     "execution_count": 26,
     "metadata": {},
     "output_type": "execute_result"
    },
    {
     "data": {
      "image/png": "[encoded data removed]",
      "text/plain": [
       "<matplotlib.figure.Figure at 0x10b93e588>"
      ]
     },
     "metadata": {},
     "output_type": "display_data"
    }
   ],
   "source": [
    "import seaborn as sns\n",
    "import matplotlib.pyplot as plt\n",
    "sns.set_style(\"darkgrid\")\n",
    "glassdoor_data.boxplot(by=\"isWon\",column=[\"timeOnSite\"])"
   ]
  },
  {
   "cell_type": "markdown",
   "metadata": {},
   "source": [
    "### Evaluating different classes of Machine Learning models on basis of accuracy"
   ]
  },
  {
   "cell_type": "code",
   "execution_count": 27,
   "metadata": {},
   "outputs": [
    {
     "name": "stdout",
     "output_type": "stream",
     "text": [
      "\n",
      " LogisticRegression results:\n"
     ]
    },
    {
     "name": "stderr",
     "output_type": "stream",
     "text": [
      "[Parallel(n_jobs=1)]: Done   5 out of   5 | elapsed:    0.3s finished\n"
     ]
    },
    {
     "name": "stdout",
     "output_type": "stream",
     "text": [
      "[0.6222499  0.63304276 0.64798672 0.61851391 0.64285714]\n",
      "The mean value of Error across cross validation models: 63.29300836150151\n",
      "The Standard deviation of Error across cross validation models: 1.137676551567612\n",
      "\n",
      " GaussianNB results:\n"
     ]
    },
    {
     "name": "stderr",
     "output_type": "stream",
     "text": [
      "[Parallel(n_jobs=1)]: Done   5 out of   5 | elapsed:    6.7s finished\n",
      "[Parallel(n_jobs=1)]: Done   5 out of   5 | elapsed:    0.1s finished\n"
     ]
    },
    {
     "name": "stdout",
     "output_type": "stream",
     "text": [
      "[0.84516397 0.84557908 0.81984226 0.83769199 0.8467608 ]\n",
      "The mean value of Error across cross validation models: 83.90076181649931\n",
      "The Standard deviation of Error across cross validation models: 1.0101865480659245\n",
      "\n",
      " Stochastic gradient classifier results:\n",
      "[0.80738896 0.68493151 0.79742632 0.750934   0.3916113 ]\n",
      "The mean value of Error across cross validation models: 68.6458415217574\n",
      "The Standard deviation of Error across cross validation models: 15.364395705509937\n",
      "\n",
      " Random Forest classifier results:\n"
     ]
    },
    {
     "name": "stderr",
     "output_type": "stream",
     "text": [
      "[Parallel(n_jobs=1)]: Done   5 out of   5 | elapsed:    1.3s finished\n"
     ]
    },
    {
     "name": "stdout",
     "output_type": "stream",
     "text": [
      "[0.99916978 0.99709423 0.99377335 1.         0.99750831]\n",
      "The mean value of Error across cross validation models: 99.75091331096428\n",
      "The Standard deviation of Error across cross validation models: 0.21489712487175833\n",
      "\n",
      " GradientBoostingClassifier results:\n"
     ]
    },
    {
     "name": "stderr",
     "output_type": "stream",
     "text": [
      "[Parallel(n_jobs=1)]: Done   5 out of   5 | elapsed:    6.6s finished\n"
     ]
    },
    {
     "name": "stdout",
     "output_type": "stream",
     "text": [
      "[0.84516397 0.84557908 0.81984226 0.83769199 0.8467608 ]\n",
      "The mean value of Error across cross validation models: 83.90076181649931\n",
      "The Standard deviation of Error across cross validation models: 1.0101865480659245\n",
      "\n",
      " K Neighbors classifier results:\n"
     ]
    },
    {
     "name": "stderr",
     "output_type": "stream",
     "text": [
      "[Parallel(n_jobs=1)]: Done   5 out of   5 | elapsed:    2.9s finished\n"
     ]
    },
    {
     "name": "stdout",
     "output_type": "stream",
     "text": [
      "[0.97550851 0.97301785 0.96928186 0.9667912  0.97674419]\n",
      "The mean value of Error across cross validation models: 97.22687209785012\n",
      "The Standard deviation of Error across cross validation models: 0.3741972550041427\n",
      "\n",
      " Support Vector Machine classifier results:\n"
     ]
    },
    {
     "name": "stderr",
     "output_type": "stream",
     "text": [
      "[Parallel(n_jobs=1)]: Done   5 out of   5 | elapsed:  1.4min finished\n"
     ]
    },
    {
     "name": "stdout",
     "output_type": "stream",
     "text": [
      "[0.54545455 0.53424658 0.53590702 0.52096306 0.55232558]\n",
      "The mean value of Error across cross validation models: 53.77793545522122\n",
      "The Standard deviation of Error across cross validation models: 1.0670289380682696\n",
      "\n",
      " Linear Support Vector classifier results:\n",
      "[0.63636364 0.62764633 0.64840183 0.6222499  0.65448505]\n",
      "The mean value of Error across cross validation models: 63.782934703610074\n",
      "The Standard deviation of Error across cross validation models: 1.2147026505156275\n"
     ]
    },
    {
     "name": "stderr",
     "output_type": "stream",
     "text": [
      "[Parallel(n_jobs=1)]: Done   5 out of   5 | elapsed:   10.2s finished\n"
     ]
    }
   ],
   "source": [
    "from sklearn.linear_model import LogisticRegression\n",
    "from sklearn.naive_bayes import GaussianNB\n",
    "from sklearn.linear_model import SGDClassifier\n",
    "from sklearn.ensemble import RandomForestClassifier\n",
    "from sklearn.ensemble import GradientBoostingClassifier\n",
    "from sklearn.neighbors import KNeighborsClassifier\n",
    "from sklearn.svm import SVC\n",
    "from sklearn.svm import LinearSVC\n",
    "\n",
    "#Scoring and Validating Model\n",
    "from sklearn.model_selection import cross_val_score\n",
    "\n",
    "#Initializing ML models\n",
    "lr_clf=LogisticRegression(random_state=42)\n",
    "gb_clf=GaussianNB()\n",
    "sgd_clf=SGDClassifier(random_state=42)\n",
    "rf_clf=RandomForestClassifier(random_state=42)\n",
    "gb_clf=GradientBoostingClassifier(random_state=42)\n",
    "knn_clf=KNeighborsClassifier()\n",
    "sv_clf=SVC(random_state=42)\n",
    "lsv_clf=LinearSVC(random_state=42)\n",
    "\n",
    "#Validating ML Models\n",
    "print(\"\\n LogisticRegression results:\")\n",
    "cross_val_results=cross_val_score(lr_clf,glassdoor_data_train_prepared,glassdoor_labels,cv=5,scoring=\"recall\",verbose=1)\n",
    "print(cross_val_results)\n",
    "print(\"The mean value of Error across cross validation models:\",np.mean(cross_val_results)*100)\n",
    "print(\"The Standard deviation of Error across cross validation models:\",np.std(cross_val_results)*100)\n",
    "\n",
    "#Validating ML Models\n",
    "print(\"\\n GaussianNB results:\")\n",
    "cross_val_results=cross_val_score(gb_clf,glassdoor_data_train_prepared,glassdoor_labels,cv=5,scoring=\"recall\",verbose=1)\n",
    "print(cross_val_results)\n",
    "print(\"The mean value of Error across cross validation models:\",np.mean(cross_val_results)*100)\n",
    "print(\"The Standard deviation of Error across cross validation models:\",np.std(cross_val_results)*100)\n",
    "\n",
    "#Validating ML Models\n",
    "print(\"\\n Stochastic gradient classifier results:\")\n",
    "cross_val_results=cross_val_score(sgd_clf,glassdoor_data_train_prepared,glassdoor_labels,cv=5,scoring=\"recall\",verbose=1)\n",
    "print(cross_val_results)\n",
    "print(\"The mean value of Error across cross validation models:\",np.mean(cross_val_results)*100)\n",
    "print(\"The Standard deviation of Error across cross validation models:\",np.std(cross_val_results)*100)\n",
    "\n",
    "\n",
    "print(\"\\n Random Forest classifier results:\")\n",
    "cross_val_results=cross_val_score(rf_clf,glassdoor_data_train_prepared,glassdoor_labels,cv=5,scoring=\"recall\",verbose=1)\n",
    "print(cross_val_results)\n",
    "print(\"The mean value of Error across cross validation models:\",np.mean(cross_val_results)*100)\n",
    "print(\"The Standard deviation of Error across cross validation models:\",np.std(cross_val_results)*100)\n",
    "\n",
    "\n",
    "print(\"\\n GradientBoostingClassifier results:\")\n",
    "cross_val_results=cross_val_score(gb_clf,glassdoor_data_train_prepared,glassdoor_labels,cv=5,scoring=\"recall\",verbose=1)\n",
    "print(cross_val_results)\n",
    "print(\"The mean value of Error across cross validation models:\",np.mean(cross_val_results)*100)\n",
    "print(\"The Standard deviation of Error across cross validation models:\",np.std(cross_val_results)*100)\n",
    "\n",
    "\n",
    "print(\"\\n K Neighbors classifier results:\")\n",
    "cross_val_results=cross_val_score(knn_clf,glassdoor_data_train_prepared,glassdoor_labels,cv=5,scoring=\"recall\",verbose=1)\n",
    "print(cross_val_results)\n",
    "print(\"The mean value of Error across cross validation models:\",np.mean(cross_val_results)*100)\n",
    "print(\"The Standard deviation of Error across cross validation models:\",np.std(cross_val_results)*100)\n",
    "\n",
    "\n",
    "print(\"\\n Support Vector Machine classifier results:\")\n",
    "cross_val_results=cross_val_score(sv_clf,glassdoor_data_train_prepared,glassdoor_labels,cv=5,scoring=\"recall\",verbose=1)\n",
    "print(cross_val_results)\n",
    "print(\"The mean value of Error across cross validation models:\",np.mean(cross_val_results)*100)\n",
    "print(\"The Standard deviation of Error across cross validation models:\",np.std(cross_val_results)*100)\n",
    "\n",
    "print(\"\\n Linear Support Vector classifier results:\")\n",
    "cross_val_results=cross_val_score(lsv_clf,glassdoor_data_train_prepared,glassdoor_labels,cv=5,scoring=\"recall\",verbose=1)\n",
    "print(cross_val_results)\n",
    "print(\"The mean value of Error across cross validation models:\",np.mean(cross_val_results)*100)\n",
    "print(\"The Standard deviation of Error across cross validation models:\",np.std(cross_val_results)*100)"
   ]
  },
  {
   "cell_type": "markdown",
   "metadata": {},
   "source": [
    "### Trying GridSearchCV on the best performer RandomForestClassifier"
   ]
  },
  {
   "cell_type": "code",
   "execution_count": 28,
   "metadata": {},
   "outputs": [
    {
     "data": {
      "text/plain": [
       "GridSearchCV(cv=5, error_score='raise-deprecating',\n",
       "       estimator=RandomForestClassifier(bootstrap=True, class_weight=None, criterion='gini',\n",
       "            max_depth=None, max_features='auto', max_leaf_nodes=None,\n",
       "            min_impurity_decrease=0.0, min_impurity_split=None,\n",
       "            min_samples_leaf=1, min_samples_split=2,\n",
       "            min_weight_fraction_leaf=0.0, n_estimators=10, n_jobs=1,\n",
       "            oob_score=False, random_state=42, verbose=0, warm_start=False),\n",
       "       fit_params=None, iid='warn', n_jobs=1,\n",
       "       param_grid=[{'n_estimators': [3, 10, 30], 'max_features': [2, 4, 6, 8]}, {'bootstrap': [False], 'n_estimators': [3, 10], 'max_features': [2, 3, 4]}],\n",
       "       pre_dispatch='2*n_jobs', refit=True, return_train_score=True,\n",
       "       scoring='recall', verbose=0)"
      ]
     },
     "execution_count": 28,
     "metadata": {},
     "output_type": "execute_result"
    }
   ],
   "source": [
    "import warnings\n",
    "warnings.filterwarnings('ignore')\n",
    "\n",
    "from sklearn.model_selection import GridSearchCV\n",
    "\n",
    "param_grid = [\n",
    "    # try 12 (3×4) combinations of hyperparameters\n",
    "    {'n_estimators': [3, 10, 30], 'max_features': [2, 4, 6, 8]},\n",
    "    # then try 6 (2×3) combinations with bootstrap set as False\n",
    "    {'bootstrap': [False], 'n_estimators': [3, 10], 'max_features': [2, 3, 4]},\n",
    "  ]\n",
    "\n",
    "forest_reg = RandomForestClassifier(random_state=42)\n",
    "# train across 5 folds, that's a total of (12+6)*5=90 rounds of training \n",
    "grid_search = GridSearchCV(forest_reg, param_grid, cv=5,\n",
    "                           scoring='recall', return_train_score=True)\n",
    "grid_search.fit(glassdoor_data_train_prepared,glassdoor_labels)"
   ]
  },
  {
   "cell_type": "markdown",
   "metadata": {},
   "source": [
    "### Evaluating the best estimator from the Grid Search performed above"
   ]
  },
  {
   "cell_type": "code",
   "execution_count": 29,
   "metadata": {},
   "outputs": [
    {
     "name": "stdout",
     "output_type": "stream",
     "text": [
      "accuracy score: 0.8322981366459627\n",
      "confusion matrix: [[2774  238]\n",
      " [ 329   40]]\n",
      "classification report:              precision    recall  f1-score   support\n",
      "\n",
      "          0       0.89      0.92      0.91      3012\n",
      "          1       0.14      0.11      0.12       369\n",
      "\n",
      "avg / total       0.81      0.83      0.82      3381\n",
      "\n"
     ]
    }
   ],
   "source": [
    "from sklearn.metrics import accuracy_score,precision_score,recall_score,confusion_matrix,f1_score,roc_auc_score\n",
    "#print(gsearch1.best_estimator_)\n",
    "test_results=grid_search.best_estimator_.predict(glassdoor_data_test_prepared)\n",
    "print(\"accuracy score:\",accuracy_score(glassdoor_test_labels,test_results))\n",
    "print(\"confusion matrix:\",confusion_matrix(glassdoor_test_labels,test_results))\n",
    "print(\"classification report:\",classification_report(glassdoor_test_labels,test_results))"
   ]
  },
  {
   "cell_type": "markdown",
   "metadata": {},
   "source": [
    "### Verifying the Hypothesis that the false positives are Relatively new customers compared to Paying Clients"
   ]
  },
  {
   "cell_type": "code",
   "execution_count": 30,
   "metadata": {},
   "outputs": [
    {
     "name": "stdout",
     "output_type": "stream",
     "text": [
      "The mean of the time spend by the Established Paying Clients(days): 447.15176151761517\n",
      "The mean of the time spend by the Potential Paying Clients(days): 359.13309352517985\n",
      "The mean of the time spend by the Potential Paying Clients(days): 88.01866799243533\n"
     ]
    }
   ],
   "source": [
    "g=np.array(glassdoor_test_labels[\"isWon\"])\n",
    "established_Clients=[]\n",
    "potential_Clients=[]#As per Models\n",
    "for i in range(len(glassdoor_test_labels)):\n",
    "    if(g[i]==1):\n",
    "        established_Clients.append(glassdoor_data_test.timeOnSite.iloc[i])\n",
    "    if(test_results[i]==1):\n",
    "        potential_Clients.append(glassdoor_data_test.timeOnSite.iloc[i])\n",
    "print(\"The mean of the time spend by the Established Paying Clients(days):\",np.mean(established_Clients))\n",
    "print(\"The mean of the time spend by the Potential Paying Clients(days):\",np.mean(potential_Clients))\n",
    "print(\"The mean of the time spend by the Potential Paying Clients(days):\",np.mean(established_Clients)-np.mean(potential_Clients))"
   ]
  },
  {
   "cell_type": "markdown",
   "metadata": {},
   "source": [
    "### Let's Get Some Work For Sales/Customer Management Team"
   ]
  },
  {
   "cell_type": "code",
   "execution_count": 31,
   "metadata": {},
   "outputs": [
    {
     "name": "stdout",
     "output_type": "stream",
     "text": [
      "The Potential Customers in Future:\n",
      "['ApplicantPro', 'workDay', 'OpenHire (FTP Feed)', 'ultiRecruit', 'workDay', 'Jobvite', 'WorkforceNow', 'tbe', 'SmartRecruiters', 'workDay', 'taleo', 'iCIMS Master Feed', 'MyStaffingPro', 'OpenHire (FTP Feed)', 'ultiRecruit', 'iCIMS Master Feed', 'icims', 'WorkableHR.com', 'Jobvite', 'MyStaffingPro', 'app.theresumator.com', 'MyStaffingPro', 'iCIMS Master Feed', 'ultiRecruit', 'tbe', 'SmartRecruiters', 'app.theresumator.com', 'app.theresumator.com', 'Jobvite', 'icims', 'iCIMS Master Feed', 'iCIMS Master Feed', 'ultiRecruit', 'greenhouse', 'ultiRecruit', 'ultiRecruit', 'iCIMS Master Feed', 'WorkableHR.com', 'icims', 'workDay', 'app.theresumator.com', 'Jobvite', 'icims', 'ultiRecruit', 'tbe', 'WorkforceNow', 'ultiRecruit', 'Jobvite', 'iCIMS Master Feed', 'greenhouse', 'iCIMS Master Feed', 'ApplicantPro', 'ultiRecruit', 'app.theresumator.com', 'ultiRecruit', 'Jobvite', 'ultiRecruit', 'kenexaBrassRing', 'app.theresumator.com', 'WorkforceNow', 'MyStaffingPro']\n"
     ]
    }
   ],
   "source": [
    "glassdoor_test_labels_array=np.array(glassdoor_test_labels[\"isWon\"])\n",
    "potential_Customers=[]\n",
    "for i in range(len(glassdoor_test_labels)):\n",
    "    #print(g[i],test_results[i])\n",
    "    if(glassdoor_test_labels_array[i]==0):\n",
    "        if(test_results[i]==1):\n",
    "            if glassdoor_data_test.employerId.iloc[i] not in ([\"UNKNOWN\",\"CustomCrawl\",'EMPLOYER SOURCE',\"other\"]):\n",
    "                potential_Customers.append(glassdoor_data_test.employerId.iloc[i])\n",
    "print(\"The Potential Customers in Future:\")\n",
    "print(potential_Customers)"
   ]
  },
  {
   "cell_type": "markdown",
   "metadata": {},
   "source": [
    "## Let's Do Something Fancy!!"
   ]
  },
  {
   "cell_type": "code",
   "execution_count": 32,
   "metadata": {},
   "outputs": [
    {
     "name": "stderr",
     "output_type": "stream",
     "text": [
      "Using TensorFlow backend.\n"
     ]
    }
   ],
   "source": [
    "from keras.models import Sequential"
   ]
  },
  {
   "cell_type": "code",
   "execution_count": 33,
   "metadata": {},
   "outputs": [],
   "source": [
    "import numpy as np\n",
    "from keras.datasets import mnist\n",
    "from keras.layers.core import Dense,Dropout,Activation\n",
    "from keras.optimizers import SGD\n",
    "from keras.utils import np_utils"
   ]
  },
  {
   "cell_type": "code",
   "execution_count": 34,
   "metadata": {},
   "outputs": [],
   "source": [
    "np.random.seed(1671)"
   ]
  },
  {
   "cell_type": "code",
   "execution_count": 35,
   "metadata": {},
   "outputs": [
    {
     "data": {
      "text/plain": [
       "(24088, 16)"
      ]
     },
     "execution_count": 35,
     "metadata": {},
     "output_type": "execute_result"
    }
   ],
   "source": [
    "glassdoor_data_train_prepared.shape"
   ]
  },
  {
   "cell_type": "code",
   "execution_count": 36,
   "metadata": {},
   "outputs": [],
   "source": [
    "nb_epoch=2500\n",
    "batch_size=500\n",
    "verbose=1\n",
    "nb_classes=1\n",
    "n_hidden1=30\n",
    "n_hidden2=15\n",
    "validation_split=0.2\n",
    "dropout=0.3\n",
    "reshaped=16"
   ]
  },
  {
   "cell_type": "code",
   "execution_count": 37,
   "metadata": {},
   "outputs": [
    {
     "name": "stdout",
     "output_type": "stream",
     "text": [
      "_________________________________________________________________\n",
      "Layer (type)                 Output Shape              Param #   \n",
      "=================================================================\n",
      "dense_1 (Dense)              (None, 30)                510       \n",
      "_________________________________________________________________\n",
      "activation_1 (Activation)    (None, 30)                0         \n",
      "_________________________________________________________________\n",
      "dropout_1 (Dropout)          (None, 30)                0         \n",
      "_________________________________________________________________\n",
      "dense_2 (Dense)              (None, 15)                465       \n",
      "_________________________________________________________________\n",
      "activation_2 (Activation)    (None, 15)                0         \n",
      "_________________________________________________________________\n",
      "dropout_2 (Dropout)          (None, 15)                0         \n",
      "_________________________________________________________________\n",
      "dense_3 (Dense)              (None, 1)                 16        \n",
      "_________________________________________________________________\n",
      "activation_3 (Activation)    (None, 1)                 0         \n",
      "=================================================================\n",
      "Total params: 991\n",
      "Trainable params: 991\n",
      "Non-trainable params: 0\n",
      "_________________________________________________________________\n",
      "3381/3381 [==============================] - 0s 18us/step\n",
      "Test Score: 0.8577660901664242\n",
      "Test accuracy: 0.3179532683255298\n"
     ]
    }
   ],
   "source": [
    "model=Sequential()\n",
    "model.add(Dense(n_hidden1,input_shape=(reshaped,)))\n",
    "model.add(Activation(\"relu\"))\n",
    "model.add(Dropout(dropout))\n",
    "model.add(Dense(n_hidden2))\n",
    "model.add(Activation(\"relu\"))\n",
    "model.add(Dropout(dropout))\n",
    "model.add(Dense(nb_classes))\n",
    "model.add(Activation('sigmoid'))\n",
    "model.summary()\n",
    "model.compile(loss=\"binary_crossentropy\",optimizer=\"rmsprop\",metrics=[\"accuracy\"])\n",
    "history=model.fit(glassdoor_data_train_prepared,glassdoor_labels,batch_size=batch_size,epochs=nb_epoch,verbose=0,validation_split=validation_split)\n",
    "score=model.evaluate(glassdoor_data_test_prepared,glassdoor_test_labels,verbose=1)\n",
    "print(\"Test Score:\",score[0])\n",
    "print(\"Test accuracy:\",score[1])"
   ]
  },
  {
   "cell_type": "markdown",
   "metadata": {},
   "source": [
    "## Future Work:\n",
    "\n",
    "**Neural Network with Recall as accuracy measure**\n",
    "\n",
    "**Collection of Data regarding after how many days a Client has converted to paying Client to make targeting more precise.**\n",
    "\n",
    "**On a lighter Note,Suggesting Glassdoor to make themselves better as 10% paying Customers is not a great number**"
   ]
  }
 ],
 "metadata": {
  "kernelspec": {
   "display_name": "Python 3",
   "language": "python",
   "name": "python3"
  },
  "language_info": {
   "codemirror_mode": {
    "name": "ipython",
    "version": 3
   },
   "file_extension": ".py",
   "mimetype": "text/x-python",
   "name": "python",
   "nbconvert_exporter": "python",
   "pygments_lexer": "ipython3",
   "version": "3.6.4"
  }
 },
 "nbformat": 4,
 "nbformat_minor": 2
}
