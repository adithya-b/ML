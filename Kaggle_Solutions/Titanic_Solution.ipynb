{
 "cells": [
  {
   "cell_type": "code",
   "execution_count": 1,
   "metadata": {
    "collapsed": true
   },
   "outputs": [],
   "source": [
    "import pandas as pd\n",
    "#loading the train and test sets\n",
    "titanicdataframe=pd.read_csv(\"titanic_train_set.csv\")\n",
    "final_eval_set=pd.read_csv(\"titanic_test_set.csv\")"
   ]
  },
  {
   "cell_type": "code",
   "execution_count": 2,
   "metadata": {},
   "outputs": [
    {
     "name": "stdout",
     "output_type": "stream",
     "text": [
      "Index([u'PassengerId', u'Survived', u'Pclass', u'Name', u'Sex', u'Age',\n",
      "       u'SibSp', u'Parch', u'Ticket', u'Fare', u'Cabin', u'Embarked'],\n",
      "      dtype='object')\n",
      "   PassengerId  Survived  Pclass  \\\n",
      "0            1         0       3   \n",
      "1            2         1       1   \n",
      "2            3         1       3   \n",
      "3            4         1       1   \n",
      "4            5         0       3   \n",
      "\n",
      "                                                Name     Sex   Age  SibSp  \\\n",
      "0                            Braund, Mr. Owen Harris    male  22.0      1   \n",
      "1  Cumings, Mrs. John Bradley (Florence Briggs Th...  female  38.0      1   \n",
      "2                             Heikkinen, Miss. Laina  female  26.0      0   \n",
      "3       Futrelle, Mrs. Jacques Heath (Lily May Peel)  female  35.0      1   \n",
      "4                           Allen, Mr. William Henry    male  35.0      0   \n",
      "\n",
      "   Parch            Ticket     Fare Cabin Embarked  \n",
      "0      0         A/5 21171   7.2500   NaN        S  \n",
      "1      0          PC 17599  71.2833   C85        C  \n",
      "2      0  STON/O2. 3101282   7.9250   NaN        S  \n",
      "3      0            113803  53.1000  C123        S  \n",
      "4      0            373450   8.0500   NaN        S  \n",
      "<class 'pandas.core.frame.DataFrame'>\n",
      "RangeIndex: 891 entries, 0 to 890\n",
      "Data columns (total 12 columns):\n",
      "PassengerId    891 non-null int64\n",
      "Survived       891 non-null int64\n",
      "Pclass         891 non-null int64\n",
      "Name           891 non-null object\n",
      "Sex            891 non-null object\n",
      "Age            714 non-null float64\n",
      "SibSp          891 non-null int64\n",
      "Parch          891 non-null int64\n",
      "Ticket         891 non-null object\n",
      "Fare           891 non-null float64\n",
      "Cabin          204 non-null object\n",
      "Embarked       889 non-null object\n",
      "dtypes: float64(2), int64(5), object(5)\n",
      "memory usage: 83.6+ KB\n"
     ]
    },
    {
     "data": {
      "text/html": [
       "<div>\n",
       "<style scoped>\n",
       "    .dataframe tbody tr th:only-of-type {\n",
       "        vertical-align: middle;\n",
       "    }\n",
       "\n",
       "    .dataframe tbody tr th {\n",
       "        vertical-align: top;\n",
       "    }\n",
       "\n",
       "    .dataframe thead th {\n",
       "        text-align: right;\n",
       "    }\n",
       "</style>\n",
       "<table border=\"1\" class=\"dataframe\">\n",
       "  <thead>\n",
       "    <tr style=\"text-align: right;\">\n",
       "      <th></th>\n",
       "      <th>PassengerId</th>\n",
       "      <th>Survived</th>\n",
       "      <th>Pclass</th>\n",
       "      <th>Age</th>\n",
       "      <th>SibSp</th>\n",
       "      <th>Parch</th>\n",
       "      <th>Fare</th>\n",
       "    </tr>\n",
       "  </thead>\n",
       "  <tbody>\n",
       "    <tr>\n",
       "      <th>count</th>\n",
       "      <td>891.000000</td>\n",
       "      <td>891.000000</td>\n",
       "      <td>891.000000</td>\n",
       "      <td>714.000000</td>\n",
       "      <td>891.000000</td>\n",
       "      <td>891.000000</td>\n",
       "      <td>891.000000</td>\n",
       "    </tr>\n",
       "    <tr>\n",
       "      <th>mean</th>\n",
       "      <td>446.000000</td>\n",
       "      <td>0.383838</td>\n",
       "      <td>2.308642</td>\n",
       "      <td>29.699118</td>\n",
       "      <td>0.523008</td>\n",
       "      <td>0.381594</td>\n",
       "      <td>32.204208</td>\n",
       "    </tr>\n",
       "    <tr>\n",
       "      <th>std</th>\n",
       "      <td>257.353842</td>\n",
       "      <td>0.486592</td>\n",
       "      <td>0.836071</td>\n",
       "      <td>14.526497</td>\n",
       "      <td>1.102743</td>\n",
       "      <td>0.806057</td>\n",
       "      <td>49.693429</td>\n",
       "    </tr>\n",
       "    <tr>\n",
       "      <th>min</th>\n",
       "      <td>1.000000</td>\n",
       "      <td>0.000000</td>\n",
       "      <td>1.000000</td>\n",
       "      <td>0.420000</td>\n",
       "      <td>0.000000</td>\n",
       "      <td>0.000000</td>\n",
       "      <td>0.000000</td>\n",
       "    </tr>\n",
       "    <tr>\n",
       "      <th>25%</th>\n",
       "      <td>223.500000</td>\n",
       "      <td>0.000000</td>\n",
       "      <td>2.000000</td>\n",
       "      <td>20.125000</td>\n",
       "      <td>0.000000</td>\n",
       "      <td>0.000000</td>\n",
       "      <td>7.910400</td>\n",
       "    </tr>\n",
       "    <tr>\n",
       "      <th>50%</th>\n",
       "      <td>446.000000</td>\n",
       "      <td>0.000000</td>\n",
       "      <td>3.000000</td>\n",
       "      <td>28.000000</td>\n",
       "      <td>0.000000</td>\n",
       "      <td>0.000000</td>\n",
       "      <td>14.454200</td>\n",
       "    </tr>\n",
       "    <tr>\n",
       "      <th>75%</th>\n",
       "      <td>668.500000</td>\n",
       "      <td>1.000000</td>\n",
       "      <td>3.000000</td>\n",
       "      <td>38.000000</td>\n",
       "      <td>1.000000</td>\n",
       "      <td>0.000000</td>\n",
       "      <td>31.000000</td>\n",
       "    </tr>\n",
       "    <tr>\n",
       "      <th>max</th>\n",
       "      <td>891.000000</td>\n",
       "      <td>1.000000</td>\n",
       "      <td>3.000000</td>\n",
       "      <td>80.000000</td>\n",
       "      <td>8.000000</td>\n",
       "      <td>6.000000</td>\n",
       "      <td>512.329200</td>\n",
       "    </tr>\n",
       "  </tbody>\n",
       "</table>\n",
       "</div>"
      ],
      "text/plain": [
       "       PassengerId    Survived      Pclass         Age       SibSp  \\\n",
       "count   891.000000  891.000000  891.000000  714.000000  891.000000   \n",
       "mean    446.000000    0.383838    2.308642   29.699118    0.523008   \n",
       "std     257.353842    0.486592    0.836071   14.526497    1.102743   \n",
       "min       1.000000    0.000000    1.000000    0.420000    0.000000   \n",
       "25%     223.500000    0.000000    2.000000   20.125000    0.000000   \n",
       "50%     446.000000    0.000000    3.000000   28.000000    0.000000   \n",
       "75%     668.500000    1.000000    3.000000   38.000000    1.000000   \n",
       "max     891.000000    1.000000    3.000000   80.000000    8.000000   \n",
       "\n",
       "            Parch        Fare  \n",
       "count  891.000000  891.000000  \n",
       "mean     0.381594   32.204208  \n",
       "std      0.806057   49.693429  \n",
       "min      0.000000    0.000000  \n",
       "25%      0.000000    7.910400  \n",
       "50%      0.000000   14.454200  \n",
       "75%      0.000000   31.000000  \n",
       "max      6.000000  512.329200  "
      ]
     },
     "execution_count": 2,
     "metadata": {},
     "output_type": "execute_result"
    }
   ],
   "source": [
    "#Understanding the data from train set\n",
    "print(titanicdataframe.columns)\n",
    "print(titanicdataframe.head(5))\n",
    "titanicdataframe.info()\n",
    "titanicdataframe.describe()"
   ]
  },
  {
   "cell_type": "code",
   "execution_count": 3,
   "metadata": {
    "collapsed": true
   },
   "outputs": [],
   "source": [
    "target_attrib=[\"Survived\"]\n",
    "num_attrib=[\"PassengerId\",\"Pclass\",\"SibSp\",\"Fare\",\"Parch\",\"Age\"] \n",
    "text_attrib=[\"Name\",\"Sex\",\"Ticket\",\"Cabin\",\"Embarked\"]\n",
    "cat_attrib=[\"Pclass\"]#,\"Sex\",\"Embarked\"]\n",
    "nonnum_cat_attrib=[\"Sex\",\"Embarked\"]\n",
    "rel_num_attrib=[\"Age\",\"SibSp\",\"Fare\",\"Parch\"]\n",
    "rel_attrib=[\"Pclass\",\"Sex\",\"Embarked\",\"Age\",\"SibSp\",\"Fare\",\"Parch\"]"
   ]
  },
  {
   "cell_type": "markdown",
   "metadata": {},
   "source": [
    "** Attributes Being Considered For Target Estimation **\n",
    "* We are ignoring Name,PassengerId,Ticket and Cabin\n",
    "* Name is being ignored because people are named independent of this event and from the data given it seems highly unlikely that any name is favoured or ignored during rescue(From Problem Description).\n",
    "* PassengerId is being ignored because there is no correlation between the Pclass and it seems to be given on FCFS basis.\n",
    "* Ticket seems to be a random number generated and nothing to do with the target attribute\n",
    "* Cabin may have provided good information but since about 75% of data is missing the same is being dropped.\n",
    "* The rest of attributes are being considered"
   ]
  },
  {
   "cell_type": "code",
   "execution_count": 4,
   "metadata": {},
   "outputs": [
    {
     "data": {
      "text/plain": [
       "Survived       1.000000\n",
       "Fare           0.257307\n",
       "Parch          0.081629\n",
       "PassengerId   -0.005007\n",
       "SibSp         -0.035322\n",
       "Age           -0.077221\n",
       "Pclass        -0.338481\n",
       "Name: Survived, dtype: float64"
      ]
     },
     "execution_count": 4,
     "metadata": {},
     "output_type": "execute_result"
    }
   ],
   "source": [
    "corr_matrix=titanicdataframe.corr()\n",
    "corr_matrix[\"Survived\"].sort_values(ascending=False)"
   ]
  },
  {
   "cell_type": "code",
   "execution_count": 5,
   "metadata": {
    "collapsed": true
   },
   "outputs": [],
   "source": [
    "from sklearn.model_selection import StratifiedShuffleSplit\n",
    "\n",
    "split=StratifiedShuffleSplit(n_splits=1,test_size=0.2,random_state=42)\n",
    "for train_index,test_index in split.split(titanicdataframe,titanicdataframe[\"Survived\"]):\n",
    "    train_set=titanicdataframe.loc[train_index]\n",
    "    test_set=titanicdataframe.loc[test_index]"
   ]
  },
  {
   "cell_type": "code",
   "execution_count": 6,
   "metadata": {},
   "outputs": [
    {
     "data": {
      "text/html": [
       "<div>\n",
       "<style scoped>\n",
       "    .dataframe tbody tr th:only-of-type {\n",
       "        vertical-align: middle;\n",
       "    }\n",
       "\n",
       "    .dataframe tbody tr th {\n",
       "        vertical-align: top;\n",
       "    }\n",
       "\n",
       "    .dataframe thead th {\n",
       "        text-align: right;\n",
       "    }\n",
       "</style>\n",
       "<table border=\"1\" class=\"dataframe\">\n",
       "  <thead>\n",
       "    <tr style=\"text-align: right;\">\n",
       "      <th></th>\n",
       "      <th>PassengerId</th>\n",
       "      <th>Survived</th>\n",
       "      <th>Pclass</th>\n",
       "      <th>Age</th>\n",
       "      <th>SibSp</th>\n",
       "      <th>Parch</th>\n",
       "      <th>Fare</th>\n",
       "    </tr>\n",
       "  </thead>\n",
       "  <tbody>\n",
       "    <tr>\n",
       "      <th>count</th>\n",
       "      <td>712.000000</td>\n",
       "      <td>712.000000</td>\n",
       "      <td>712.000000</td>\n",
       "      <td>575.000000</td>\n",
       "      <td>712.000000</td>\n",
       "      <td>712.000000</td>\n",
       "      <td>712.000000</td>\n",
       "    </tr>\n",
       "    <tr>\n",
       "      <th>mean</th>\n",
       "      <td>444.405899</td>\n",
       "      <td>0.383427</td>\n",
       "      <td>2.308989</td>\n",
       "      <td>29.807687</td>\n",
       "      <td>0.492978</td>\n",
       "      <td>0.390449</td>\n",
       "      <td>31.819826</td>\n",
       "    </tr>\n",
       "    <tr>\n",
       "      <th>std</th>\n",
       "      <td>257.465527</td>\n",
       "      <td>0.486563</td>\n",
       "      <td>0.833563</td>\n",
       "      <td>14.485211</td>\n",
       "      <td>1.060720</td>\n",
       "      <td>0.838134</td>\n",
       "      <td>48.059104</td>\n",
       "    </tr>\n",
       "    <tr>\n",
       "      <th>min</th>\n",
       "      <td>1.000000</td>\n",
       "      <td>0.000000</td>\n",
       "      <td>1.000000</td>\n",
       "      <td>0.420000</td>\n",
       "      <td>0.000000</td>\n",
       "      <td>0.000000</td>\n",
       "      <td>0.000000</td>\n",
       "    </tr>\n",
       "    <tr>\n",
       "      <th>25%</th>\n",
       "      <td>222.750000</td>\n",
       "      <td>0.000000</td>\n",
       "      <td>2.000000</td>\n",
       "      <td>21.000000</td>\n",
       "      <td>0.000000</td>\n",
       "      <td>0.000000</td>\n",
       "      <td>7.895800</td>\n",
       "    </tr>\n",
       "    <tr>\n",
       "      <th>50%</th>\n",
       "      <td>439.500000</td>\n",
       "      <td>0.000000</td>\n",
       "      <td>3.000000</td>\n",
       "      <td>28.500000</td>\n",
       "      <td>0.000000</td>\n",
       "      <td>0.000000</td>\n",
       "      <td>14.454200</td>\n",
       "    </tr>\n",
       "    <tr>\n",
       "      <th>75%</th>\n",
       "      <td>667.250000</td>\n",
       "      <td>1.000000</td>\n",
       "      <td>3.000000</td>\n",
       "      <td>39.000000</td>\n",
       "      <td>1.000000</td>\n",
       "      <td>0.000000</td>\n",
       "      <td>31.000000</td>\n",
       "    </tr>\n",
       "    <tr>\n",
       "      <th>max</th>\n",
       "      <td>891.000000</td>\n",
       "      <td>1.000000</td>\n",
       "      <td>3.000000</td>\n",
       "      <td>80.000000</td>\n",
       "      <td>8.000000</td>\n",
       "      <td>6.000000</td>\n",
       "      <td>512.329200</td>\n",
       "    </tr>\n",
       "  </tbody>\n",
       "</table>\n",
       "</div>"
      ],
      "text/plain": [
       "       PassengerId    Survived      Pclass         Age       SibSp  \\\n",
       "count   712.000000  712.000000  712.000000  575.000000  712.000000   \n",
       "mean    444.405899    0.383427    2.308989   29.807687    0.492978   \n",
       "std     257.465527    0.486563    0.833563   14.485211    1.060720   \n",
       "min       1.000000    0.000000    1.000000    0.420000    0.000000   \n",
       "25%     222.750000    0.000000    2.000000   21.000000    0.000000   \n",
       "50%     439.500000    0.000000    3.000000   28.500000    0.000000   \n",
       "75%     667.250000    1.000000    3.000000   39.000000    1.000000   \n",
       "max     891.000000    1.000000    3.000000   80.000000    8.000000   \n",
       "\n",
       "            Parch        Fare  \n",
       "count  712.000000  712.000000  \n",
       "mean     0.390449   31.819826  \n",
       "std      0.838134   48.059104  \n",
       "min      0.000000    0.000000  \n",
       "25%      0.000000    7.895800  \n",
       "50%      0.000000   14.454200  \n",
       "75%      0.000000   31.000000  \n",
       "max      6.000000  512.329200  "
      ]
     },
     "execution_count": 6,
     "metadata": {},
     "output_type": "execute_result"
    }
   ],
   "source": [
    "train_set.describe()"
   ]
  },
  {
   "cell_type": "code",
   "execution_count": 7,
   "metadata": {},
   "outputs": [
    {
     "data": {
      "image/png": "[encoded data removed]",
      "text/plain": [
       "<matplotlib.figure.Figure at 0x1a134e1c10>"
      ]
     },
     "metadata": {},
     "output_type": "display_data"
    }
   ],
   "source": [
    "import matplotlib.pyplot as plt\n",
    "import seaborn as sns\n",
    "sns.set_style(\"darkgrid\")\n",
    "train_set.hist(bins=50,figsize=(20,15))\n",
    "plt.show()"
   ]
  },
  {
   "cell_type": "code",
   "execution_count": 8,
   "metadata": {},
   "outputs": [
    {
     "data": {
      "text/plain": [
       "Survived       1.000000\n",
       "Fare           0.275499\n",
       "Parch          0.084178\n",
       "PassengerId    0.011892\n",
       "SibSp         -0.026115\n",
       "Age           -0.084268\n",
       "Pclass        -0.348007\n",
       "Name: Survived, dtype: float64"
      ]
     },
     "execution_count": 8,
     "metadata": {},
     "output_type": "execute_result"
    }
   ],
   "source": [
    "corr_matrix=train_set.corr()\n",
    "corr_matrix[\"Survived\"].sort_values(ascending=False)"
   ]
  },
  {
   "cell_type": "markdown",
   "metadata": {},
   "source": [
    "** The scatter plots for Classifier attribute does not make sense just check the correlation matrix **"
   ]
  },
  {
   "cell_type": "code",
   "execution_count": 9,
   "metadata": {
    "collapsed": true
   },
   "outputs": [],
   "source": [
    "titanic=train_set.drop([\"Survived\"],axis=1)\n",
    "titanic_labels=train_set[\"Survived\"].copy()"
   ]
  },
  {
   "cell_type": "code",
   "execution_count": 10,
   "metadata": {
    "collapsed": true
   },
   "outputs": [],
   "source": [
    "from sklearn.base import BaseEstimator,TransformerMixin\n",
    "class DataframeSelector(BaseEstimator,TransformerMixin):\n",
    "    def __init__(self,attribute_names,retain=False):\n",
    "        self.attribute_names=attribute_names\n",
    "        self.retain=retain\n",
    "    def fit(self,a=None):\n",
    "        return self\n",
    "    def transform(self,dataframe):\n",
    "        if(self.retain):\n",
    "            return dataframe[self.attribute_names]\n",
    "        else:\n",
    "            return dataframe[self.attribute_names].values"
   ]
  },
  {
   "cell_type": "code",
   "execution_count": 11,
   "metadata": {
    "collapsed": true
   },
   "outputs": [],
   "source": [
    "from sklearn.base import BaseEstimator,TransformerMixin\n",
    "from sklearn.preprocessing import LabelEncoder\n",
    "class MultiColLabelEncoder(BaseEstimator,TransformerMixin):\n",
    "    def __init__(self):\n",
    "        pass\n",
    "    def fit(self,y=None):\n",
    "        return self\n",
    "    def transform(self,X):\n",
    "        for attr in list(X):\n",
    "            X[attr]=LabelEncoder().fit_transform(X[attr])\n",
    "        return X.values"
   ]
  },
  {
   "cell_type": "code",
   "execution_count": 12,
   "metadata": {
    "collapsed": true
   },
   "outputs": [],
   "source": [
    "from sklearn.pipeline import Pipeline\n",
    "from sklearn.preprocessing import StandardScaler\n",
    "from sklearn.pipeline import FeatureUnion\n",
    "from sklearn.preprocessing import Imputer\n",
    "from sklearn.preprocessing import CategoricalEncoder\n",
    "from sklearn.preprocessing import LabelEncoder\n",
    "\n",
    "num_pipeline=Pipeline([(\"selector\",DataframeSelector(rel_num_attrib)),\n",
    "                                (\"imputer\",Imputer(strategy=\"median\")),\n",
    "                               (\"scaler\",StandardScaler()),\n",
    "                               ])\n",
    "cat_pipeline=Pipeline([(\"selector\",DataframeSelector(cat_attrib)),\n",
    "                       (\"imputer\",Imputer(strategy=\"most_frequent\")),\n",
    "                        (\"encoder\",CategoricalEncoder(encoding=\"onehot-dense\"))])\n",
    "\n",
    "nonum_cat_pipeline=Pipeline([(\"selector\",DataframeSelector(nonnum_cat_attrib,retain=True)),\n",
    "                       (\"multicolencoder\",MultiColLabelEncoder()),\n",
    "                       (\"imputer\",Imputer(strategy=\"most_frequent\")),\n",
    "                        (\"encoder\",CategoricalEncoder(encoding=\"onehot-dense\"))])\n",
    "\n",
    "full_pipeline=FeatureUnion(transformer_list=[(\"num_pipeline\",num_pipeline),\n",
    "                                             (\"cat_pipeline\",cat_pipeline),\n",
    "                                              (\"nonum_cat_pipeline\",nonum_cat_pipeline)])"
   ]
  },
  {
   "cell_type": "code",
   "execution_count": 13,
   "metadata": {},
   "outputs": [
    {
     "name": "stdout",
     "output_type": "stream",
     "text": [
      "[[-0.08113533 -0.46508428  0.5138115  ...,  0.          0.          1.        ]\n",
      " [-0.08113533 -0.46508428 -0.66256323 ...,  0.          0.          1.        ]\n",
      " [-0.08113533 -0.46508428  3.95539858 ...,  0.          0.          1.        ]\n",
      " ..., \n",
      " [ 1.41700669  0.47833454  0.0532047  ...,  0.          0.          1.        ]\n",
      " [ 1.34017889 -0.46508428  0.13909685 ...,  0.          0.          1.        ]\n",
      " [-0.08113533 -0.46508428 -0.10973011 ...,  0.          0.          1.        ]]\n"
     ]
    },
    {
     "name": "stderr",
     "output_type": "stream",
     "text": [
      "/Users/adithyabandi/anaconda2/lib/python2.7/site-packages/ipykernel_launcher.py:10: SettingWithCopyWarning: \n",
      "A value is trying to be set on a copy of a slice from a DataFrame.\n",
      "Try using .loc[row_indexer,col_indexer] = value instead\n",
      "\n",
      "See the caveats in the documentation: http://pandas.pydata.org/pandas-docs/stable/indexing.html#indexing-view-versus-copy\n",
      "  # Remove the CWD from sys.path while we load stuff.\n"
     ]
    }
   ],
   "source": [
    "import numpy as np\n",
    "titanic_prepared=titanic.copy()\n",
    "titanic_prepared=full_pipeline.fit_transform(titanic_prepared)\n",
    "print(titanic_prepared)"
   ]
  },
  {
   "cell_type": "code",
   "execution_count": 14,
   "metadata": {},
   "outputs": [
    {
     "name": "stdout",
     "output_type": "stream",
     "text": [
      "Stochastic gradient classifier results:\n",
      "[ 0.63636364  0.67132867  0.74125874  0.75352113  0.46808511]\n",
      "65.4111456419\n",
      "10.2658806077\n",
      "\n",
      " Random Forest classifier results:\n",
      "[ 0.79020979  0.74125874  0.81118881  0.85211268  0.80141844]\n",
      "79.9237691686\n",
      "3.57390838977\n",
      "\n",
      " Gradient classifier results:\n"
     ]
    },
    {
     "name": "stderr",
     "output_type": "stream",
     "text": [
      "/Users/adithyabandi/anaconda2/lib/python2.7/site-packages/sklearn/linear_model/stochastic_gradient.py:131: FutureWarning: max_iter and tol parameters have been added in SGDClassifier in 0.19. If both are left unset, they default to max_iter=5 and tol=None. If tol is not None, max_iter defaults to max_iter=1000. From 0.21, default max_iter will be 1000, and default tol will be 1e-3.\n",
      "  FutureWarning)\n"
     ]
    },
    {
     "name": "stdout",
     "output_type": "stream",
     "text": [
      "[ 0.76223776  0.77622378  0.86713287  0.83802817  0.84397163]\n",
      "81.7518841163\n",
      "4.08490251496\n",
      "\n",
      " K Neighbors classifier results:\n",
      "[ 0.77622378  0.7972028   0.85314685  0.8028169   0.80851064]\n",
      "80.7580193256\n",
      "2.5261790945\n",
      "\n",
      " Support Vector Machine classifier results:\n",
      "[ 0.7972028   0.81118881  0.83916084  0.82394366  0.82978723]\n",
      "82.0256668713\n",
      "1.46662898294\n",
      "\n",
      " Linear Support Vector classifier results:\n",
      "[ 0.7972028   0.74825175  0.8041958   0.81690141  0.80851064]\n",
      "79.501247928\n",
      "2.4236428914\n"
     ]
    }
   ],
   "source": [
    "#Machine learning Models libraries\n",
    "from sklearn.linear_model import SGDClassifier\n",
    "from sklearn.ensemble import RandomForestClassifier\n",
    "from sklearn.ensemble import GradientBoostingClassifier\n",
    "from sklearn.neighbors import KNeighborsClassifier\n",
    "from sklearn.svm import SVC\n",
    "from sklearn.svm import LinearSVC\n",
    "\n",
    "#Scoring and Validating Model\n",
    "from sklearn.model_selection import cross_val_score\n",
    "\n",
    "#Initializing ML models\n",
    "sgd_clf=SGDClassifier(random_state=42)\n",
    "rf_clf=RandomForestClassifier(random_state=42)\n",
    "gb_clf=GradientBoostingClassifier(random_state=42)\n",
    "knn_clf=KNeighborsClassifier()\n",
    "sv_clf=SVC()\n",
    "lsv_clf=LinearSVC()\n",
    "\n",
    "#Validating ML Models\n",
    "print(\"Stochastic gradient classifier results:\")\n",
    "cross_val_results=cross_val_score(sgd_clf,titanic_prepared,titanic_labels,cv=5,scoring=\"accuracy\")\n",
    "print(cross_val_results)\n",
    "print(np.mean(cross_val_results)*100)\n",
    "print(np.std(cross_val_results)*100)\n",
    "\n",
    "print(\"\\n Random Forest classifier results:\")\n",
    "cross_val_results=cross_val_score(rf_clf,titanic_prepared,titanic_labels,cv=5,scoring=\"accuracy\")\n",
    "print(cross_val_results)\n",
    "print(np.mean(cross_val_results)*100)\n",
    "print(np.std(cross_val_results)*100)\n",
    "\n",
    "print(\"\\n Gradient classifier results:\")\n",
    "cross_val_results=cross_val_score(gb_clf,titanic_prepared,titanic_labels,cv=5,scoring=\"accuracy\")\n",
    "print(cross_val_results)\n",
    "print(np.mean(cross_val_results)*100)\n",
    "print(np.std(cross_val_results)*100)\n",
    "\n",
    "\n",
    "print(\"\\n K Neighbors classifier results:\")\n",
    "cross_val_results=cross_val_score(knn_clf,titanic_prepared,titanic_labels,cv=5,scoring=\"accuracy\")\n",
    "print(cross_val_results)\n",
    "print(np.mean(cross_val_results)*100)\n",
    "print(np.std(cross_val_results)*100)\n",
    "\n",
    "\n",
    "print(\"\\n Support Vector Machine classifier results:\")\n",
    "cross_val_results=cross_val_score(sv_clf,titanic_prepared,titanic_labels,cv=5,scoring=\"accuracy\")\n",
    "print(cross_val_results)\n",
    "print(np.mean(cross_val_results)*100)\n",
    "print(np.std(cross_val_results)*100)\n",
    "\n",
    "\n",
    "print(\"\\n Linear Support Vector classifier results:\")\n",
    "cross_val_results=cross_val_score(lsv_clf,titanic_prepared,titanic_labels,cv=5,scoring=\"accuracy\")\n",
    "print(cross_val_results)\n",
    "print(np.mean(cross_val_results)*100)\n",
    "print(np.std(cross_val_results)*100)"
   ]
  },
  {
   "cell_type": "code",
   "execution_count": 15,
   "metadata": {},
   "outputs": [
    {
     "name": "stderr",
     "output_type": "stream",
     "text": [
      "/Users/adithyabandi/anaconda2/lib/python2.7/site-packages/sklearn/model_selection/_search.py:714: DeprecationWarning: The default of the `iid` parameter will change from True to False in version 0.22 and will be removed in 0.24. This will change numeric results when test-set sizes are unequal.\n",
      "  DeprecationWarning)\n"
     ]
    },
    {
     "data": {
      "text/plain": [
       "RandomizedSearchCV(cv=5, error_score='raise',\n",
       "          estimator=SVC(C=1.0, cache_size=200, class_weight=None, coef0=0.0,\n",
       "  decision_function_shape='ovr', degree=3, gamma='auto', kernel='rbf',\n",
       "  max_iter=-1, probability=False, random_state=None, shrinking=True,\n",
       "  tol=0.001, verbose=False),\n",
       "          fit_params=None, iid='warn', n_iter=20, n_jobs=1,\n",
       "          param_distributions={'kernel': ['linear', 'poly', 'rbf', 'sigmoid'], 'C': <scipy.stats._distn_infrastructure.rv_frozen object at 0x1a1c527610>, 'gamma': <scipy.stats._distn_infrastructure.rv_frozen object at 0x1a1c527110>},\n",
       "          pre_dispatch='2*n_jobs', random_state=None, refit=True,\n",
       "          return_train_score='warn', scoring='accuracy', verbose=0)"
      ]
     },
     "execution_count": 15,
     "metadata": {},
     "output_type": "execute_result"
    }
   ],
   "source": [
    "from sklearn.model_selection import RandomizedSearchCV\n",
    "from scipy.stats import expon\n",
    "param_grid={'C': expon(scale=100), 'gamma': expon(scale=.1),\n",
    "  'kernel': [\"linear\",\"poly\", \"rbf\",\"sigmoid\"]}\n",
    "rnd_search=RandomizedSearchCV(sv_clf,param_grid,cv=5,scoring=\"accuracy\",n_iter=20)\n",
    "rnd_search.fit(titanic_prepared,titanic_labels)"
   ]
  },
  {
   "cell_type": "code",
   "execution_count": 23,
   "metadata": {},
   "outputs": [
    {
     "name": "stdout",
     "output_type": "stream",
     "text": [
      "0.832865168539\n",
      "0.623595505618\n",
      "0.0611712932364\n"
     ]
    }
   ],
   "source": [
    "rnd_results=rnd_search.cv_results_\n",
    "print(np.max(rnd_results[\"mean_test_score\"]))\n",
    "print(np.min(rnd_results[\"mean_test_score\"]))\n",
    "print(np.std(rnd_results[\"mean_test_score\"]))\n",
    "#for score,param in zip(rnd_results[\"mean_test_score\"],rnd_results[\"params\"]):\n",
    "    #print(score,param)"
   ]
  },
  {
   "cell_type": "code",
   "execution_count": 28,
   "metadata": {},
   "outputs": [
    {
     "name": "stdout",
     "output_type": "stream",
     "text": [
      "SVC(C=29.417040552163016, cache_size=200, class_weight=None, coef0=0.0,\n",
      "  decision_function_shape='ovr', degree=3, gamma=0.031039818253828129,\n",
      "  kernel='rbf', max_iter=-1, probability=False, random_state=None,\n",
      "  shrinking=True, tol=0.001, verbose=False)\n"
     ]
    }
   ],
   "source": [
    "print(rnd_search.best_estimator_)"
   ]
  },
  {
   "cell_type": "code",
   "execution_count": 22,
   "metadata": {},
   "outputs": [
    {
     "name": "stdout",
     "output_type": "stream",
     "text": [
      "0.810055865922\n"
     ]
    },
    {
     "name": "stderr",
     "output_type": "stream",
     "text": [
      "/Users/adithyabandi/anaconda2/lib/python2.7/site-packages/ipykernel_launcher.py:10: SettingWithCopyWarning: \n",
      "A value is trying to be set on a copy of a slice from a DataFrame.\n",
      "Try using .loc[row_indexer,col_indexer] = value instead\n",
      "\n",
      "See the caveats in the documentation: http://pandas.pydata.org/pandas-docs/stable/indexing.html#indexing-view-versus-copy\n",
      "  # Remove the CWD from sys.path while we load stuff.\n"
     ]
    }
   ],
   "source": [
    "from sklearn.metrics import accuracy_score\n",
    "\n",
    "test_set_prepared=full_pipeline.transform(test_set)\n",
    "test_actuals=test_set[\"Survived\"].copy()\n",
    "test_results=rnd_search.best_estimator_.predict(test_set_prepared)\n",
    "print(accuracy_score(test_actuals,test_results))"
   ]
  },
  {
   "cell_type": "code",
   "execution_count": 21,
   "metadata": {},
   "outputs": [
    {
     "name": "stderr",
     "output_type": "stream",
     "text": [
      "/Users/adithyabandi/anaconda2/lib/python2.7/site-packages/ipykernel_launcher.py:10: SettingWithCopyWarning: \n",
      "A value is trying to be set on a copy of a slice from a DataFrame.\n",
      "Try using .loc[row_indexer,col_indexer] = value instead\n",
      "\n",
      "See the caveats in the documentation: http://pandas.pydata.org/pandas-docs/stable/indexing.html#indexing-view-versus-copy\n",
      "  # Remove the CWD from sys.path while we load stuff.\n"
     ]
    }
   ],
   "source": [
    "passengerIds=final_eval_set[\"PassengerId\"]\n",
    "eval_set_prepared=full_pipeline.transform(final_eval_set)\n",
    "final_results=rnd_search.best_estimator_.predict(eval_set_prepared)\n",
    "passengerArray=passengerIds.values\n",
    "\n",
    "with open('titanic_result.csv', 'w') as the_file:\n",
    "    the_file.write(\"PassengerId,Survived\\n\")\n",
    "    for i in range(passengerArray.shape[0]):\n",
    "        the_file.write(\"{0},{1}\\n\".format(passengerArray[i],final_results[i]))\n",
    "    #print(\"{0},{1}\".format(passengerArray[i],final_results[i]))"
   ]
  }
 ],
 "metadata": {
  "kernelspec": {
   "display_name": "Python 3",
   "language": "python",
   "name": "python3"
  },
  "language_info": {
   "codemirror_mode": {
    "name": "ipython",
    "version": 3
   },
   "file_extension": ".py",
   "mimetype": "text/x-python",
   "name": "python",
   "nbconvert_exporter": "python",
   "pygments_lexer": "ipython3",
   "version": "3.6.4"
  }
 },
 "nbformat": 4,
 "nbformat_minor": 2
}
