{
 "cells": [
  {
   "cell_type": "markdown",
   "metadata": {},
   "source": [
    "## Simple RNN W/O using tensorflow RNN functions"
   ]
  },
  {
   "cell_type": "code",
   "execution_count": 53,
   "metadata": {},
   "outputs": [],
   "source": [
    "import tensorflow as tf\n",
    "\n",
    "tf.reset_default_graph()\n",
    "\n",
    "n_inputs=3\n",
    "n_neurons=5\n",
    "\n",
    "x0=tf.placeholder(tf.float32,shape=(None,n_inputs),name=\"X0\")\n",
    "x1=tf.placeholder(tf.float32,shape=(None,n_inputs),name=\"X1\")\n",
    "\n",
    "Wx=tf.Variable(tf.random_normal(shape=[n_inputs,n_neurons],dtype=tf.float32),name=\"Wx\")\n",
    "Wy=tf.Variable(tf.random_normal(shape=[n_neurons,n_neurons],dtype=tf.float32),name=\"Wy\")\n",
    "b=tf.Variable(tf.zeros(shape=([1,n_neurons])))\n",
    "\n",
    "y0=tf.matmul(x0,Wx)\n",
    "y1=tf.matmul(x1,Wx)+tf.matmul(y0,Wy)+b\n",
    "\n",
    "init=tf.global_variables_initializer()"
   ]
  },
  {
   "cell_type": "code",
   "execution_count": 27,
   "metadata": {},
   "outputs": [
    {
     "name": "stdout",
     "output_type": "stream",
     "text": [
      "[[ 9.0812564e-02 -2.8650305e+00 -2.3880649e+00  1.1188209e+00\n",
      "  -3.6806931e+00]\n",
      " [-2.5204048e+00 -5.3564157e+00 -6.0520935e+00  1.1440754e-02\n",
      "  -1.0860765e+01]\n",
      " [-5.1316218e+00 -7.8478012e+00 -9.7161217e+00 -1.0959387e+00\n",
      "  -1.8040836e+01]\n",
      " [-1.0172331e+00  3.3382692e+00  1.4483972e+00 -3.3882518e+00\n",
      "  -2.4960127e+00]]\n",
      "[[ -0.175529   -8.545042  -14.241538   -0.8093784 -13.797403 ]\n",
      " [ 15.98143    -4.32777   -10.487624    6.728236    8.342694 ]\n",
      " [ 18.900677   -6.8373647 -20.277723    6.49131     1.9438171]\n",
      " [ -7.724701    3.8511643   1.6278627  -6.311737   -7.3366685]]\n"
     ]
    }
   ],
   "source": [
    "import numpy as np\n",
    "x0_batch = np.array([[0, 1, 2], [3, 4, 5], [6, 7, 8], [9, 0, 1]]) # t = 0\n",
    "x1_batch = np.array([[9, 8, 7], [0, 0, 0], [6, 5, 4], [3, 2, 1]]) # t = 1\n",
    "\n",
    "with tf.Session() as sess:\n",
    "    init.run()\n",
    "    y0_vals,y1_vals=sess.run([y0,y1],feed_dict={x0:x0_batch,x1:x1_batch})\n",
    "print(y0_vals)\n",
    "print(y1_vals)"
   ]
  },
  {
   "cell_type": "markdown",
   "metadata": {},
   "source": [
    "## Static_RNN AND BasicRNNCell"
   ]
  },
  {
   "cell_type": "code",
   "execution_count": 30,
   "metadata": {},
   "outputs": [],
   "source": [
    "#Now Tensorflow way of doing the above network for the network\n",
    "tf.reset_default_graph()\n",
    "x0=tf.placeholder(tf.float32,shape=(None,n_inputs),name=\"X0\")\n",
    "x1=tf.placeholder(tf.float32,shape=(None,n_inputs),name=\"X1\")\n",
    "\n",
    "basic_cell=tf.contrib.rnn.BasicRNNCell(num_units=n_neurons)\n",
    "output_seqs,states=tf.contrib.rnn.static_rnn(basic_cell,[x0,x1],dtype=tf.float32)\n",
    "\n",
    "y0,y1=output_seqs,states\n",
    "\n",
    "init=tf.global_variables_initializer()"
   ]
  },
  {
   "cell_type": "code",
   "execution_count": 33,
   "metadata": {},
   "outputs": [
    {
     "name": "stdout",
     "output_type": "stream",
     "text": [
      "[array([[ 0.74003327,  0.9556061 , -0.43144444,  0.6536568 , -0.1124929 ],\n",
      "       [ 0.94713837,  0.9999988 , -0.8471818 , -0.30985865,  0.8699846 ],\n",
      "       [ 0.99018216,  1.        , -0.96612   , -0.8901057 ,  0.9923167 ],\n",
      "       [-0.99929696,  0.9999211 , -0.9961863 , -0.99995893,  0.9999293 ]],\n",
      "      dtype=float32), array([[ 0.8663176 ,  1.        , -0.94874305, -0.99955714,  0.9995443 ],\n",
      "       [-0.7948404 ,  0.53345335, -0.14239766,  0.15115844, -0.8100895 ],\n",
      "       [-0.46268508,  1.        , -0.8624281 , -0.99406844,  0.9037161 ],\n",
      "       [-0.4824497 ,  0.99981195,  0.1759368 , -0.882409  ,  0.4018567 ]],\n",
      "      dtype=float32)]\n",
      "\n",
      " [[ 0.8663176   1.         -0.94874305 -0.99955714  0.9995443 ]\n",
      " [-0.7948404   0.53345335 -0.14239766  0.15115844 -0.8100895 ]\n",
      " [-0.46268508  1.         -0.8624281  -0.99406844  0.9037161 ]\n",
      " [-0.4824497   0.99981195  0.1759368  -0.882409    0.4018567 ]]\n"
     ]
    }
   ],
   "source": [
    "x0_batch = np.array([[0, 1, 2], [3, 4, 5], [6, 7, 8], [9, 0, 1]])\n",
    "x1_batch = np.array([[9, 8, 7], [0, 0, 0], [6, 5, 4], [3, 2, 1]])\n",
    "\n",
    "with tf.Session() as sess:\n",
    "    init.run()\n",
    "    y0_val, y1_val = sess.run([y0, y1], feed_dict={x0: x0_batch, x1: x1_batch})\n",
    "print(y0_val)\n",
    "print(\"\\n\",y1_val)"
   ]
  },
  {
   "cell_type": "markdown",
   "metadata": {},
   "source": [
    "## RNN with stacking of Inputs"
   ]
  },
  {
   "cell_type": "code",
   "execution_count": 39,
   "metadata": {},
   "outputs": [],
   "source": [
    "# Stacking the RNN so we need not have too many tensors for various timestamps\n",
    "tf.reset_default_graph()\n",
    "n_steps = 2\n",
    "n_inputs = 3\n",
    "n_neurons = 5\n",
    "\n",
    "x=tf.placeholder(tf.float32,shape=(None,n_steps,n_inputs),name=\"X\")\n",
    "x_seqs=tf.unstack(tf.transpose(x,perm=[1,0,2]))\n",
    "\n",
    "basic_cell=tf.contrib.rnn.BasicRNNCell(num_units=n_neurons)\n",
    "output_seqs,states=tf.contrib.rnn.static_rnn(basic_cell,x_seqs,dtype=tf.float32)\n",
    "\n",
    "outputs=tf.transpose(tf.stack(output_seqs),perm=[1,0,2])\n",
    "init=tf.global_variables_initializer()"
   ]
  },
  {
   "cell_type": "code",
   "execution_count": 47,
   "metadata": {},
   "outputs": [
    {
     "name": "stdout",
     "output_type": "stream",
     "text": [
      "[[[-0.930358    0.9045304  -0.24748811 -0.42630658 -0.61943436]\n",
      "  [-0.99999917  0.9999984   0.9996984  -0.18279424  0.7930187 ]]\n",
      "\n",
      " [[-0.99979234  0.99949425  0.7584124  -0.6909907  -0.69095224]\n",
      "  [-0.1424788   0.43080735  0.1465929   0.1729148   0.7863861 ]]\n",
      "\n",
      " [[-0.9999994   0.9999974   0.9774836  -0.8466843  -0.7510958 ]\n",
      "  [-0.99964106  0.9995959   0.9934347  -0.190308    0.9148729 ]]\n",
      "\n",
      " [[ 0.3203804  -0.618571    0.99971133 -0.9899922   0.43619227]\n",
      "  [-0.7627065   0.7579293   0.9160083  -0.29360732  0.00841538]]]\n",
      "\n",
      " \n",
      " [[-0.99999917  0.9999984   0.9996984  -0.18279424  0.7930187 ]\n",
      " [-0.1424788   0.43080735  0.1465929   0.1729148   0.7863861 ]\n",
      " [-0.99964106  0.9995959   0.9934347  -0.190308    0.9148729 ]\n",
      " [-0.7627065   0.7579293   0.9160083  -0.29360732  0.00841538]]\n"
     ]
    }
   ],
   "source": [
    "X_batch = np.array([\n",
    "        # t = 0      t = 1 \n",
    "        [[0, 1, 2], [9, 8, 7]], # instance 1\n",
    "        [[3, 4, 5], [0, 0, 0]], # instance 2\n",
    "        [[6, 7, 8], [6, 5, 4]], # instance 3\n",
    "        [[9, 0, 1], [3, 2, 1]], # instance 4\n",
    "    ])\n",
    "\n",
    "with tf.Session() as sess:\n",
    "    init.run()\n",
    "    outputs_val = outputs.eval(feed_dict={x: X_batch})\n",
    "print(outputs_val)\n",
    "print(\"\\n \\n\",np.transpose(outputs_val,axes=[1,0,2])[1])"
   ]
  },
  {
   "cell_type": "markdown",
   "metadata": {},
   "source": [
    "## Dynamic RNN \n",
    "* Using Dynamic RNN to let tensorflow take care of stacking and unstacking of the inputs and outputs "
   ]
  },
  {
   "cell_type": "code",
   "execution_count": 55,
   "metadata": {},
   "outputs": [],
   "source": [
    "tf.reset_default_graph()\n",
    "\n",
    "x=tf.placeholder(tf.float32,shape=(None,n_steps,n_inputs),name=\"X\")\n",
    "\n",
    "basic_cell=tf.contrib.rnn.BasicRNNCell(num_units=n_neurons)\n",
    "outputs,states=tf.nn.dynamic_rnn(basic_cell,x,dtype=tf.float32)\n",
    "init=tf.global_variables_initializer()"
   ]
  },
  {
   "cell_type": "code",
   "execution_count": 51,
   "metadata": {},
   "outputs": [
    {
     "name": "stdout",
     "output_type": "stream",
     "text": [
      "[[[ 0.6586341  -0.6124594   0.47677097  0.49193087  0.00965899]\n",
      "  [ 0.9995298  -0.99806017  0.99739367  0.8310786  -0.99995786]]\n",
      "\n",
      " [[ 0.9815747  -0.95523304  0.96876043  0.80641115 -0.9518549 ]\n",
      "  [ 0.7059932  -0.29594195 -0.8804247   0.02214627  0.19069909]]\n",
      "\n",
      " [[ 0.9991602  -0.99564713  0.9985798   0.93475026 -0.9988072 ]\n",
      "  [ 0.9964287  -0.964249    0.803715    0.57236785 -0.99823266]]\n",
      "\n",
      " [[ 0.97076213 -0.99568415  0.99991983 -0.99876624 -0.9928207 ]\n",
      "  [ 0.9905062   0.32766512  0.55990165 -0.2761857  -0.9494968 ]]]\n"
     ]
    }
   ],
   "source": [
    "X_batch = np.array([\n",
    "        [[0, 1, 2], [9, 8, 7]], # instance 1\n",
    "        [[3, 4, 5], [0, 0, 0]], # instance 2\n",
    "        [[6, 7, 8], [6, 5, 4]], # instance 3\n",
    "        [[9, 0, 1], [3, 2, 1]], # instance 4\n",
    "    ])\n",
    "\n",
    "with tf.Session() as sess:\n",
    "    init.run()\n",
    "    outputs_val = outputs.eval(feed_dict={x: X_batch})\n",
    "print(outputs_val)"
   ]
  },
  {
   "cell_type": "markdown",
   "metadata": {},
   "source": [
    "## RNN with Variable Input Sequence Lengths"
   ]
  },
  {
   "cell_type": "code",
   "execution_count": 69,
   "metadata": {},
   "outputs": [],
   "source": [
    "n_steps = 2\n",
    "n_inputs = 3\n",
    "n_neurons = 5\n",
    "\n",
    "tf.reset_default_graph()\n",
    "seq_len=tf.placeholder(tf.int32,shape=(None),name=\"seq_len\")\n",
    "x=tf.placeholder(tf.float32,shape=(None,n_steps,n_inputs),name=\"X\")\n",
    "basic_cell=tf.contrib.rnn.BasicRNNCell(num_units=n_neurons)\n",
    "outputs,states=tf.nn.dynamic_rnn(basic_cell,x,sequence_length=seq_len,dtype=tf.float32)\n",
    "init=tf.global_variables_initializer()"
   ]
  },
  {
   "cell_type": "code",
   "execution_count": 70,
   "metadata": {},
   "outputs": [],
   "source": [
    "X_batch = np.array([\n",
    "        # step 0     step 1\n",
    "        [[0, 1, 2], [9, 8, 7]], # instance 1\n",
    "        [[3, 4, 5], [0, 0, 0]], # instance 2 (padded with zero vectors)\n",
    "        [[6, 7, 8], [6, 5, 4]], # instance 3\n",
    "        [[9, 0, 1], [3, 2, 1]], # instance 4\n",
    "    ])\n",
    "seq_length_batch = np.array([2, 1, 2, 2])"
   ]
  },
  {
   "cell_type": "code",
   "execution_count": 75,
   "metadata": {},
   "outputs": [
    {
     "name": "stdout",
     "output_type": "stream",
     "text": [
      "[[[-0.35427052 -0.3422693   0.8150374  -0.19849965  0.3299863 ]\n",
      "  [ 0.7430908   0.9963403   0.9999999  -0.9978442  -0.9952052 ]]\n",
      "\n",
      " [[-0.10068563  0.40864825  0.9997297  -0.8906001  -0.52637225]\n",
      "  [ 0.          0.          0.          0.          0.        ]]\n",
      "\n",
      " [[ 0.1666925   0.84101635  0.9999997  -0.9900362  -0.9074771 ]\n",
      "  [ 0.30960947  0.93132246  0.9999569  -0.9357002  -0.67784286]]\n",
      "\n",
      " [[-0.13345692  0.72786283  0.9985916  -0.269285   -0.99587643]\n",
      "  [ 0.2730676   0.7494386   0.9877511  -0.63732487 -0.37285656]]]\n",
      "\n",
      " \n",
      " [[ 0.7430908   0.9963403   0.9999999  -0.9978442  -0.9952052 ]\n",
      " [-0.10068563  0.40864825  0.9997297  -0.8906001  -0.52637225]\n",
      " [ 0.30960947  0.93132246  0.9999569  -0.9357002  -0.67784286]\n",
      " [ 0.2730676   0.7494386   0.9877511  -0.63732487 -0.37285656]]\n"
     ]
    }
   ],
   "source": [
    "with tf.Session() as sess:\n",
    "    init.run()\n",
    "    outputs_val,states_val=sess.run([outputs,states],feed_dict={x:X_batch,seq_len:seq_length_batch})\n",
    "print(outputs_val)\n",
    "print(\"\\n \\n\",states_val)"
   ]
  },
  {
   "cell_type": "markdown",
   "metadata": {},
   "source": [
    "## Training RNN over MNIST\n",
    "* Here the pixel values in each row are treated as values for particular timestamp and each row is treated as step(frame)"
   ]
  },
  {
   "cell_type": "code",
   "execution_count": 98,
   "metadata": {},
   "outputs": [],
   "source": [
    "tf.reset_default_graph()\n",
    "\n",
    "n_steps=28\n",
    "n_inputs=28\n",
    "n_neurons=100\n",
    "n_outputs=10\n",
    "learning_rate=0.001\n",
    "n_layers=3\n",
    "\n",
    "x=tf.placeholder(tf.float32,shape=(None,n_steps,n_inputs),name=\"X\")\n",
    "y=tf.placeholder(tf.int32,shape=(None),name=\"Y\")\n",
    "\n",
    "layers=[tf.contrib.rnn.BasicRNNCell(num_units=n_neurons,activation=tf.nn.relu) for layer in range(n_layers)]\n",
    "\n",
    "multi_layer_cell=tf.contrib.rnn.MultiRNNCell(layers)\n",
    "outputs,states=tf.nn.dynamic_rnn(multi_layer_cell,x,dtype=tf.float32)\n",
    "\n",
    "states_concat=tf.concat(values=states,axis=1)\n",
    "logits=tf.layers.dense(states_concat,n_outputs,name=\"logits\")\n",
    "xentropy=tf.nn.sparse_softmax_cross_entropy_with_logits(labels=y,logits=logits)\n",
    "\n",
    "loss=tf.reduce_mean(xentropy)\n",
    "optimizer=tf.train.AdamOptimizer(learning_rate=learning_rate)\n",
    "training_op=optimizer.minimize(loss)\n",
    "\n",
    "correct=tf.nn.in_top_k(logits,y,1)\n",
    "accuracy=tf.reduce_mean(tf.cast(correct,tf.float32))\n",
    "\n",
    "init=tf.global_variables_initializer()"
   ]
  },
  {
   "cell_type": "code",
   "execution_count": 99,
   "metadata": {},
   "outputs": [
    {
     "name": "stdout",
     "output_type": "stream",
     "text": [
      "Extracting /tmp/data/train-images-idx3-ubyte.gz\n",
      "Extracting /tmp/data/train-labels-idx1-ubyte.gz\n",
      "Extracting /tmp/data/t10k-images-idx3-ubyte.gz\n",
      "Extracting /tmp/data/t10k-labels-idx1-ubyte.gz\n"
     ]
    }
   ],
   "source": [
    "from tensorflow.examples.tutorials.mnist import input_data\n",
    "mnist = input_data.read_data_sets(\"/tmp/data/\")\n",
    "X_test = mnist.test.images.reshape((-1, n_steps, n_inputs))\n",
    "y_test = mnist.test.labels"
   ]
  },
  {
   "cell_type": "code",
   "execution_count": 100,
   "metadata": {},
   "outputs": [
    {
     "name": "stdout",
     "output_type": "stream",
     "text": [
      "0 Train accuracy: 0.92 Test accuracy: 0.9441\n",
      "1 Train accuracy: 0.96 Test accuracy: 0.9679\n",
      "2 Train accuracy: 0.98 Test accuracy: 0.9696\n",
      "3 Train accuracy: 1.0 Test accuracy: 0.9603\n",
      "4 Train accuracy: 0.9533333 Test accuracy: 0.9705\n",
      "5 Train accuracy: 0.9866667 Test accuracy: 0.9773\n",
      "6 Train accuracy: 0.9866667 Test accuracy: 0.9764\n",
      "7 Train accuracy: 0.99333334 Test accuracy: 0.9771\n",
      "8 Train accuracy: 0.9866667 Test accuracy: 0.98\n",
      "9 Train accuracy: 0.9866667 Test accuracy: 0.9815\n"
     ]
    }
   ],
   "source": [
    "n_epochs = 10\n",
    "batch_size = 150\n",
    "\n",
    "with tf.Session() as sess:\n",
    "    init.run()\n",
    "    for epoch in range(n_epochs):\n",
    "        for iteration in range(mnist.train.num_examples // batch_size):\n",
    "            X_batch, y_batch = mnist.train.next_batch(batch_size)\n",
    "            X_batch = X_batch.reshape((-1, n_steps, n_inputs))\n",
    "            sess.run(training_op, feed_dict={x: X_batch, y: y_batch})\n",
    "        if(epoch%1==0):\n",
    "            acc_train = accuracy.eval(feed_dict={x: X_batch, y: y_batch})\n",
    "            acc_test = accuracy.eval(feed_dict={x: X_test, y: y_test})\n",
    "            print(epoch, \"Train accuracy:\", acc_train, \"Test accuracy:\", acc_test) "
   ]
  },
  {
   "cell_type": "markdown",
   "metadata": {},
   "source": [
    "## Predicting Time Series Data"
   ]
  },
  {
   "cell_type": "code",
   "execution_count": 115,
   "metadata": {},
   "outputs": [],
   "source": [
    "t_min, t_max = 0, 30\n",
    "resolution = 0.1\n",
    "\n",
    "def time_series(t):\n",
    "    return t * np.sin(t) / 3 + 2 * np.sin(t*5)\n",
    "\n",
    "def next_batch(batch_size, n_steps):\n",
    "    t0 = np.random.rand(batch_size, 1) * (t_max - t_min - n_steps * resolution)\n",
    "    Ts = t0 + np.arange(0., n_steps + 1) * resolution\n",
    "    ys = time_series(Ts)\n",
    "    return ys[:, :-1].reshape(-1, n_steps, 1), ys[:, 1:].reshape(-1, n_steps, 1)\n",
    "\n",
    "t = np.linspace(t_min, t_max, int((t_max - t_min) / resolution))\n",
    "\n",
    "n_steps = 20\n",
    "t_instance = np.linspace(12.2, 12.2 + resolution * (n_steps + 1), n_steps + 1)"
   ]
  },
  {
   "cell_type": "code",
   "execution_count": 105,
   "metadata": {},
   "outputs": [],
   "source": [
    "tf.reset_default_graph()\n",
    "\n",
    "n_steps=20\n",
    "n_inputs=1\n",
    "n_outputs=1\n",
    "n_neurons=100\n",
    "learning_rate=0.001\n",
    "\n",
    "x=tf.placeholder(tf.float32,shape=(None,n_steps,n_inputs),name=\"X\")\n",
    "y=tf.placeholder(tf.float32,shape=(None,n_steps,n_outputs),name=\"Y\")\n",
    "\n",
    "basic_cell=tf.contrib.rnn.OutputProjectionWrapper(tf.contrib.rnn.BasicRNNCell(num_units=n_neurons,activation=tf.nn.relu),output_size=n_outputs)\n",
    "outputs,states=tf.nn.dynamic_rnn(basic_cell,x,dtype=tf.float32)\n",
    "\n",
    "loss=tf.reduce_mean(tf.square(outputs-y))\n",
    "optimizer=tf.train.AdamOptimizer(learning_rate=learning_rate)\n",
    "training_op=optimizer.minimize(loss)\n",
    "\n",
    "init=tf.global_variables_initializer()\n",
    "\n",
    "saver=tf.train.Saver()"
   ]
  },
  {
   "cell_type": "code",
   "execution_count": 112,
   "metadata": {},
   "outputs": [
    {
     "name": "stdout",
     "output_type": "stream",
     "text": [
      "0 \tMSE: 8.274572\n",
      "100 \tMSE: 0.25936896\n",
      "200 \tMSE: 0.2552865\n",
      "300 \tMSE: 0.13591282\n",
      "400 \tMSE: 0.107935034\n",
      "500 \tMSE: 0.20492487\n",
      "600 \tMSE: 0.14064404\n",
      "700 \tMSE: 0.022174116\n",
      "800 \tMSE: 0.05056225\n",
      "900 \tMSE: 0.15887114\n",
      "1000 \tMSE: 0.062135894\n",
      "1100 \tMSE: 0.17895314\n",
      "1200 \tMSE: 0.38262194\n",
      "1300 \tMSE: 0.05276636\n",
      "1400 \tMSE: 0.028716287\n"
     ]
    }
   ],
   "source": [
    "n_iterations = 1500\n",
    "batch_size = 1\n",
    "\n",
    "with tf.Session() as sess:\n",
    "    init.run()\n",
    "    for iteration in range(n_iterations):\n",
    "        X_batch, y_batch = next_batch(batch_size, n_steps)\n",
    "        #print(X_batch.shape,y_batch.shape)\n",
    "        sess.run(training_op, feed_dict={x: X_batch, y: y_batch})\n",
    "        if iteration % 100 == 0:\n",
    "            mse = loss.eval(feed_dict={x: X_batch, y: y_batch})\n",
    "            print(iteration, \"\\tMSE:\", mse)\n",
    "    \n",
    "    saver.save(sess, \"./my_time_series_model\") # not shown in the book"
   ]
  },
  {
   "cell_type": "code",
   "execution_count": 147,
   "metadata": {},
   "outputs": [
    {
     "name": "stdout",
     "output_type": "stream",
     "text": [
      "INFO:tensorflow:Restoring parameters from ./my_time_series_model\n",
      "[array([[[-3.0132334],\n",
      "        [-1.8682754],\n",
      "        [-1.1837697],\n",
      "        [ 0.4187964],\n",
      "        [ 2.0813124],\n",
      "        [ 3.2795546],\n",
      "        [ 3.576901 ],\n",
      "        [ 3.3063116],\n",
      "        [ 2.816707 ],\n",
      "        [ 2.1406424],\n",
      "        [ 1.5734649],\n",
      "        [ 1.4345524],\n",
      "        [ 1.7735927],\n",
      "        [ 2.5694036],\n",
      "        [ 3.6571267],\n",
      "        [ 4.895169 ],\n",
      "        [ 5.962173 ],\n",
      "        [ 6.6444993],\n",
      "        [ 6.680593 ],\n",
      "        [ 6.096717 ]]], dtype=float32)]\n"
     ]
    }
   ],
   "source": [
    "with tf.Session() as sess:\n",
    "    saver.restore(sess,\"./my_time_series_model\")\n",
    "    X_new = time_series(np.array(t_instance[:-1].reshape(-1, n_steps, n_inputs)))\n",
    "    y_pred=sess.run([outputs],feed_dict={x:X_new})\n",
    "    print(y_pred)"
   ]
  },
  {
   "cell_type": "code",
   "execution_count": 148,
   "metadata": {},
   "outputs": [
    {
     "data": {
      "image/png": "[encoded data removed]",
      "text/plain": [
       "<matplotlib.figure.Figure at 0x12cb86860>"
      ]
     },
     "metadata": {},
     "output_type": "display_data"
    }
   ],
   "source": [
    "import matplotlib.pyplot as plt\n",
    "\n",
    "plt.title(\"Testing the model\", fontsize=14)\n",
    "plt.plot(t_instance[:-1], time_series(t_instance[:-1]), \"bo\", markersize=10, label=\"instance\")\n",
    "plt.plot(t_instance[1:], time_series(t_instance[1:]), \"w*\", markersize=10, label=\"target\")\n",
    "plt.plot(t_instance[1:], np.array(y_pred).reshape(20,-1), \"r.\", markersize=10, label=\"prediction\")\n",
    "plt.legend(loc=\"upper left\")\n",
    "plt.xlabel(\"Time\")\n",
    "\n",
    "plt.show()"
   ]
  },
  {
   "cell_type": "code",
   "execution_count": null,
   "metadata": {},
   "outputs": [],
   "source": []
  }
 ],
 "metadata": {
  "kernelspec": {
   "display_name": "Python 3",
   "language": "python",
   "name": "python3"
  },
  "language_info": {
   "codemirror_mode": {
    "name": "ipython",
    "version": 3
   },
   "file_extension": ".py",
   "mimetype": "text/x-python",
   "name": "python",
   "nbconvert_exporter": "python",
   "pygments_lexer": "ipython3",
   "version": "3.6.4"
  }
 },
 "nbformat": 4,
 "nbformat_minor": 2
}
