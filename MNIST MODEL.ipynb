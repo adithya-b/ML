{
 "cells": [
  {
   "cell_type": "markdown",
   "metadata": {},
   "source": [
    "**Sklearn Datasets**\n",
    "* Sklearn provides popular datasets through fetch_mldata function.\n",
    "* The returned dictionary contains four fields:\n",
    "* COL_NAMES:gives list of column names\n",
    "* data: is an array of the data values excluding target attribute\n",
    "* target: is an array of target attribute\n",
    "* DESCR: describes the dataset"
   ]
  },
  {
   "cell_type": "code",
   "execution_count": 46,
   "metadata": {},
   "outputs": [
    {
     "data": {
      "text/plain": [
       "{'COL_NAMES': ['label', 'data'],\n",
       " 'DESCR': 'mldata.org dataset: mnist-original',\n",
       " 'data': array([[0, 0, 0, ..., 0, 0, 0],\n",
       "        [0, 0, 0, ..., 0, 0, 0],\n",
       "        [0, 0, 0, ..., 0, 0, 0],\n",
       "        ..., \n",
       "        [0, 0, 0, ..., 0, 0, 0],\n",
       "        [0, 0, 0, ..., 0, 0, 0],\n",
       "        [0, 0, 0, ..., 0, 0, 0]], dtype=uint8),\n",
       " 'target': array([ 0.,  0.,  0., ...,  9.,  9.,  9.])}"
      ]
     },
     "execution_count": 46,
     "metadata": {},
     "output_type": "execute_result"
    }
   ],
   "source": [
    "from sklearn.datasets import fetch_mldata\n",
    "mnist=fetch_mldata(\"MNIST original\")\n",
    "mnist"
   ]
  },
  {
   "cell_type": "code",
   "execution_count": 47,
   "metadata": {},
   "outputs": [
    {
     "name": "stdout",
     "output_type": "stream",
     "text": [
      "(70000, 784)\n",
      "(70000,)\n"
     ]
    }
   ],
   "source": [
    "X,Y=mnist[\"data\"],mnist[\"target\"]\n",
    "print(X.shape)\n",
    "print(Y.shape)"
   ]
  },
  {
   "cell_type": "code",
   "execution_count": 48,
   "metadata": {},
   "outputs": [
    {
     "data": {
      "image/png": "[encoded data removed]",
      "text/plain": [
       "<matplotlib.figure.Figure at 0x1a1ff89c10>"
      ]
     },
     "metadata": {},
     "output_type": "display_data"
    },
    {
     "name": "stdout",
     "output_type": "stream",
     "text": [
      "5.0\n"
     ]
    }
   ],
   "source": [
    "%matplotlib inline\n",
    "import matplotlib\n",
    "import matplotlib.pyplot as plt\n",
    "sample_digit=X[36000]\n",
    "sample_digit_image=sample_digit.reshape(28,28)\n",
    "plt.imshow(sample_digit_image,cmap=matplotlib.cm.binary,interpolation=\"nearest\")\n",
    "plt.axis(\"off\")\n",
    "plt.show()\n",
    "print(y[36000])"
   ]
  },
  {
   "cell_type": "code",
   "execution_count": 49,
   "metadata": {
    "collapsed": true
   },
   "outputs": [],
   "source": [
    "#This set is already divided into train and test sets.the first 60000 rows correspond to train set\n",
    "#The next 10000 rows correspond to test set\n",
    "X_train=X[:60000]\n",
    "X_test=X[60000:]\n",
    "Y_train=Y[:60000]\n",
    "Y_test=Y[60000:]"
   ]
  },
  {
   "cell_type": "code",
   "execution_count": 50,
   "metadata": {
    "collapsed": true
   },
   "outputs": [],
   "source": [
    "import numpy as np\n",
    "#Shuffling the data to avoid having consecutive similar class labels as this affects the performance for few models\n",
    "shuffle_index=np.random.permutation(60000)\n",
    "X_train=X_train[shuffle_index]\n",
    "Y_train=Y_train[shuffle_index]"
   ]
  },
  {
   "cell_type": "code",
   "execution_count": 51,
   "metadata": {
    "collapsed": true
   },
   "outputs": [],
   "source": [
    "#Collecting target attribute for a dichotomy classifier for identifying if a number is 5\n",
    "Y_train_5=(Y_train==5)\n",
    "Y_test_5=(Y_test==5)"
   ]
  },
  {
   "cell_type": "code",
   "execution_count": 59,
   "metadata": {},
   "outputs": [
    {
     "data": {
      "text/plain": [
       "array([ True], dtype=bool)"
      ]
     },
     "execution_count": 59,
     "metadata": {},
     "output_type": "execute_result"
    }
   ],
   "source": [
    "from sklearn.linear_model import SGDClassifier\n",
    "sgd_clf=SGDClassifier(random_state=42)\n",
    "sgd_clf.fit(X_train,Y_train_5)\n",
    "sgd_clf.predict([sample_digit])"
   ]
  },
  {
   "cell_type": "code",
   "execution_count": 63,
   "metadata": {},
   "outputs": [
    {
     "data": {
      "text/plain": [
       "array([ 0.96591951,  0.95375   ,  0.94383333,  0.95508333,  0.97133094])"
      ]
     },
     "execution_count": 63,
     "metadata": {},
     "output_type": "execute_result"
    }
   ],
   "source": [
    "from sklearn.model_selection import cross_val_score\n",
    "#accuracy measures the percentage of times you got the accurate prediction\n",
    "cross_val_score(sgd_clf,X_train,Y_train_5,cv=5,scoring=\"accuracy\")"
   ]
  },
  {
   "cell_type": "code",
   "execution_count": 72,
   "metadata": {
    "collapsed": true
   },
   "outputs": [],
   "source": [
    "from sklearn.base import BaseEstimator\n",
    "\n",
    "class Never5Classifier(BaseEstimator):\n",
    "    def __init(self):\n",
    "        return self\n",
    "    def fit(self,X,y=None):\n",
    "        pass\n",
    "    def predict(self,X):\n",
    "        return np.zeros((len(X),1),dtype=bool)"
   ]
  },
  {
   "cell_type": "code",
   "execution_count": 74,
   "metadata": {},
   "outputs": [
    {
     "data": {
      "text/plain": [
       "array([ 0.90558333,  0.9095    ,  0.91225   ,  0.91266667,  0.90825   ])"
      ]
     },
     "execution_count": 74,
     "metadata": {},
     "output_type": "execute_result"
    }
   ],
   "source": [
    "never5Classifer=Never5Classifier()\n",
    "cross_val_score(never5Classifer,X_train,Y_train_5,cv=5,scoring=\"accuracy\")"
   ]
  },
  {
   "cell_type": "markdown",
   "metadata": {},
   "source": [
    "** cross_val_predict **\n",
    "* This provides predictions for each fold using a model trained against the remaining folds\n",
    "* Difference b/w this one and score is that the later one only gives the scores based on a scoring criteria\n",
    "\n",
    "** confusion matrix **\n",
    "* This compares the results with the predictions and provides the number of true negatives,false negatives,false positives and true positives\n",
    "\n",
    "** precision score and recall score **\n",
    "* precision score tells us how accurate is each prediction more precision score implies less false positives\n",
    "* recall score tells us how many are correctly predicted out of all positvies.\n",
    "\n",
    "**F1 Score **\n",
    "* harmonic mean of precision score and recall score to give a single metirc for scoring evaluation."
   ]
  },
  {
   "cell_type": "code",
   "execution_count": 77,
   "metadata": {
    "collapsed": true
   },
   "outputs": [],
   "source": [
    "from sklearn.model_selection import cross_val_predict\n",
    "Y_train_pred_5=cross_val_predict(sgd_clf,X_train,Y_train_5,cv=5)"
   ]
  },
  {
   "cell_type": "code",
   "execution_count": 78,
   "metadata": {},
   "outputs": [
    {
     "data": {
      "text/plain": [
       "array([[53045,  1534],\n",
       "       [  987,  4434]])"
      ]
     },
     "execution_count": 78,
     "metadata": {},
     "output_type": "execute_result"
    }
   ],
   "source": [
    "from sklearn.metrics import confusion_matrix\n",
    "confusion_matrix(Y_train_5,Y_train_pred)"
   ]
  },
  {
   "cell_type": "code",
   "execution_count": 83,
   "metadata": {},
   "outputs": [
    {
     "name": "stdout",
     "output_type": "stream",
     "text": [
      "0.742962466488\n",
      "0.817930271168\n",
      "0.77864606199\n"
     ]
    }
   ],
   "source": [
    "from sklearn.metrics import precision_score,recall_score,f1_score\n",
    "print(precision_score(Y_train_5,Y_train_pred))\n",
    "print(recall_score(Y_train_5,Y_train_pred))\n",
    "print(f1_score(Y_train_5,Y_train_pred))"
   ]
  },
  {
   "cell_type": "code",
   "execution_count": 86,
   "metadata": {
    "collapsed": true
   },
   "outputs": [],
   "source": [
    "y_scores=cross_val_predict(sgd_clf,X_train,Y_train_5,cv=5,method=\"decision_function\")\n",
    "from sklearn.metrics import precision_recall_curve\n",
    "precisions,recalls,thresholds=precision_recall_curve(Y_train_5,y_scores)"
   ]
  },
  {
   "cell_type": "code",
   "execution_count": 92,
   "metadata": {},
   "outputs": [
    {
     "data": {
      "image/png": "[encoded data removed]",
      "text/plain": [
       "<matplotlib.figure.Figure at 0x1a1cd80e10>"
      ]
     },
     "metadata": {},
     "output_type": "display_data"
    }
   ],
   "source": [
    "def plot_precision_recall_threshold(precisions,recalls,thresholds):\n",
    "    plt.plot(thresholds,recalls[:-1],label=\"Recall\")\n",
    "    plt.plot(thresholds,precisions[:-1],label=\"Precision\")\n",
    "    plt.xlabel(\"Threshold\")\n",
    "    plt.legend(loc=\"upper left\")\n",
    "    plt.ylim([0,1])\n",
    "    \n",
    "plot_precision_recall_threshold(precisions,recalls,thresholds)"
   ]
  },
  {
   "cell_type": "code",
   "execution_count": 95,
   "metadata": {},
   "outputs": [
    {
     "data": {
      "text/plain": [
       "Text(0,0.5,u'recall')"
      ]
     },
     "execution_count": 95,
     "metadata": {},
     "output_type": "execute_result"
    },
    {
     "data": {
      "image/png": "[encoded data removed]",
      "text/plain": [
       "<matplotlib.figure.Figure at 0x1a1fd92110>"
      ]
     },
     "metadata": {},
     "output_type": "display_data"
    }
   ],
   "source": [
    "plt.plot(precisions,recalls)\n",
    "plt.xlabel(\"precision\")\n",
    "plt.ylabel(\"recall\")"
   ]
  },
  {
   "cell_type": "code",
   "execution_count": 98,
   "metadata": {},
   "outputs": [
    {
     "name": "stdout",
     "output_type": "stream",
     "text": [
      "(0.85763332570382234, 0.69120088544548974)\n"
     ]
    }
   ],
   "source": [
    "y_pred_90=(y_scores>70000)\n",
    "print(precision_score(Y_train_5,y_pred_90),recall_score(Y_train_5,y_pred_90))"
   ]
  },
  {
   "cell_type": "code",
   "execution_count": 106,
   "metadata": {},
   "outputs": [
    {
     "data": {
      "image/png": "[encoded data removed]",
      "text/plain": [
       "<matplotlib.figure.Figure at 0x1a2b565790>"
      ]
     },
     "metadata": {},
     "output_type": "display_data"
    }
   ],
   "source": [
    "from sklearn.metrics import roc_curve\n",
    "fpr,tpr,thresholds=roc_curve(Y_train_5,y_scores)\n",
    "\n",
    "def plot_roc_curve(fpr,tpr,label=None):\n",
    "    plt.plot(fpr,tpr,linewidth=2,label=label)\n",
    "    plt.plot([0,1],[0,1]) #plotting line which shows linear proportion between fpr and tpr\n",
    "    plt.axis([0,1,0,1])#axis values xmin.xmax,ymin.ymax\n",
    "    plt.xlabel(\"False positive rate\")\n",
    "    plt.ylabel(\"True positive rate\")\n",
    "    \n",
    "plot_roc_curve(fpr,tpr)\n",
    "plt.show()"
   ]
  },
  {
   "cell_type": "code",
   "execution_count": 109,
   "metadata": {},
   "outputs": [
    {
     "data": {
      "text/plain": [
       "0.96288190221662151"
      ]
     },
     "execution_count": 109,
     "metadata": {},
     "output_type": "execute_result"
    }
   ],
   "source": [
    "from sklearn.metrics import roc_auc_score\n",
    "roc_auc_score(Y_train_5,y_scores)"
   ]
  },
  {
   "cell_type": "code",
   "execution_count": 114,
   "metadata": {},
   "outputs": [
    {
     "data": {
      "text/plain": [
       "0.99310302169453868"
      ]
     },
     "execution_count": 114,
     "metadata": {},
     "output_type": "execute_result"
    },
    {
     "data": {
      "image/png": "[encoded data removed]",
      "text/plain": [
       "<matplotlib.figure.Figure at 0x1a1cc13d10>"
      ]
     },
     "metadata": {},
     "output_type": "display_data"
    }
   ],
   "source": [
    "from sklearn.ensemble import RandomForestClassifier\n",
    "forest_clf = RandomForestClassifier(random_state=42)\n",
    "y_probas_forest=cross_val_predict(forest_clf,X_train,Y_train_5,cv=5,method=\"predict_proba\")\n",
    "y_scores_forest=y_probas_forest[:,1]# scores=probs of positive class\n",
    "fpr_forest,tpr_forest,thresholds_forest=roc_curve(Y_train_5,y_scores_forest)\n",
    "plot_roc_curve(fpr_forest,tpr_forest,label=\"Random forest classifier\")\n",
    "plot_roc_curve(fpr,tpr,label=\"Stochastic Gradient Classifier\")\n",
    "plt.legend(loc=\"bottom right\")\n",
    "roc_auc_score(Y_train_5,y_scores_forest)"
   ]
  },
  {
   "cell_type": "markdown",
   "metadata": {},
   "source": [
    "** Some algorithms handle multiclass classification. Examples are Naive Baiyes and Random Forest Classifiers.**\n",
    "* But the other algoritms which are strict binary classifiers adapt two strategies for multi-class classification\n",
    "\n",
    "** One Versus All Srategy **\n",
    "* In this strategy Each class gets a binary classifier and these are trained on entire data\n",
    "* For prediction decision score across all classifiers is compared and the maximum score is selected.\n",
    "\n",
    "** One Versus One Strategy **\n",
    "* In this strategy instead of each class having a binary classifier(True/False) we have pair wise classifiers\n",
    "* For instance if we have to classify 1,2,3 then we will have 1 or 2, 2 or 3,1 or 3 classifiers.\n",
    "* so there will be N(N-1)/2 classifiers.\n",
    "* Contrast to OVA this has the advantage of training on lesser data.\n",
    "\n",
    "**OVA is most preferred choice and OVO is used for SVM***"
   ]
  },
  {
   "cell_type": "code",
   "execution_count": 122,
   "metadata": {},
   "outputs": [
    {
     "name": "stdout",
     "output_type": "stream",
     "text": [
      "('the prediction for image 5 is ', array([ 5.]))\n",
      "('the scores corresponding to classifiers are', array([[-374969.00663845, -450638.22061586, -454481.79048167,\n",
      "        -161800.15207548, -300444.55570426,  305277.53332912,\n",
      "        -872167.19370191, -314821.19989669, -449350.58945883,\n",
      "        -731829.92487942]]))\n",
      "('the different classes in above algo are:', array([ 0.,  1.,  2.,  3.,  4.,  5.,  6.,  7.,  8.,  9.]))\n"
     ]
    }
   ],
   "source": [
    "#Training Stochastic gradient descent;Sklearn uses OVO by default for every classifier(except OVA for SVM)\n",
    "sgd_clf.fit(X_train,Y_train)\n",
    "print(\"the prediction for image 5 is \",sgd_clf.predict([sample_digit]))\n",
    "some_digit_scores=sgd_clf.decision_function([sample_digit])\n",
    "print(\"the scores corresponding to classifiers are\",some_digit_scores)\n",
    "print(\"the different classes in above algo are:\",sgd_clf.classes_)"
   ]
  },
  {
   "cell_type": "markdown",
   "metadata": {},
   "source": [
    "** To enforce OVA or OVO and override default setting in sklearn we can use respective class and pass the model as argument **\n",
    "* For instance we can enforce OVO strategy on sgd_clf above by using OneVsOneClassifier class"
   ]
  },
  {
   "cell_type": "code",
   "execution_count": 121,
   "metadata": {},
   "outputs": [
    {
     "name": "stdout",
     "output_type": "stream",
     "text": [
      "('the prediction for image 5 is ', array([ 5.]))\n",
      "('the length of the estimators for above algo is', 45)\n"
     ]
    }
   ],
   "source": [
    "from sklearn.multiclass import OneVsOneClassifier\n",
    "ovo_sgd = OneVsOneClassifier(SGDClassifier(random_state=42))\n",
    "ovo_sgd.fit(X_train,Y_train)\n",
    "print(\"the prediction for image 5 is \",ovo_sgd.predict([sample_digit]))\n",
    "print(\"the length of the estimators for above algo is\",len(ovo_sgd.estimators_))"
   ]
  },
  {
   "cell_type": "code",
   "execution_count": 124,
   "metadata": {},
   "outputs": [
    {
     "name": "stdout",
     "output_type": "stream",
     "text": [
      "('the prediction for image 5 is ', array([ 5.]))\n",
      "('the probabilities for different classes of target variable are', array([[ 0.,  0.,  0.,  0.,  0.,  1.,  0.,  0.,  0.,  0.]]))\n"
     ]
    }
   ],
   "source": [
    "#Random forest for Multiclasses\n",
    "forest_clf.fit(X_train,Y_train)\n",
    "print(\"the prediction for image 5 is \",forest_clf.predict([sample_digit]))\n",
    "print(\"the probabilities for different classes of target variable are\",forest_clf.predict_proba([sample_digit]))"
   ]
  },
  {
   "cell_type": "code",
   "execution_count": 130,
   "metadata": {},
   "outputs": [
    {
     "name": "stdout",
     "output_type": "stream",
     "text": [
      "('The cross validation scores for sgd on unscaled data', array([ 0.84263147,  0.84349217,  0.84257639]))\n",
      "('The cross validation scores for sgd on scaled data', array([ 0.90741852,  0.91179559,  0.90923639]))\n"
     ]
    }
   ],
   "source": [
    "from sklearn.preprocessing import StandardScaler\n",
    "std_scaler=StandardScaler()\n",
    "X_train_scaled=std_scaler.fit_transform(X_train.astype(np.float64))\n",
    "print(\"The cross validation scores for sgd on unscaled data\",cross_val_score(sgd_clf,X_train,Y_train,cv=3,scoring=\"accuracy\"))\n",
    "print(\"The cross validation scores for sgd on scaled data\",cross_val_score(sgd_clf,X_train_scaled,Y_train,cv=3,scoring=\"accuracy\"))"
   ]
  },
  {
   "cell_type": "markdown",
   "metadata": {},
   "source": [
    "** The above scores validate the importance of scaling training data to achieve better results **"
   ]
  },
  {
   "cell_type": "code",
   "execution_count": 132,
   "metadata": {},
   "outputs": [
    {
     "name": "stdout",
     "output_type": "stream",
     "text": [
      "[[5735    3   23    9   11   42   49    8   41    2]\n",
      " [   1 6463   44   30    6   42    8   10  127   11]\n",
      " [  55   37 5334   97   77   24  101   58  161   14]\n",
      " [  46   41  139 5331    3  248   35   50  139   99]\n",
      " [  20   26   40    9 5350   10   57   36   91  203]\n",
      " [  76   40   37  168   80 4596  107   31  192   94]\n",
      " [  32   25   45    2   33   96 5632    7   46    0]\n",
      " [  24   24   72   31   46   10    4 5799   17  238]\n",
      " [  47  146   77  140   17  155   55   27 5046  141]\n",
      " [  43   34   26   86  159   42    3  197   76 5283]]\n"
     ]
    },
    {
     "data": {
      "image/png": "[encoded data removed]",
      "text/plain": [
       "<matplotlib.figure.Figure at 0x1a34fd3d10>"
      ]
     },
     "metadata": {},
     "output_type": "display_data"
    }
   ],
   "source": [
    "y_train_scaled_pred=cross_val_predict(sgd_clf,X_train_scaled,Y_train,cv=3)\n",
    "cnf_mat=confusion_matrix(Y_train,y_train_scaled_pred)\n",
    "print(cnf_mat)\n",
    "plt.matshow(cnf_mat,cmap=plt.cm.gray)#plotting the gray scale lighter shade along diagnol shows more true predictions.\n",
    "plt.show()"
   ]
  },
  {
   "cell_type": "code",
   "execution_count": 133,
   "metadata": {},
   "outputs": [
    {
     "data": {
      "image/png": "[encoded data removed]",
      "text/plain": [
       "<matplotlib.figure.Figure at 0x1a2a4e1490>"
      ]
     },
     "metadata": {},
     "output_type": "display_data"
    }
   ],
   "source": [
    "#The above might be biased due to fewer instances of each class;therefore normalizing the matrix\n",
    "row_sums=cnf_mat.sum(axis=1,keepdims=True)\n",
    "norm_cnf_mat=cnf_mat/row_sums\n",
    "np.fill_diagonal(cnf_mat,0)# To ignore correct and concentrate on wrong predictions\n",
    "plt.matshow(cnf_mat,cmap=plt.cm.gray)\n",
    "plt.show()"
   ]
  },
  {
   "cell_type": "markdown",
   "metadata": {},
   "source": [
    "** Multilabel Classification **\n",
    "* Classification gives a value for each label;\n",
    "* For instance for 5 (is greater than 5) label would be a False and (is an odd number) label would be True"
   ]
  },
  {
   "cell_type": "code",
   "execution_count": 134,
   "metadata": {},
   "outputs": [
    {
     "name": "stdout",
     "output_type": "stream",
     "text": [
      "('the prediction for image 5 is ', array([[False,  True]], dtype=bool))\n"
     ]
    }
   ],
   "source": [
    "y_train_large= (Y_train >5)\n",
    "y_train_odd= (Y_train %2==1)\n",
    "y_multilabel=np.c_[y_train_large,y_train_odd]\n",
    "\n",
    "from sklearn.neighbors import KNeighborsClassifier\n",
    "knn_clf=KNeighborsClassifier()\n",
    "knn_clf.fit(X_train,y_multilabel)\n",
    "print(\"the prediction for image 5 is \",knn_clf.predict([sample_digit]))\n",
    "#Evaluation:\n",
    "y_train_knn_pred=cross_val_predict(knn_clf,X_train,y_multilabel,cv=3)\n",
    "f1_score=f1_score(y_multilabel,y_train_knn_pred,average=\"macro\")"
   ]
  }
 ],
 "metadata": {
  "kernelspec": {
   "display_name": "Python 2",
   "language": "python",
   "name": "python2"
  },
  "language_info": {
   "codemirror_mode": {
    "name": "ipython",
    "version": 2
   },
   "file_extension": ".py",
   "mimetype": "text/x-python",
   "name": "python",
   "nbconvert_exporter": "python",
   "pygments_lexer": "ipython2",
   "version": "2.7.14"
  }
 },
 "nbformat": 4,
 "nbformat_minor": 2
}
