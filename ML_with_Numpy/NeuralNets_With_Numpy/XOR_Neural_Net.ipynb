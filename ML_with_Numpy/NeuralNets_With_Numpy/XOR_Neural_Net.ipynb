{
 "cells": [
  {
   "cell_type": "code",
   "execution_count": 120,
   "metadata": {
    "collapsed": true
   },
   "outputs": [],
   "source": [
    "import numpy as np\n",
    "import time\n",
    "import matplotlib.pyplot as plt\n",
    "import seaborn as sns"
   ]
  },
  {
   "cell_type": "markdown",
   "metadata": {},
   "source": [
    "This is a feed forward network with 10 input values(nodes) hidden layer with 10 nodes and a output layer \n",
    "with 10 output values(nodes)\n",
    "##  Initializations\n",
    "Initializing number of samples to 300,\n",
    "number of input nodes to 10,\n",
    "number of nodes in hidden layer to 10,\n",
    "number of output nodes to 10,\n",
    "learning rate to 0.01,\n",
    "momentum to 0.9\n",
    "\n",
    "Note:Learning rate aids in slowing down the gradient descent Momentum provides accelaration to gradient descent \n",
    "    based on previous value of gradient"
   ]
  },
  {
   "cell_type": "code",
   "execution_count": 121,
   "metadata": {
    "collapsed": true
   },
   "outputs": [],
   "source": [
    "n_samples=300\n",
    "n_hidden=10\n",
    "n_in=10\n",
    "n_out=10\n",
    "\n",
    "learning_rate=0.01\n",
    "momentum=0.9\n",
    "np.random.seed(0)"
   ]
  },
  {
   "cell_type": "markdown",
   "metadata": {},
   "source": [
    "## Activation Functions:\n",
    "The activation function for the hidden layer is tanhx function and the activation function for output layer is sigmoid function\n",
    "\n",
    "## Train Function:\n",
    "This takes a input and corresponding output and the current weights and biases as parameters.\n",
    "The function does forward propagation and finds the error values based on the expected output.\n",
    "Now the gradient values for each weight are calculated by back propagation.\n",
    "The error values at each node are taken as gradient values for biases.\n",
    "\n",
    "## Predict Function\n",
    "This function takes input and predicts the output based on the current weights and biases"
   ]
  },
  {
   "cell_type": "code",
   "execution_count": 122,
   "metadata": {
    "collapsed": true
   },
   "outputs": [],
   "source": [
    "def sigmoid(x):\n",
    "    return 1/(1+np.exp(-x))\n",
    "\n",
    "def tanh_derivative(x):\n",
    "    return 1-np.tanh(x)**2\n",
    "\n",
    "def tanh_prime(x):\n",
    "    return  1 - np.tanh(x)**2\n",
    "\n",
    "\n",
    "def train(_input_,_output_,weights1,weights2,bias1,bias2):\n",
    "    signal1=np.dot(_input_,weights1)+bias1\n",
    "    activated_signal1=np.tanh(signal1)   \n",
    "    \n",
    "    signal2=np.dot(activated_signal1,weights2)+bias2\n",
    "    activated_signal2=sigmoid(signal2)\n",
    "    \n",
    "    E2=activated_signal2-_output_\n",
    "    delta2=E2\n",
    "    delta1=tanh_derivative(signal1)*np.dot(weights2,delta2)\n",
    "    \n",
    "    grad2=np.outer(activated_signal1,delta2)\n",
    "    grad1=np.outer(_input_,delta1)\n",
    "    \n",
    "    loss = -np.mean ( _output_ * np.log(activated_signal2) + (1 - _output_) * np.log(1 - activated_signal2) )\n",
    "    return loss,(grad1,grad2,delta1,delta2)\n",
    "\n",
    "    \n",
    "def predict(_input_,weights1,weights2,bias1,bias2):\n",
    "    signal1=np.dot(_input_,weights1)+bias1\n",
    "    activated_signal1=np.tanh(signal1)\n",
    "    signal2=np.dot(activated_signal1,weights2)+bias2\n",
    "    activated_signal2=sigmoid(signal2)\n",
    "    return (activated_signal2 > 0.5).astype(int)"
   ]
  },
  {
   "cell_type": "markdown",
   "metadata": {},
   "source": [
    "## Initializations\n",
    "The weights for the hidden layer and the output layer are initialized based on random distributions\n",
    "The bias for every layer are initialized to zero\n",
    "The input is initialized using binomial distribution with equal probability to both 0 and 1"
   ]
  },
  {
   "cell_type": "code",
   "execution_count": 123,
   "metadata": {
    "collapsed": true
   },
   "outputs": [],
   "source": [
    "weights1=np.random.normal(scale=0.1,size=(n_in,n_hidden))\n",
    "weights2=np.random.normal(scale=0.1,size=(n_hidden,n_out))\n",
    "\n",
    "bias1=np.zeros(n_hidden)\n",
    "bias2=np.zeros(n_out)\n",
    "\n",
    "_input_=np.random.binomial(1,0.5,(n_samples,n_in))\n",
    "_output_=_input_^1\n",
    "\n",
    "params=[weights1,weights2,Bias1,Bias2]"
   ]
  },
  {
   "cell_type": "code",
   "execution_count": 124,
   "metadata": {},
   "outputs": [
    {
     "name": "stdout",
     "output_type": "stream",
     "text": [
      "epoch: 0  Loss: 0.52418778762  Time: 0.039718999999990956\n",
      "epoch: 1  Loss: 0.198900617106  Time: 0.0246580000000165\n",
      "epoch: 2  Loss: 0.100613921092  Time: 0.027721999999982927\n",
      "epoch: 3  Loss: 0.0561544518702  Time: 0.02719600000000355\n",
      "epoch: 4  Loss: 0.0338647593145  Time: 0.026674000000014075\n",
      "epoch: 5  Loss: 0.0251564489922  Time: 0.032097999999990634\n",
      "epoch: 6  Loss: 0.020116337855  Time: 0.03502800000001116\n",
      "epoch: 7  Loss: 0.0167519273875  Time: 0.029026999999985037\n",
      "epoch: 8  Loss: 0.0143531978165  Time: 0.03568200000000843\n",
      "epoch: 9  Loss: 0.0125493851688  Time: 0.03423100000000545\n",
      "epoch: 10  Loss: 0.0111406036115  Time: 0.02497700000000691\n",
      "epoch: 11  Loss: 0.010009412334  Time: 0.03440299999999752\n",
      "epoch: 12  Loss: 0.0090808849373  Time: 0.02537199999997597\n",
      "epoch: 13  Loss: 0.00830509624746  Time: 0.03513000000000943\n",
      "epoch: 14  Loss: 0.00764742873205  Time: 0.02464899999998238\n",
      "epoch: 15  Loss: 0.00708305780677  Time: 0.025469000000015285\n",
      "epoch: 16  Loss: 0.00659368358944  Time: 0.034707999999994854\n",
      "epoch: 17  Loss: 0.00616550338492  Time: 0.029076000000003432\n",
      "epoch: 18  Loss: 0.00578790149635  Time: 0.04396200000002182\n",
      "epoch: 19  Loss: 0.00545257455911  Time: 0.040747999999979356\n",
      "epoch: 20  Loss: 0.00515293171527  Time: 0.04691800000000512\n",
      "epoch: 21  Loss: 0.00488367352861  Time: 0.057256999999992786\n",
      "epoch: 22  Loss: 0.00464049013664  Time: 0.04365100000001121\n",
      "epoch: 23  Loss: 0.00441984078491  Time: 0.046966999999995096\n",
      "epoch: 24  Loss: 0.00421879007887  Time: 0.03339600000001042\n",
      "epoch: 25  Loss: 0.00403488451807  Time: 0.03431399999999485\n",
      "epoch: 26  Loss: 0.00386605813301  Time: 0.04766699999998991\n",
      "epoch: 27  Loss: 0.00371055947441  Time: 0.05873100000002296\n",
      "epoch: 28  Loss: 0.00356689449137  Time: 0.05421200000000681\n",
      "epoch: 29  Loss: 0.00343378138668  Time: 0.053708999999997786\n",
      "epoch: 30  Loss: 0.0033101146089  Time: 0.0535239999999817\n",
      "epoch: 31  Loss: 0.00319493589078  Time: 0.039487000000008265\n",
      "epoch: 32  Loss: 0.00308741077687  Time: 0.039503999999993766\n",
      "epoch: 33  Loss: 0.00298680946596  Time: 0.047678999999988037\n",
      "epoch: 34  Loss: 0.00289249107404  Time: 0.03900600000000054\n",
      "epoch: 35  Loss: 0.00280389062926  Time: 0.051111999999989166\n",
      "epoch: 36  Loss: 0.00272050826453  Time: 0.05066800000000171\n",
      "epoch: 37  Loss: 0.00264190018904  Time: 0.03978100000000495\n",
      "epoch: 38  Loss: 0.00256767110893  Time: 0.042028000000016164\n",
      "epoch: 39  Loss: 0.00249746783452  Time: 0.03487000000001217\n",
      "epoch: 40  Loss: 0.00243097386472  Time: 0.029485999999991463\n",
      "epoch: 41  Loss: 0.00236790477992  Time: 0.03804999999999836\n",
      "epoch: 42  Loss: 0.00230800430698  Time: 0.04310599999999454\n",
      "epoch: 43  Loss: 0.00225104094546  Time: 0.03539100000000417\n",
      "epoch: 44  Loss: 0.00219680506456  Time: 0.026248000000009597\n",
      "epoch: 45  Loss: 0.00214510639636  Time: 0.02709199999998191\n",
      "epoch: 46  Loss: 0.00209577186402  Time: 0.030282999999997173\n",
      "epoch: 47  Loss: 0.00204864369422  Time: 0.04018700000000308\n",
      "epoch: 48  Loss: 0.00200357777162  Time: 0.04507299999997372\n",
      "epoch: 49  Loss: 0.00196044220004  Time: 0.04211999999998284\n",
      "epoch: 50  Loss: 0.00191911604087  Time: 0.043133000000011634\n",
      "epoch: 51  Loss: 0.00187948820388  Time: 0.04065599999998426\n",
      "epoch: 52  Loss: 0.00184145646949  Time: 0.044414000000017495\n",
      "epoch: 53  Loss: 0.00180492662468  Time: 0.05733399999999733\n",
      "epoch: 54  Loss: 0.00176981169763  Time: 0.05423599999997464\n",
      "epoch: 55  Loss: 0.00173603127806  Time: 0.049278000000015254\n",
      "epoch: 56  Loss: 0.00170351091244  Time: 0.034140999999976884\n",
      "epoch: 57  Loss: 0.00167218156467  Time: 0.03909500000000321\n",
      "epoch: 58  Loss: 0.00164197913401  Time: 0.02502300000000446\n",
      "epoch: 59  Loss: 0.00161284402343  Time: 0.036281999999999925\n",
      "epoch: 60  Loss: 0.00158472075236  Time: 0.04300299999999879\n",
      "epoch: 61  Loss: 0.00155755760854  Time: 0.036880999999993946\n",
      "epoch: 62  Loss: 0.0015313063345  Time: 0.04149900000001594\n",
      "epoch: 63  Loss: 0.00150592184475  Time: 0.0437909999999988\n",
      "epoch: 64  Loss: 0.00148136197018  Time: 0.05593199999998433\n",
      "epoch: 65  Loss: 0.00145758722675  Time: 0.05770100000000866\n",
      "epoch: 66  Loss: 0.00143456060573  Time: 0.05288300000000845\n",
      "epoch: 67  Loss: 0.00141224738332  Time: 0.0408170000000041\n",
      "epoch: 68  Loss: 0.0013906149474  Time: 0.042770000000018626\n",
      "epoch: 69  Loss: 0.00136963263992  Time: 0.05106000000000677\n",
      "epoch: 70  Loss: 0.00134927161302  Time: 0.026936000000006288\n",
      "epoch: 71  Loss: 0.00132950469774  Time: 0.03914800000001151\n",
      "epoch: 72  Loss: 0.00131030628389  Time: 0.02448900000001686\n",
      "epoch: 73  Loss: 0.00129165221013  Time: 0.02768899999998098\n",
      "epoch: 74  Loss: 0.00127351966314  Time: 0.026037999999999784\n",
      "epoch: 75  Loss: 0.00125588708512  Time: 0.02786700000001474\n",
      "epoch: 76  Loss: 0.00123873408876  Time: 0.039310999999997875\n",
      "epoch: 77  Loss: 0.00122204137902  Time: 0.024720000000002074\n",
      "epoch: 78  Loss: 0.00120579068107  Time: 0.02506799999997611\n",
      "epoch: 79  Loss: 0.00118996467388  Time: 0.03554900000000316\n",
      "epoch: 80  Loss: 0.0011745469289  Time: 0.0257090000000062\n",
      "epoch: 81  Loss: 0.0011595218534  Time: 0.028780000000011796\n",
      "epoch: 82  Loss: 0.00114487463805  Time: 0.028867000000019516\n",
      "epoch: 83  Loss: 0.00113059120844  Time: 0.03576799999999025\n",
      "epoch: 84  Loss: 0.00111665818007  Time: 0.04367700000000241\n",
      "epoch: 85  Loss: 0.00110306281671  Time: 0.048241999999987684\n",
      "epoch: 86  Loss: 0.0010897929916  Time: 0.051563999999984844\n",
      "epoch: 87  Loss: 0.00107683715151  Time: 0.04779999999999518\n",
      "epoch: 88  Loss: 0.00106418428326  Time: 0.04384200000001215\n",
      "epoch: 89  Loss: 0.00105182388259  Time: 0.04527500000000373\n",
      "epoch: 90  Loss: 0.00103974592508  Time: 0.05866299999999569\n",
      "epoch: 91  Loss: 0.00102794083912  Time: 0.03979799999999045\n",
      "epoch: 92  Loss: 0.00101639948064  Time: 0.0363749999999925\n",
      "epoch: 93  Loss: 0.00100511310955  Time: 0.049216999999998734\n",
      "epoch: 94  Loss: 0.000994073367658  Time: 0.036265000000014425\n",
      "epoch: 95  Loss: 0.000983272258063  Time: 0.0403169999999875\n",
      "epoch: 96  Loss: 0.00097270212587  Time: 0.04885300000000825\n",
      "epoch: 97  Loss: 0.000962355640097  Time: 0.03954899999999384\n",
      "epoch: 98  Loss: 0.000952225776742  Time: 0.04504199999999514\n",
      "epoch: 99  Loss: 0.000942305802888  Time: 0.04140899999998737\n",
      "XOR prediction:\n",
      "[1 0 1 1 1 1 0 1 0 0]\n",
      "[0 1 0 0 0 0 1 0 1 1]\n"
     ]
    }
   ],
   "source": [
    "mean_errors=[]\n",
    "for epoch in range(100):\n",
    "    error=[]\n",
    "    upd=[0]*len(params)\n",
    "    t0=time.clock()\n",
    "    \n",
    "    for i in range(n_samples):\n",
    "        loss,grad=train(_input_[i],_output_[i],*params)\n",
    "        \n",
    "        for j in range(len(params)):\n",
    "            params[j]-= upd[j]\n",
    "            \n",
    "        for j in range(len(params)):         \n",
    "            upd[j]=learning_rate*grad[j]+momentum*upd[j]\n",
    "            \n",
    "        error.append(loss)\n",
    "       \n",
    "    print(\"epoch:\",epoch,\" Loss:\",np.mean(error),\" Time:\", time.clock()-t0)\n",
    "    mean_errors.append(np.mean(error))\n",
    "x = np.random.binomial(1, 0.5, n_in)\n",
    "print(\"XOR prediction:\")\n",
    "print(x)\n",
    "print(predict(x, *params))   \n",
    "    "
   ]
  },
  {
   "cell_type": "markdown",
   "metadata": {},
   "source": [
    "## Plot of Error values\n",
    "The below graph shows how the error value was being reduced over time"
   ]
  },
  {
   "cell_type": "code",
   "execution_count": 125,
   "metadata": {},
   "outputs": [
    {
     "data": {
      "image/png": "[encoded data removed]",
      "text/plain": [
       "<matplotlib.figure.Figure at 0x7f8e0e475208>"
      ]
     },
     "metadata": {},
     "output_type": "display_data"
    }
   ],
   "source": [
    "sns.set_style(\"darkgrid\")\n",
    "plt.plot(range(100),mean_errors)\n",
    "plt.xlabel(\"Epoch\")\n",
    "plt.ylabel(\"Error_Value\")\n",
    "plt.title(\"Plot of Error vs Epoch\")\n",
    "plt.show()"
   ]
  },
  {
   "cell_type": "code",
   "execution_count": null,
   "metadata": {
    "collapsed": true
   },
   "outputs": [],
   "source": []
  }
 ],
 "metadata": {
  "kernelspec": {
   "display_name": "Python 3",
   "language": "python",
   "name": "python3"
  },
  "language_info": {
   "codemirror_mode": {
    "name": "ipython",
    "version": 3
   },
   "file_extension": ".py",
   "mimetype": "text/x-python",
   "name": "python",
   "nbconvert_exporter": "python",
   "pygments_lexer": "ipython3",
   "version": "3.6.1"
  }
 },
 "nbformat": 4,
 "nbformat_minor": 2
}
