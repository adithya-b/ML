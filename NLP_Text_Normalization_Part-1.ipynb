{
 "cells": [
  {
   "cell_type": "code",
   "execution_count": 1,
   "metadata": {},
   "outputs": [],
   "source": [
    "import nltk\n",
    "import re\n",
    "import string"
   ]
  },
  {
   "cell_type": "code",
   "execution_count": 2,
   "metadata": {},
   "outputs": [],
   "source": [
    "corpus = [\"The brown fox wasn't that quick and he couldn't win the race\",\n",
    "          \"Hey that's a great deal! I just bought a phone for $199\",\n",
    "          \"@@You'll (learn) a **lot** in the book. Python is an amazing language!@@\"]"
   ]
  },
  {
   "cell_type": "markdown",
   "metadata": {},
   "source": [
    "**Function for Tokenization of Sentences and Words**"
   ]
  },
  {
   "cell_type": "code",
   "execution_count": 8,
   "metadata": {},
   "outputs": [],
   "source": [
    "def tokenize_text(raw_text,language=\"english\"):\n",
    "    default_st=nltk.sent_tokenize\n",
    "    default_wt=nltk.word_tokenize\n",
    "    sentences=default_st(raw_text,language=language)\n",
    "    words=[default_wt(sentence) for sentence in sentences]\n",
    "    return words"
   ]
  },
  {
   "cell_type": "code",
   "execution_count": 9,
   "metadata": {},
   "outputs": [
    {
     "data": {
      "text/plain": [
       "[[['The',\n",
       "   'brown',\n",
       "   'fox',\n",
       "   'was',\n",
       "   \"n't\",\n",
       "   'that',\n",
       "   'quick',\n",
       "   'and',\n",
       "   'he',\n",
       "   'could',\n",
       "   \"n't\",\n",
       "   'win',\n",
       "   'the',\n",
       "   'race']],\n",
       " [['Hey', 'that', \"'s\", 'a', 'great', 'deal', '!'],\n",
       "  ['I', 'just', 'bought', 'a', 'phone', 'for', '$', '199']],\n",
       " [['@',\n",
       "   '@',\n",
       "   'You',\n",
       "   \"'ll\",\n",
       "   '(',\n",
       "   'learn',\n",
       "   ')',\n",
       "   'a',\n",
       "   '**lot**',\n",
       "   'in',\n",
       "   'the',\n",
       "   'book',\n",
       "   '.'],\n",
       "  ['Python', 'is', 'an', 'amazing', 'language', '!'],\n",
       "  ['@', '@']]]"
      ]
     },
     "execution_count": 9,
     "metadata": {},
     "output_type": "execute_result"
    }
   ],
   "source": [
    "tokens_list=[tokenize_text(text) for text in corpus]\n",
    "tokens_list"
   ]
  },
  {
   "cell_type": "markdown",
   "metadata": {},
   "source": [
    "** Removing Special Characters After Tokenization**"
   ]
  },
  {
   "cell_type": "code",
   "execution_count": 39,
   "metadata": {},
   "outputs": [],
   "source": [
    "def remove_characters_after_tokenization(tokens):\n",
    "    pattern=re.compile('[{}]'.format(re.escape(string.punctuation)))\n",
    "    filtered_tokens=list(filter(None,[pattern.sub('',token) for token in tokens]))\n",
    "    return filtered_tokens"
   ]
  },
  {
   "cell_type": "code",
   "execution_count": 41,
   "metadata": {},
   "outputs": [
    {
     "data": {
      "text/plain": [
       "[[['The',\n",
       "   'brown',\n",
       "   'fox',\n",
       "   'was',\n",
       "   'nt',\n",
       "   'that',\n",
       "   'quick',\n",
       "   'and',\n",
       "   'he',\n",
       "   'could',\n",
       "   'nt',\n",
       "   'win',\n",
       "   'the',\n",
       "   'race']],\n",
       " [['Hey', 'that', 's', 'a', 'great', 'deal'],\n",
       "  ['I', 'just', 'bought', 'a', 'phone', 'for', '199']],\n",
       " [['You', 'll', 'learn', 'a', 'lot', 'in', 'the', 'book'],\n",
       "  ['Python', 'is', 'an', 'amazing', 'language'],\n",
       "  []]]"
      ]
     },
     "execution_count": 41,
     "metadata": {},
     "output_type": "execute_result"
    }
   ],
   "source": [
    "filtered_list= list(filter(None,[[remove_characters_after_tokenization(tokens) for tokens in sentence_tokens] for sentence_tokens in tokens_list]))\n",
    "filtered_list"
   ]
  },
  {
   "cell_type": "markdown",
   "metadata": {},
   "source": [
    "** Removing Special Characters Before Tokenization**"
   ]
  },
  {
   "cell_type": "code",
   "execution_count": 49,
   "metadata": {},
   "outputs": [],
   "source": [
    "def remove_characters_before_tokenization(sentence,keep_apostrophes=False):\n",
    "    sentence=sentence.strip()#an array of characters can be added which need to be removed\n",
    "    if keep_apostrophes:\n",
    "        PATTERN=r'[?|$|&|*|%|@|(|)|~]'\n",
    "        filtered_sentence=re.sub(PATTERN,r'',sentence)\n",
    "    else:\n",
    "        PATTERN=r'[^0-9a-zA-Z ]'\n",
    "        filtered_sentence=re.sub(PATTERN,r'',sentence)\n",
    "    return filtered_sentence"
   ]
  },
  {
   "cell_type": "code",
   "execution_count": 50,
   "metadata": {},
   "outputs": [
    {
     "data": {
      "text/plain": [
       "['The brown fox wasnt that quick and he couldnt win the race',\n",
       " 'Hey thats a great deal I just bought a phone for 199',\n",
       " 'Youll learn a lot in the book Python is an amazing language']"
      ]
     },
     "execution_count": 50,
     "metadata": {},
     "output_type": "execute_result"
    }
   ],
   "source": [
    "filtered_list=[remove_characters_before_tokenization(sentence) for sentence in corpus]\n",
    "filtered_list"
   ]
  },
  {
   "cell_type": "code",
   "execution_count": 53,
   "metadata": {},
   "outputs": [
    {
     "data": {
      "text/plain": [
       "[\"The brown fox wasn't that quick and he couldn't win the race\",\n",
       " \"Hey that's a great deal! I just bought a phone for 199\",\n",
       " \"You'll learn a lot in the book. Python is an amazing language!\"]"
      ]
     },
     "execution_count": 53,
     "metadata": {},
     "output_type": "execute_result"
    }
   ],
   "source": [
    "cleaned_corpus=[remove_characters_before_tokenization(sentence,keep_apostrophes=True) for sentence in corpus]\n",
    "cleaned_corpus"
   ]
  },
  {
   "cell_type": "markdown",
   "metadata": {},
   "source": [
    "** Contraction Map **\n",
    "* The below contraction map has lot of contractions and their expanded forms and can be used for replacing the contractions."
   ]
  },
  {
   "cell_type": "code",
   "execution_count": 52,
   "metadata": {},
   "outputs": [],
   "source": [
    "CONTRACTION_MAP = {\n",
    "\"ain't\": \"is not\",\n",
    "\"aren't\": \"are not\",\n",
    "\"can't\": \"cannot\",\n",
    "\"can't've\": \"cannot have\",\n",
    "\"'cause\": \"because\",\n",
    "\"could've\": \"could have\",\n",
    "\"couldn't\": \"could not\",\n",
    "\"couldn't've\": \"could not have\",\n",
    "\"didn't\": \"did not\",\n",
    "\"doesn't\": \"does not\",\n",
    "\"don't\": \"do not\",\n",
    "\"hadn't\": \"had not\",\n",
    "\"hadn't've\": \"had not have\",\n",
    "\"hasn't\": \"has not\",\n",
    "\"haven't\": \"have not\",\n",
    "\"he'd\": \"he would\",\n",
    "\"he'd've\": \"he would have\",\n",
    "\"he'll\": \"he will\",\n",
    "\"he'll've\": \"he he will have\",\n",
    "\"he's\": \"he is\",\n",
    "\"how'd\": \"how did\",\n",
    "\"how'd'y\": \"how do you\",\n",
    "\"how'll\": \"how will\",\n",
    "\"how's\": \"how is\",\n",
    "\"I'd\": \"I would\",\n",
    "\"I'd've\": \"I would have\",\n",
    "\"I'll\": \"I will\",\n",
    "\"I'll've\": \"I will have\",\n",
    "\"I'm\": \"I am\",\n",
    "\"I've\": \"I have\",\n",
    "\"i'd\": \"i would\",\n",
    "\"i'd've\": \"i would have\",\n",
    "\"i'll\": \"i will\",\n",
    "\"i'll've\": \"i will have\",\n",
    "\"i'm\": \"i am\",\n",
    "\"i've\": \"i have\",\n",
    "\"isn't\": \"is not\",\n",
    "\"it'd\": \"it would\",\n",
    "\"it'd've\": \"it would have\",\n",
    "\"it'll\": \"it will\",\n",
    "\"it'll've\": \"it will have\",\n",
    "\"it's\": \"it is\",\n",
    "\"let's\": \"let us\",\n",
    "\"ma'am\": \"madam\",\n",
    "\"mayn't\": \"may not\",\n",
    "\"might've\": \"might have\",\n",
    "\"mightn't\": \"might not\",\n",
    "\"mightn't've\": \"might not have\",\n",
    "\"must've\": \"must have\",\n",
    "\"mustn't\": \"must not\",\n",
    "\"mustn't've\": \"must not have\",\n",
    "\"needn't\": \"need not\",\n",
    "\"needn't've\": \"need not have\",\n",
    "\"o'clock\": \"of the clock\",\n",
    "\"oughtn't\": \"ought not\",\n",
    "\"oughtn't've\": \"ought not have\",\n",
    "\"shan't\": \"shall not\",\n",
    "\"sha'n't\": \"shall not\",\n",
    "\"shan't've\": \"shall not have\",\n",
    "\"she'd\": \"she would\",\n",
    "\"she'd've\": \"she would have\",\n",
    "\"she'll\": \"she will\",\n",
    "\"she'll've\": \"she will have\",\n",
    "\"she's\": \"she is\",\n",
    "\"should've\": \"should have\",\n",
    "\"shouldn't\": \"should not\",\n",
    "\"shouldn't've\": \"should not have\",\n",
    "\"so've\": \"so have\",\n",
    "\"so's\": \"so as\",\n",
    "\"that'd\": \"that would\",\n",
    "\"that'd've\": \"that would have\",\n",
    "\"that's\": \"that is\",\n",
    "\"there'd\": \"there would\",\n",
    "\"there'd've\": \"there would have\",\n",
    "\"there's\": \"there is\",\n",
    "\"they'd\": \"they would\",\n",
    "\"they'd've\": \"they would have\",\n",
    "\"they'll\": \"they will\",\n",
    "\"they'll've\": \"they will have\",\n",
    "\"they're\": \"they are\",\n",
    "\"they've\": \"they have\",\n",
    "\"to've\": \"to have\",\n",
    "\"wasn't\": \"was not\",\n",
    "\"we'd\": \"we would\",\n",
    "\"we'd've\": \"we would have\",\n",
    "\"we'll\": \"we will\",\n",
    "\"we'll've\": \"we will have\",\n",
    "\"we're\": \"we are\",\n",
    "\"we've\": \"we have\",\n",
    "\"weren't\": \"were not\",\n",
    "\"what'll\": \"what will\",\n",
    "\"what'll've\": \"what will have\",\n",
    "\"what're\": \"what are\",\n",
    "\"what's\": \"what is\",\n",
    "\"what've\": \"what have\",\n",
    "\"when's\": \"when is\",\n",
    "\"when've\": \"when have\",\n",
    "\"where'd\": \"where did\",\n",
    "\"where's\": \"where is\",\n",
    "\"where've\": \"where have\",\n",
    "\"who'll\": \"who will\",\n",
    "\"who'll've\": \"who will have\",\n",
    "\"who's\": \"who is\",\n",
    "\"who've\": \"who have\",\n",
    "\"why's\": \"why is\",\n",
    "\"why've\": \"why have\",\n",
    "\"will've\": \"will have\",\n",
    "\"won't\": \"will not\",\n",
    "\"won't've\": \"will not have\",\n",
    "\"would've\": \"would have\",\n",
    "\"wouldn't\": \"would not\",\n",
    "\"wouldn't've\": \"would not have\",\n",
    "\"y'all\": \"you all\",\n",
    "\"y'all'd\": \"you all would\",\n",
    "\"y'all'd've\": \"you all would have\",\n",
    "\"y'all're\": \"you all are\",\n",
    "\"y'all've\": \"you all have\",\n",
    "\"you'd\": \"you would\",\n",
    "\"you'd've\": \"you would have\",\n",
    "\"you'll\": \"you will\",\n",
    "\"you'll've\": \"you will have\",\n",
    "\"you're\": \"you are\",\n",
    "\"you've\": \"you have\"\n",
    "}"
   ]
  },
  {
   "cell_type": "code",
   "execution_count": 60,
   "metadata": {},
   "outputs": [],
   "source": [
    "def expand_contractions(sentence,contraction_map):\n",
    "    contraction_pattern=re.compile('({})'.format('|'.join(contraction_map.keys())),flags=re.IGNORECASE|re.DOTALL)\n",
    "    def expand_match(contraction):\n",
    "        match=contraction.group()\n",
    "        firstchar=match[0]#Taking out the first character to retain the capitalisation if any of the character\n",
    "        expanded_contraction=contraction_map.get(match)\\\n",
    "                              if contraction_map.get(match)\\\n",
    "                              else contraction_map.get(match.lower())\n",
    "        expanded_contraction=firstchar+expanded_contraction[1:]\n",
    "        return expanded_contraction\n",
    "    expand_sentence=contraction_pattern.sub(expand_match,sentence)\n",
    "    return expand_sentence"
   ]
  },
  {
   "cell_type": "code",
   "execution_count": 62,
   "metadata": {},
   "outputs": [
    {
     "data": {
      "text/plain": [
       "['The brown fox was not that quick and he could not win the race',\n",
       " 'Hey that is a great deal! I just bought a phone for 199',\n",
       " 'You will learn a lot in the book. Python is an amazing language!']"
      ]
     },
     "execution_count": 62,
     "metadata": {},
     "output_type": "execute_result"
    }
   ],
   "source": [
    "expanded_corpus = [expand_contractions(sentence,CONTRACTION_MAP) for sentence in cleaned_corpus]\n",
    "expanded_corpus"
   ]
  },
  {
   "cell_type": "markdown",
   "metadata": {},
   "source": [
    "**Case Conversion**\n",
    "* upper() and lower() functions can be used."
   ]
  },
  {
   "cell_type": "code",
   "execution_count": 64,
   "metadata": {},
   "outputs": [
    {
     "data": {
      "text/plain": [
       "\"the brown fox wasn't that quick and he couldn't win the race\""
      ]
     },
     "execution_count": 64,
     "metadata": {},
     "output_type": "execute_result"
    }
   ],
   "source": [
    "corpus[0].lower()"
   ]
  },
  {
   "cell_type": "markdown",
   "metadata": {},
   "source": [
    "** Removing StopWords **\n",
    "* Stop words are as a,the,me etc.. which appear a lot in text\n",
    "* These stop words can be used from the nltk library nltk.corpus.stopwords.words(\"english\")"
   ]
  },
  {
   "cell_type": "code",
   "execution_count": 65,
   "metadata": {},
   "outputs": [],
   "source": [
    "def remove_stopwords(tokens):\n",
    "    stopwords_list=nltk.corpus.stopwords.words(\"english\")\n",
    "    filtered_tokens=[token for token in tokens if token not in stopwords_list]\n",
    "    return filtered_tokens"
   ]
  },
  {
   "cell_type": "code",
   "execution_count": 70,
   "metadata": {},
   "outputs": [
    {
     "data": {
      "text/plain": [
       "[[['The',\n",
       "   'brown',\n",
       "   'fox',\n",
       "   'was',\n",
       "   \"n't\",\n",
       "   'that',\n",
       "   'quick',\n",
       "   'and',\n",
       "   'he',\n",
       "   'could',\n",
       "   \"n't\",\n",
       "   'win',\n",
       "   'the',\n",
       "   'race']],\n",
       " [['Hey', 'that', \"'s\", 'a', 'great', 'deal', '!'],\n",
       "  ['I', 'just', 'bought', 'a', 'phone', 'for', '199']],\n",
       " [['You', \"'ll\", 'learn', 'a', 'lot', 'in', 'the', 'book', '.'],\n",
       "  ['Python', 'is', 'an', 'amazing', 'language', '!']]]"
      ]
     },
     "execution_count": 70,
     "metadata": {},
     "output_type": "execute_result"
    }
   ],
   "source": [
    "expanded_corpus_tokens=[tokenize_text(text) for text in cleaned_corpus]\n",
    "expanded_corpus_tokens_wo_stopws=[[remove_stopwords(tokens) for tokens in sentence_tokens] for sentence_tokens in expanded_corpus_tokens]\n",
    "expanded_corpus_tokens"
   ]
  }
 ],
 "metadata": {
  "kernelspec": {
   "display_name": "Python 3",
   "language": "python",
   "name": "python3"
  },
  "language_info": {
   "codemirror_mode": {
    "name": "ipython",
    "version": 3
   },
   "file_extension": ".py",
   "mimetype": "text/x-python",
   "name": "python",
   "nbconvert_exporter": "python",
   "pygments_lexer": "ipython3",
   "version": "3.6.4"
  }
 },
 "nbformat": 4,
 "nbformat_minor": 2
}
