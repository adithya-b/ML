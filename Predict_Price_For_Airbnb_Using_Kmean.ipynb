{
 "cells": [
  {
   "cell_type": "code",
   "execution_count": 2,
   "metadata": {},
   "outputs": [
    {
     "name": "stdout",
     "output_type": "stream",
     "text": [
      "Index(['accommodates', 'bedrooms', 'bathrooms', 'beds', 'price',\n",
      "       'minimum_nights', 'maximum_nights', 'number_of_reviews'],\n",
      "      dtype='object')\n",
      "(3723, 8)\n",
      "(3671, 8)\n",
      "   accommodates  bedrooms  bathrooms  beds  price  minimum_nights  \\\n",
      "0             4       1.0        1.0   2.0  160.0               1   \n",
      "1             6       3.0        3.0   3.0  350.0               2   \n",
      "2             1       1.0        2.0   1.0   50.0               2   \n",
      "3             2       1.0        1.0   1.0   95.0               1   \n",
      "4             4       1.0        1.0   1.0   50.0               7   \n",
      "\n",
      "   maximum_nights  number_of_reviews  \n",
      "0            1125                  0  \n",
      "1              30                 65  \n",
      "2            1125                  1  \n",
      "3            1125                  0  \n",
      "4            1125                  0  \n"
     ]
    }
   ],
   "source": [
    "import pandas as pd\n",
    "fulldata=pd.read_csv(\"listings.csv\")\n",
    "\n",
    "dc_listings=fulldata[[\"accommodates\",\"bedrooms\",\"bathrooms\",\"beds\",\"price\",\"minimum_nights\",\"maximum_nights\",\"number_of_reviews\"]]\n",
    "print(dc_listings.columns)\n",
    "print(dc_listings.shape)\n",
    "\n",
    "def stripped_commas(x):\n",
    "    x=x.replace(\"$\",\"\")\n",
    "    x=x.replace(\",\",\"\")\n",
    "    return float(x)\n",
    "\n",
    "\n",
    "dc_listings=dc_listings.dropna(axis=0,subset=[\"accommodates\",\"bedrooms\",\"beds\",\"bathrooms\",\"price\"])\n",
    "\n",
    "dc_listings[\"price\"]=dc_listings[\"price\"].apply(stripped_commas)\n",
    "prices=dc_listings[\"price\"]\n",
    "#dc_listings=(dc_listings-dc_listings.mean())/dc_listings.std()\n",
    "dc_listings[\"price\"]=prices\n",
    "print(dc_listings.shape)\n",
    "print(dc_listings.iloc[0:5])"
   ]
  },
  {
   "cell_type": "code",
   "execution_count": 3,
   "metadata": {},
   "outputs": [
    {
     "name": "stdout",
     "output_type": "stream",
     "text": [
      "(2792, 8)\n",
      "(879, 8)\n"
     ]
    }
   ],
   "source": [
    "import string\n",
    "import numpy as np\n",
    "from scipy.spatial import distance\n",
    "\n",
    "def distance(x,param):\n",
    "    return abs(x-param)\n",
    "\n",
    "def getdistance(dc_listings,new_listing,dimensions):\n",
    "    distance_series=pd.Series(np.zeros(len(dc_listings.index)))\n",
    "    for key in dimensions:\n",
    "        new_series=dc_listings[key].apply(distance,param=new_listing.get(key)).copy()\n",
    "        distance_series=np.add(distance_series,new_series)\n",
    "    return distance_series\n",
    "\n",
    "def predict_price(row):        \n",
    "    np.random.seed(1)\n",
    "    temp_df=train_df.copy()\n",
    "    temp_df[\"distance\"]=getdistance(temp_df,row,dimensions).copy()\n",
    "    temp_df=temp_df.loc[np.random.permutation(len(dc_listings.index))]\n",
    "    temp_df=temp_df.sort_values([\"distance\"]).copy()\n",
    "    mean_price=np.mean(temp_df[\"price\"][0:5])\n",
    "    return mean_price  \n",
    "    \n",
    "   \n",
    "\n",
    "\n",
    "train_df=dc_listings[0:2792].copy()\n",
    "test_df=dc_listings[2792:].copy()\n",
    "print(train_df.shape)\n",
    "print(test_df.shape)"
   ]
  },
  {
   "cell_type": "code",
   "execution_count": 4,
   "metadata": {},
   "outputs": [
    {
     "name": "stdout",
     "output_type": "stream",
     "text": [
      "151.337240957\n"
     ]
    }
   ],
   "source": [
    "new_lisiting={\"accommodates\":5,\"bedrooms\":5.0,\"bathrooms\":1.5,\"beds\":5,\"latitude\":38.890046,\"longitude\":-77.002808 }\n",
    "\n",
    "dimensions=[\"bathrooms\",\"bedrooms\",\"accommodates\",\"beds\",\"minimum_nights\",\"maximum_nights\",\"number_of_reviews\"]\n",
    "test_df[\"predict_price\"]=test_df.apply(predict_price,axis=1)\n",
    "test_df[\"squared_error\"]=(test_df[\"predict_price\"]-test_df[\"price\"])**2\n",
    "mse = test_df['squared_error'].mean()\n",
    "rmse=np.sqrt(mse)\n",
    "print(rmse)"
   ]
  },
  {
   "cell_type": "code",
   "execution_count": 5,
   "metadata": {},
   "outputs": [
    {
     "name": "stdout",
     "output_type": "stream",
     "text": [
      "105.820143983\n"
     ]
    }
   ],
   "source": [
    "import sklearn.neighbors as skn\n",
    "import sklearn.metrics as metric\n",
    "import numpy as np\n",
    "hyper_params=list(range(21))\n",
    "mse_values=[]\n",
    "hyper_params.remove(0)\n",
    "for i in hyper_params:\n",
    "    knn= skn.KNeighborsRegressor(n_neighbors=i)\n",
    "    dimensions=[\"bathrooms\",\"bedrooms\",\"accommodates\",\"beds\",\"minimum_nights\",\"maximum_nights\",\"number_of_reviews\"]\n",
    "    dimensions=list(dc_listings.columns)\n",
    "    dimensions.remove(\"price\")\n",
    "    train_df=dc_listings[0:2792].copy()\n",
    "    test_df=dc_listings[2792:].copy()\n",
    "    train_features=train_df.loc[:][dimensions]\n",
    "    test_features=test_df.loc[:][dimensions]\n",
    "    train_target=train_df.loc[:][\"price\"]\n",
    "    test_target=test_df.loc[:][\"price\"]\n",
    "    knn.fit(train_features,train_target)\n",
    "    predictions=knn.predict(test_features)\n",
    "    rmse=np.sqrt(metric.mean_squared_error(test_target,predictions))\n",
    "    mse_values.append(rmse)\n",
    "print(np.min(mse_values))    "
   ]
  },
  {
   "cell_type": "code",
   "execution_count": 6,
   "metadata": {},
   "outputs": [
    {
     "data": {
      "image/png": "[encoded data removed]",
      "text/plain": [
       "<matplotlib.figure.Figure at 0x7f2bc93f69e8>"
      ]
     },
     "metadata": {},
     "output_type": "display_data"
    }
   ],
   "source": [
    "%matplotlib inline\n",
    "import matplotlib.pyplot as plt\n",
    "fig,ax=plt.subplots()\n",
    "ax.scatter(hyper_params,mse_values)\n",
    "plt.show()"
   ]
  }
 ],
 "metadata": {
  "kernelspec": {
   "display_name": "Python 3",
   "language": "python",
   "name": "python3"
  },
  "language_info": {
   "codemirror_mode": {
    "name": "ipython",
    "version": 3
   },
   "file_extension": ".py",
   "mimetype": "text/x-python",
   "name": "python",
   "nbconvert_exporter": "python",
   "pygments_lexer": "ipython3",
   "version": "3.6.1"
  }
 },
 "nbformat": 4,
 "nbformat_minor": 2
}
