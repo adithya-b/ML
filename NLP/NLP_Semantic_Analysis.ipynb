{
 "cells": [
  {
   "cell_type": "code",
   "execution_count": 1,
   "metadata": {},
   "outputs": [],
   "source": [
    "from nltk.corpus import wordnet as wn\n",
    "import pandas as pd"
   ]
  },
  {
   "cell_type": "code",
   "execution_count": 4,
   "metadata": {},
   "outputs": [
    {
     "name": "stdout",
     "output_type": "stream",
     "text": [
      "Synset('fruit.n.01')\n",
      "noun.plant\n",
      "the ripened reproductive body of a seed plant\n",
      "['fruit']\n",
      "[]\n",
      "Synset('yield.n.03')\n",
      "noun.artifact\n",
      "an amount of a product\n",
      "['yield', 'fruit']\n",
      "[]\n",
      "Synset('fruit.n.03')\n",
      "noun.event\n",
      "the consequence of some effort or action\n",
      "['fruit']\n",
      "['he lived long enough to see the fruit of his policies']\n",
      "Synset('fruit.v.01')\n",
      "verb.creation\n",
      "cause to bear fruit\n",
      "['fruit']\n",
      "[]\n",
      "Synset('fruit.v.02')\n",
      "verb.creation\n",
      "bear fruit\n",
      "['fruit']\n",
      "['the trees fruited early this year']\n"
     ]
    }
   ],
   "source": [
    "term=\"fruit\"\n",
    "synsets=wn.synsets(term)\n",
    "for synset in synsets:\n",
    "    print(synset)\n",
    "    print(synset.lexname())\n",
    "    print(synset.definition())\n",
    "    print(synset.lemma_names())\n",
    "    print(synset.examples())"
   ]
  },
  {
   "cell_type": "markdown",
   "metadata": {},
   "source": [
    "**Entailments**\n",
    "* The entailment usually refers to some action or event that logically involves or is associated with some other action that has taken place or will take place.\n",
    "* For example chew->swallow->eat;consume->digest"
   ]
  },
  {
   "cell_type": "code",
   "execution_count": 7,
   "metadata": {},
   "outputs": [
    {
     "name": "stdout",
     "output_type": "stream",
     "text": [
      "Synset('walk.v.01') entails: [Synset('step.v.01')]\n",
      "Synset('eat.v.01') entails: [Synset('chew.v.01'), Synset('swallow.v.01')]\n",
      "Synset('digest.v.01') entails: [Synset('consume.v.02')]\n"
     ]
    }
   ],
   "source": [
    "for action in [\"walk\",\"eat\",\"digest\"]:\n",
    "    action_sn=wn.synsets(action,pos=\"v\")[0]\n",
    "    print(action_sn,\"entails:\",action_sn.entailments())"
   ]
  },
  {
   "cell_type": "markdown",
   "metadata": {},
   "source": [
    "**Homonyms**\n",
    "* Refers to words with same pronounciation or form but different meanings.\n",
    "\n",
    "**Homographs**\n",
    "* Refers to words with same spelling but may have different pronounciation or meaning.Subset of Homonyms"
   ]
  },
  {
   "cell_type": "code",
   "execution_count": 10,
   "metadata": {},
   "outputs": [
    {
     "name": "stdout",
     "output_type": "stream",
     "text": [
      "bank.n.01 sloping land (especially the slope beside a body of water)\n",
      "depository_financial_institution.n.01 a financial institution that accepts deposits and channels the money into lending activities\n",
      "bank.n.03 a long ridge or pile\n",
      "bank.n.04 an arrangement of similar objects in a row or in tiers\n",
      "bank.n.05 a supply or stock held in reserve for future use (especially in emergencies)\n",
      "bank.n.06 the funds held by a gambling house or the dealer in some gambling games\n",
      "bank.n.07 a slope in the turn of a road or track; the outside is higher than the inside in order to reduce the effects of centrifugal force\n",
      "savings_bank.n.02 a container (usually with a slot in the top) for keeping money at home\n",
      "bank.n.09 a building in which the business of banking transacted\n",
      "bank.n.10 a flight maneuver; aircraft tips laterally about its longitudinal axis (especially in turning)\n",
      "bank.v.01 tip laterally\n",
      "bank.v.02 enclose with a bank\n",
      "bank.v.03 do business with a bank or keep an account at a bank\n",
      "bank.v.04 act as the banker in a game or in gambling\n",
      "bank.v.05 be in the banking business\n",
      "deposit.v.02 put into a bank account\n",
      "bank.v.07 cover with ashes so to control the rate of burning\n",
      "trust.v.01 have confidence or faith in\n"
     ]
    }
   ],
   "source": [
    "for synset in wn.synsets(\"bank\"):\n",
    "    print(synset.name(),synset.definition())"
   ]
  },
  {
   "cell_type": "code",
   "execution_count": null,
   "metadata": {},
   "outputs": [],
   "source": []
  }
 ],
 "metadata": {
  "kernelspec": {
   "display_name": "Python 3",
   "language": "python",
   "name": "python3"
  },
  "language_info": {
   "codemirror_mode": {
    "name": "ipython",
    "version": 3
   },
   "file_extension": ".py",
   "mimetype": "text/x-python",
   "name": "python",
   "nbconvert_exporter": "python",
   "pygments_lexer": "ipython3",
   "version": "3.6.4"
  }
 },
 "nbformat": 4,
 "nbformat_minor": 2
}
